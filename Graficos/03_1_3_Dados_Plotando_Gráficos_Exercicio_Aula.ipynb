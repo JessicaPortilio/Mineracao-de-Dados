{
  "cells": [
    {
      "cell_type": "markdown",
      "metadata": {
        "id": "MC93OXo-S0fO"
      },
      "source": [
        "# Disciplina de Mineração de Dados\n",
        "\n",
        "## Plotando Gráficos\n",
        "\n",
        "Universidade Federal de Sergipe, Campus Prof. Alberto Carvalho - Itabaiana\n",
        "\n",
        "Professores:\n",
        "\n",
        "- Raphael Silva Fontes\n",
        "\n",
        "- Prof. Dr. Methanias Colaço Rodrigues Júnior"
      ]
    },
    {
      "cell_type": "code",
      "execution_count": null,
      "metadata": {
        "id": "Z8owEbqzS0fQ"
      },
      "outputs": [],
      "source": [
        "import pandas as pd\n",
        "import plotly.graph_objects as go"
      ]
    },
    {
      "cell_type": "code",
      "execution_count": null,
      "metadata": {
        "id": "INHCKfR8S0fY"
      },
      "outputs": [],
      "source": [
        "df = pd.read_csv('brazil_covid19_cities.csv')"
      ]
    },
    {
      "cell_type": "code",
      "execution_count": null,
      "metadata": {
        "id": "uCtjpUyIS0fZ",
        "outputId": "899d3b6c-0966-4c59-f0bf-a30ffe932c7b"
      },
      "outputs": [
        {
          "data": {
            "text/html": [
              "<div>\n",
              "<style scoped>\n",
              "    .dataframe tbody tr th:only-of-type {\n",
              "        vertical-align: middle;\n",
              "    }\n",
              "\n",
              "    .dataframe tbody tr th {\n",
              "        vertical-align: top;\n",
              "    }\n",
              "\n",
              "    .dataframe thead th {\n",
              "        text-align: right;\n",
              "    }\n",
              "</style>\n",
              "<table border=\"1\" class=\"dataframe\">\n",
              "  <thead>\n",
              "    <tr style=\"text-align: right;\">\n",
              "      <th></th>\n",
              "      <th>date</th>\n",
              "      <th>state</th>\n",
              "      <th>name</th>\n",
              "      <th>code</th>\n",
              "      <th>cases</th>\n",
              "      <th>deaths</th>\n",
              "    </tr>\n",
              "  </thead>\n",
              "  <tbody>\n",
              "    <tr>\n",
              "      <th>0</th>\n",
              "      <td>2020-03-27</td>\n",
              "      <td>AC</td>\n",
              "      <td>Acrelândia</td>\n",
              "      <td>120001.0</td>\n",
              "      <td>0</td>\n",
              "      <td>0</td>\n",
              "    </tr>\n",
              "    <tr>\n",
              "      <th>1</th>\n",
              "      <td>2020-03-27</td>\n",
              "      <td>AC</td>\n",
              "      <td>Assis Brasil</td>\n",
              "      <td>120005.0</td>\n",
              "      <td>0</td>\n",
              "      <td>0</td>\n",
              "    </tr>\n",
              "    <tr>\n",
              "      <th>2</th>\n",
              "      <td>2020-03-27</td>\n",
              "      <td>AC</td>\n",
              "      <td>Brasiléia</td>\n",
              "      <td>120010.0</td>\n",
              "      <td>0</td>\n",
              "      <td>0</td>\n",
              "    </tr>\n",
              "    <tr>\n",
              "      <th>3</th>\n",
              "      <td>2020-03-27</td>\n",
              "      <td>AC</td>\n",
              "      <td>Bujari</td>\n",
              "      <td>120013.0</td>\n",
              "      <td>0</td>\n",
              "      <td>0</td>\n",
              "    </tr>\n",
              "    <tr>\n",
              "      <th>4</th>\n",
              "      <td>2020-03-27</td>\n",
              "      <td>AC</td>\n",
              "      <td>Capixaba</td>\n",
              "      <td>120017.0</td>\n",
              "      <td>0</td>\n",
              "      <td>0</td>\n",
              "    </tr>\n",
              "  </tbody>\n",
              "</table>\n",
              "</div>"
            ],
            "text/plain": [
              "         date state          name      code  cases  deaths\n",
              "0  2020-03-27    AC    Acrelândia  120001.0      0       0\n",
              "1  2020-03-27    AC  Assis Brasil  120005.0      0       0\n",
              "2  2020-03-27    AC     Brasiléia  120010.0      0       0\n",
              "3  2020-03-27    AC        Bujari  120013.0      0       0\n",
              "4  2020-03-27    AC      Capixaba  120017.0      0       0"
            ]
          },
          "execution_count": 4,
          "metadata": {},
          "output_type": "execute_result"
        }
      ],
      "source": [
        "df.head()"
      ]
    },
    {
      "cell_type": "code",
      "execution_count": null,
      "metadata": {
        "id": "V-lyTIJYS0fa",
        "outputId": "15683fa8-c385-4bb8-d19b-855b36f5eb9b"
      },
      "outputs": [
        {
          "name": "stdout",
          "output_type": "stream",
          "text": [
            "<class 'pandas.core.frame.DataFrame'>\n",
            "RangeIndex: 1297810 entries, 0 to 1297809\n",
            "Data columns (total 6 columns):\n",
            " #   Column  Non-Null Count    Dtype  \n",
            "---  ------  --------------    -----  \n",
            " 0   date    1297810 non-null  object \n",
            " 1   state   1297810 non-null  object \n",
            " 2   name    1297810 non-null  object \n",
            " 3   code    1297810 non-null  float64\n",
            " 4   cases   1297810 non-null  int64  \n",
            " 5   deaths  1297810 non-null  int64  \n",
            "dtypes: float64(1), int64(2), object(3)\n",
            "memory usage: 59.4+ MB\n"
          ]
        }
      ],
      "source": [
        "df.info()"
      ]
    },
    {
      "cell_type": "code",
      "execution_count": null,
      "metadata": {
        "id": "j5PaPJ4tS0fa",
        "outputId": "7a83907a-c9c4-4ded-ab67-b82e641c7ff2"
      },
      "outputs": [
        {
          "data": {
            "text/plain": [
              "array(['AC', 'AL', 'AM', 'AP', 'BA', 'CE', 'DF', 'ES', 'GO', 'MA', 'MG',\n",
              "       'MS', 'MT', 'PA', 'PB', 'PE', 'PI', 'PR', 'RJ', 'RN', 'RO', 'RR',\n",
              "       'RS', 'SC', 'SE', 'SP', 'TO'], dtype=object)"
            ]
          },
          "execution_count": 6,
          "metadata": {},
          "output_type": "execute_result"
        }
      ],
      "source": [
        "df['state'].unique()"
      ]
    },
    {
      "cell_type": "code",
      "execution_count": null,
      "metadata": {
        "id": "qSn6DiqsS0fb"
      },
      "outputs": [],
      "source": [
        "df_sergipe = df.loc[df['state'] == 'SE']"
      ]
    },
    {
      "cell_type": "code",
      "execution_count": null,
      "metadata": {
        "id": "IfoDCvGkS0fb",
        "outputId": "220531e7-6d32-48c8-a865-395bf37ca7d2"
      },
      "outputs": [
        {
          "data": {
            "text/html": [
              "<div>\n",
              "<style scoped>\n",
              "    .dataframe tbody tr th:only-of-type {\n",
              "        vertical-align: middle;\n",
              "    }\n",
              "\n",
              "    .dataframe tbody tr th {\n",
              "        vertical-align: top;\n",
              "    }\n",
              "\n",
              "    .dataframe thead th {\n",
              "        text-align: right;\n",
              "    }\n",
              "</style>\n",
              "<table border=\"1\" class=\"dataframe\">\n",
              "  <thead>\n",
              "    <tr style=\"text-align: right;\">\n",
              "      <th></th>\n",
              "      <th>date</th>\n",
              "      <th>state</th>\n",
              "      <th>name</th>\n",
              "      <th>code</th>\n",
              "      <th>cases</th>\n",
              "      <th>deaths</th>\n",
              "    </tr>\n",
              "  </thead>\n",
              "  <tbody>\n",
              "    <tr>\n",
              "      <th>4711</th>\n",
              "      <td>2020-03-27</td>\n",
              "      <td>SE</td>\n",
              "      <td>Amparo de São Francisco</td>\n",
              "      <td>280010.0</td>\n",
              "      <td>0</td>\n",
              "      <td>0</td>\n",
              "    </tr>\n",
              "    <tr>\n",
              "      <th>4712</th>\n",
              "      <td>2020-03-27</td>\n",
              "      <td>SE</td>\n",
              "      <td>Aquidabã</td>\n",
              "      <td>280020.0</td>\n",
              "      <td>0</td>\n",
              "      <td>0</td>\n",
              "    </tr>\n",
              "    <tr>\n",
              "      <th>4713</th>\n",
              "      <td>2020-03-27</td>\n",
              "      <td>SE</td>\n",
              "      <td>Aracaju</td>\n",
              "      <td>280030.0</td>\n",
              "      <td>0</td>\n",
              "      <td>0</td>\n",
              "    </tr>\n",
              "    <tr>\n",
              "      <th>4714</th>\n",
              "      <td>2020-03-27</td>\n",
              "      <td>SE</td>\n",
              "      <td>Arauá</td>\n",
              "      <td>280040.0</td>\n",
              "      <td>0</td>\n",
              "      <td>0</td>\n",
              "    </tr>\n",
              "    <tr>\n",
              "      <th>4715</th>\n",
              "      <td>2020-03-27</td>\n",
              "      <td>SE</td>\n",
              "      <td>Areia Branca</td>\n",
              "      <td>280050.0</td>\n",
              "      <td>0</td>\n",
              "      <td>0</td>\n",
              "    </tr>\n",
              "  </tbody>\n",
              "</table>\n",
              "</div>"
            ],
            "text/plain": [
              "            date state                     name      code  cases  deaths\n",
              "4711  2020-03-27    SE  Amparo de São Francisco  280010.0      0       0\n",
              "4712  2020-03-27    SE                 Aquidabã  280020.0      0       0\n",
              "4713  2020-03-27    SE                  Aracaju  280030.0      0       0\n",
              "4714  2020-03-27    SE                    Arauá  280040.0      0       0\n",
              "4715  2020-03-27    SE             Areia Branca  280050.0      0       0"
            ]
          },
          "execution_count": 8,
          "metadata": {},
          "output_type": "execute_result"
        }
      ],
      "source": [
        "df_sergipe.head()"
      ]
    },
    {
      "cell_type": "code",
      "execution_count": null,
      "metadata": {
        "id": "OrKXa5IxS0fb",
        "outputId": "d9c6ee8b-8069-4f50-b039-033db9296957"
      },
      "outputs": [
        {
          "data": {
            "text/plain": [
              "array(['Amparo de São Francisco', 'Aquidabã', 'Aracaju', 'Arauá',\n",
              "       'Areia Branca', 'Barra dos Coqueiros', 'Boquim', 'Brejo Grande',\n",
              "       'Campo do Brito', 'Canhoba', 'Canindé de São Francisco', 'Capela',\n",
              "       'Carira', 'Carmópolis', 'Cedro de São João', 'Cristinápolis',\n",
              "       'Cumbe', 'Divina Pastora', 'Estância', 'Feira Nova', 'Frei Paulo',\n",
              "       'Gararu', 'General Maynard', 'Gracho Cardoso', 'Ilha das Flores',\n",
              "       'Indiaroba', 'Itabaiana', 'Itabaianinha', 'Itabi',\n",
              "       \"Itaporanga d'Ajuda\", 'Japaratuba', 'Japoatã', 'Lagarto',\n",
              "       'Laranjeiras', 'Macambira', 'Malhada dos Bois', 'Malhador',\n",
              "       'Maruim', 'Moita Bonita', 'Monte Alegre de Sergipe', 'Muribeca',\n",
              "       'Neópolis', 'Nossa Senhora Aparecida', 'Nossa Senhora da Glória',\n",
              "       'Nossa Senhora das Dores', 'Nossa Senhora de Lourdes',\n",
              "       'Nossa Senhora do Socorro', 'Pacatuba', 'Pedra Mole', 'Pedrinhas',\n",
              "       'Pinhão', 'Pirambu', 'Poço Redondo', 'Poço Verde',\n",
              "       'Porto da Folha', 'Propriá', 'Riachão do Dantas', 'Riachuelo',\n",
              "       'Ribeirópolis', 'Rosário do Catete', 'Salgado',\n",
              "       'Santa Luzia do Itanhy', 'Santana do São Francisco',\n",
              "       'Santa Rosa de Lima', 'Santo Amaro das Brotas', 'São Cristóvão',\n",
              "       'São Domingos', 'São Francisco', 'São Miguel do Aleixo',\n",
              "       'Simão Dias', 'Siriri', 'Telha', 'Tobias Barreto', 'Tomar do Geru',\n",
              "       'Umbaúba'], dtype=object)"
            ]
          },
          "execution_count": 9,
          "metadata": {},
          "output_type": "execute_result"
        }
      ],
      "source": [
        "df_sergipe['name'].unique()"
      ]
    },
    {
      "cell_type": "code",
      "execution_count": null,
      "metadata": {
        "id": "J5dpx7PVS0fc",
        "outputId": "82002f3a-4955-4b48-aea6-4021aa72a7e2"
      },
      "outputs": [
        {
          "name": "stderr",
          "output_type": "stream",
          "text": [
            "e:\\projetos\\mineracao_dados\\venv\\lib\\site-packages\\ipykernel_launcher.py:1: SettingWithCopyWarning: \n",
            "A value is trying to be set on a copy of a slice from a DataFrame.\n",
            "Try using .loc[row_indexer,col_indexer] = value instead\n",
            "\n",
            "See the caveats in the documentation: https://pandas.pydata.org/pandas-docs/stable/user_guide/indexing.html#returning-a-view-versus-a-copy\n",
            "  \"\"\"Entry point for launching an IPython kernel.\n"
          ]
        }
      ],
      "source": [
        "df_sergipe['mes'] = df_sergipe['date'].apply(lambda row: int(row.split('-')[1]))"
      ]
    },
    {
      "cell_type": "code",
      "execution_count": null,
      "metadata": {
        "id": "J5zMFFmOS0fc",
        "outputId": "b09a0706-3915-4065-e503-c308ae22d79c"
      },
      "outputs": [
        {
          "data": {
            "text/html": [
              "<div>\n",
              "<style scoped>\n",
              "    .dataframe tbody tr th:only-of-type {\n",
              "        vertical-align: middle;\n",
              "    }\n",
              "\n",
              "    .dataframe tbody tr th {\n",
              "        vertical-align: top;\n",
              "    }\n",
              "\n",
              "    .dataframe thead th {\n",
              "        text-align: right;\n",
              "    }\n",
              "</style>\n",
              "<table border=\"1\" class=\"dataframe\">\n",
              "  <thead>\n",
              "    <tr style=\"text-align: right;\">\n",
              "      <th></th>\n",
              "      <th>date</th>\n",
              "      <th>state</th>\n",
              "      <th>name</th>\n",
              "      <th>code</th>\n",
              "      <th>cases</th>\n",
              "      <th>deaths</th>\n",
              "      <th>mes</th>\n",
              "    </tr>\n",
              "  </thead>\n",
              "  <tbody>\n",
              "    <tr>\n",
              "      <th>4711</th>\n",
              "      <td>2020-03-27</td>\n",
              "      <td>SE</td>\n",
              "      <td>Amparo de São Francisco</td>\n",
              "      <td>280010.0</td>\n",
              "      <td>0</td>\n",
              "      <td>0</td>\n",
              "      <td>3</td>\n",
              "    </tr>\n",
              "    <tr>\n",
              "      <th>4712</th>\n",
              "      <td>2020-03-27</td>\n",
              "      <td>SE</td>\n",
              "      <td>Aquidabã</td>\n",
              "      <td>280020.0</td>\n",
              "      <td>0</td>\n",
              "      <td>0</td>\n",
              "      <td>3</td>\n",
              "    </tr>\n",
              "    <tr>\n",
              "      <th>4713</th>\n",
              "      <td>2020-03-27</td>\n",
              "      <td>SE</td>\n",
              "      <td>Aracaju</td>\n",
              "      <td>280030.0</td>\n",
              "      <td>0</td>\n",
              "      <td>0</td>\n",
              "      <td>3</td>\n",
              "    </tr>\n",
              "    <tr>\n",
              "      <th>4714</th>\n",
              "      <td>2020-03-27</td>\n",
              "      <td>SE</td>\n",
              "      <td>Arauá</td>\n",
              "      <td>280040.0</td>\n",
              "      <td>0</td>\n",
              "      <td>0</td>\n",
              "      <td>3</td>\n",
              "    </tr>\n",
              "    <tr>\n",
              "      <th>4715</th>\n",
              "      <td>2020-03-27</td>\n",
              "      <td>SE</td>\n",
              "      <td>Areia Branca</td>\n",
              "      <td>280050.0</td>\n",
              "      <td>0</td>\n",
              "      <td>0</td>\n",
              "      <td>3</td>\n",
              "    </tr>\n",
              "    <tr>\n",
              "      <th>...</th>\n",
              "      <td>...</td>\n",
              "      <td>...</td>\n",
              "      <td>...</td>\n",
              "      <td>...</td>\n",
              "      <td>...</td>\n",
              "      <td>...</td>\n",
              "      <td>...</td>\n",
              "    </tr>\n",
              "    <tr>\n",
              "      <th>1297021</th>\n",
              "      <td>2020-11-14</td>\n",
              "      <td>SE</td>\n",
              "      <td>Siriri</td>\n",
              "      <td>280720.0</td>\n",
              "      <td>398</td>\n",
              "      <td>6</td>\n",
              "      <td>11</td>\n",
              "    </tr>\n",
              "    <tr>\n",
              "      <th>1297022</th>\n",
              "      <td>2020-11-14</td>\n",
              "      <td>SE</td>\n",
              "      <td>Telha</td>\n",
              "      <td>280730.0</td>\n",
              "      <td>230</td>\n",
              "      <td>2</td>\n",
              "      <td>11</td>\n",
              "    </tr>\n",
              "    <tr>\n",
              "      <th>1297023</th>\n",
              "      <td>2020-11-14</td>\n",
              "      <td>SE</td>\n",
              "      <td>Tobias Barreto</td>\n",
              "      <td>280740.0</td>\n",
              "      <td>1668</td>\n",
              "      <td>41</td>\n",
              "      <td>11</td>\n",
              "    </tr>\n",
              "    <tr>\n",
              "      <th>1297024</th>\n",
              "      <td>2020-11-14</td>\n",
              "      <td>SE</td>\n",
              "      <td>Tomar do Geru</td>\n",
              "      <td>280750.0</td>\n",
              "      <td>250</td>\n",
              "      <td>10</td>\n",
              "      <td>11</td>\n",
              "    </tr>\n",
              "    <tr>\n",
              "      <th>1297025</th>\n",
              "      <td>2020-11-14</td>\n",
              "      <td>SE</td>\n",
              "      <td>Umbaúba</td>\n",
              "      <td>280760.0</td>\n",
              "      <td>813</td>\n",
              "      <td>24</td>\n",
              "      <td>11</td>\n",
              "    </tr>\n",
              "  </tbody>\n",
              "</table>\n",
              "<p>17475 rows × 7 columns</p>\n",
              "</div>"
            ],
            "text/plain": [
              "               date state                     name      code  cases  deaths  \\\n",
              "4711     2020-03-27    SE  Amparo de São Francisco  280010.0      0       0   \n",
              "4712     2020-03-27    SE                 Aquidabã  280020.0      0       0   \n",
              "4713     2020-03-27    SE                  Aracaju  280030.0      0       0   \n",
              "4714     2020-03-27    SE                    Arauá  280040.0      0       0   \n",
              "4715     2020-03-27    SE             Areia Branca  280050.0      0       0   \n",
              "...             ...   ...                      ...       ...    ...     ...   \n",
              "1297021  2020-11-14    SE                   Siriri  280720.0    398       6   \n",
              "1297022  2020-11-14    SE                    Telha  280730.0    230       2   \n",
              "1297023  2020-11-14    SE           Tobias Barreto  280740.0   1668      41   \n",
              "1297024  2020-11-14    SE            Tomar do Geru  280750.0    250      10   \n",
              "1297025  2020-11-14    SE                  Umbaúba  280760.0    813      24   \n",
              "\n",
              "         mes  \n",
              "4711       3  \n",
              "4712       3  \n",
              "4713       3  \n",
              "4714       3  \n",
              "4715       3  \n",
              "...      ...  \n",
              "1297021   11  \n",
              "1297022   11  \n",
              "1297023   11  \n",
              "1297024   11  \n",
              "1297025   11  \n",
              "\n",
              "[17475 rows x 7 columns]"
            ]
          },
          "execution_count": 12,
          "metadata": {},
          "output_type": "execute_result"
        }
      ],
      "source": [
        "df_sergipe"
      ]
    },
    {
      "cell_type": "code",
      "execution_count": null,
      "metadata": {
        "id": "6cHQEi9GS0fd"
      },
      "outputs": [],
      "source": [
        "casos_mes = []\n",
        "ultimos_relatorios = df_sergipe.groupby('mes', as_index=False).max()['date']\n",
        "for relatorio in ultimos_relatorios:\n",
        "    cidades = df_sergipe.loc[df_sergipe['date'] == relatorio]\n",
        "    casos_mes.append([relatorio.split('-')[1], cidades['cases'].sum(), cidades['deaths'].sum()])\n",
        "    \n",
        "df_sergipe_mes = pd.DataFrame(data=casos_mes, columns=['mes', 'casos', 'obitos'])"
      ]
    },
    {
      "cell_type": "code",
      "execution_count": null,
      "metadata": {
        "id": "w5b8mTi0S0fd",
        "outputId": "f5af4ea2-48f5-4409-afd0-e0f53d806f19"
      },
      "outputs": [
        {
          "data": {
            "text/html": [
              "<div>\n",
              "<style scoped>\n",
              "    .dataframe tbody tr th:only-of-type {\n",
              "        vertical-align: middle;\n",
              "    }\n",
              "\n",
              "    .dataframe tbody tr th {\n",
              "        vertical-align: top;\n",
              "    }\n",
              "\n",
              "    .dataframe thead th {\n",
              "        text-align: right;\n",
              "    }\n",
              "</style>\n",
              "<table border=\"1\" class=\"dataframe\">\n",
              "  <thead>\n",
              "    <tr style=\"text-align: right;\">\n",
              "      <th></th>\n",
              "      <th>mes</th>\n",
              "      <th>casos</th>\n",
              "      <th>obitos</th>\n",
              "    </tr>\n",
              "  </thead>\n",
              "  <tbody>\n",
              "    <tr>\n",
              "      <th>0</th>\n",
              "      <td>03</td>\n",
              "      <td>19</td>\n",
              "      <td>0</td>\n",
              "    </tr>\n",
              "    <tr>\n",
              "      <th>1</th>\n",
              "      <td>04</td>\n",
              "      <td>447</td>\n",
              "      <td>12</td>\n",
              "    </tr>\n",
              "    <tr>\n",
              "      <th>2</th>\n",
              "      <td>05</td>\n",
              "      <td>6999</td>\n",
              "      <td>158</td>\n",
              "    </tr>\n",
              "    <tr>\n",
              "      <th>3</th>\n",
              "      <td>06</td>\n",
              "      <td>25411</td>\n",
              "      <td>676</td>\n",
              "    </tr>\n",
              "    <tr>\n",
              "      <th>4</th>\n",
              "      <td>07</td>\n",
              "      <td>58713</td>\n",
              "      <td>1434</td>\n",
              "    </tr>\n",
              "    <tr>\n",
              "      <th>5</th>\n",
              "      <td>08</td>\n",
              "      <td>72528</td>\n",
              "      <td>1857</td>\n",
              "    </tr>\n",
              "    <tr>\n",
              "      <th>6</th>\n",
              "      <td>09</td>\n",
              "      <td>77440</td>\n",
              "      <td>2036</td>\n",
              "    </tr>\n",
              "    <tr>\n",
              "      <th>7</th>\n",
              "      <td>10</td>\n",
              "      <td>84326</td>\n",
              "      <td>2206</td>\n",
              "    </tr>\n",
              "    <tr>\n",
              "      <th>8</th>\n",
              "      <td>11</td>\n",
              "      <td>85980</td>\n",
              "      <td>2257</td>\n",
              "    </tr>\n",
              "  </tbody>\n",
              "</table>\n",
              "</div>"
            ],
            "text/plain": [
              "  mes  casos  obitos\n",
              "0  03     19       0\n",
              "1  04    447      12\n",
              "2  05   6999     158\n",
              "3  06  25411     676\n",
              "4  07  58713    1434\n",
              "5  08  72528    1857\n",
              "6  09  77440    2036\n",
              "7  10  84326    2206\n",
              "8  11  85980    2257"
            ]
          },
          "execution_count": 16,
          "metadata": {},
          "output_type": "execute_result"
        }
      ],
      "source": [
        "df_sergipe_mes"
      ]
    },
    {
      "cell_type": "code",
      "execution_count": null,
      "metadata": {
        "id": "cVIbu0GvS0fe",
        "outputId": "f2f7e4c4-e848-4fbe-da12-e2cb66cfbeec"
      },
      "outputs": [
        {
          "data": {
            "application/vnd.plotly.v1+json": {
              "config": {
                "plotlyServerURL": "https://plot.ly"
              },
              "data": [
                {
                  "name": "Casos",
                  "type": "scatter",
                  "x": [
                    "03",
                    "04",
                    "05",
                    "06",
                    "07",
                    "08",
                    "09",
                    "10",
                    "11"
                  ],
                  "y": [
                    19,
                    447,
                    6999,
                    25411,
                    58713,
                    72528,
                    77440,
                    84326,
                    85980
                  ]
                },
                {
                  "name": "Óbitos",
                  "type": "scatter",
                  "x": [
                    "03",
                    "04",
                    "05",
                    "06",
                    "07",
                    "08",
                    "09",
                    "10",
                    "11"
                  ],
                  "y": [
                    0,
                    12,
                    158,
                    676,
                    1434,
                    1857,
                    2036,
                    2206,
                    2257
                  ]
                }
              ],
              "layout": {
                "template": {
                  "data": {
                    "bar": [
                      {
                        "error_x": {
                          "color": "#2a3f5f"
                        },
                        "error_y": {
                          "color": "#2a3f5f"
                        },
                        "marker": {
                          "line": {
                            "color": "#E5ECF6",
                            "width": 0.5
                          }
                        },
                        "type": "bar"
                      }
                    ],
                    "barpolar": [
                      {
                        "marker": {
                          "line": {
                            "color": "#E5ECF6",
                            "width": 0.5
                          }
                        },
                        "type": "barpolar"
                      }
                    ],
                    "carpet": [
                      {
                        "aaxis": {
                          "endlinecolor": "#2a3f5f",
                          "gridcolor": "white",
                          "linecolor": "white",
                          "minorgridcolor": "white",
                          "startlinecolor": "#2a3f5f"
                        },
                        "baxis": {
                          "endlinecolor": "#2a3f5f",
                          "gridcolor": "white",
                          "linecolor": "white",
                          "minorgridcolor": "white",
                          "startlinecolor": "#2a3f5f"
                        },
                        "type": "carpet"
                      }
                    ],
                    "choropleth": [
                      {
                        "colorbar": {
                          "outlinewidth": 0,
                          "ticks": ""
                        },
                        "type": "choropleth"
                      }
                    ],
                    "contour": [
                      {
                        "colorbar": {
                          "outlinewidth": 0,
                          "ticks": ""
                        },
                        "colorscale": [
                          [
                            0,
                            "#0d0887"
                          ],
                          [
                            0.1111111111111111,
                            "#46039f"
                          ],
                          [
                            0.2222222222222222,
                            "#7201a8"
                          ],
                          [
                            0.3333333333333333,
                            "#9c179e"
                          ],
                          [
                            0.4444444444444444,
                            "#bd3786"
                          ],
                          [
                            0.5555555555555556,
                            "#d8576b"
                          ],
                          [
                            0.6666666666666666,
                            "#ed7953"
                          ],
                          [
                            0.7777777777777778,
                            "#fb9f3a"
                          ],
                          [
                            0.8888888888888888,
                            "#fdca26"
                          ],
                          [
                            1,
                            "#f0f921"
                          ]
                        ],
                        "type": "contour"
                      }
                    ],
                    "contourcarpet": [
                      {
                        "colorbar": {
                          "outlinewidth": 0,
                          "ticks": ""
                        },
                        "type": "contourcarpet"
                      }
                    ],
                    "heatmap": [
                      {
                        "colorbar": {
                          "outlinewidth": 0,
                          "ticks": ""
                        },
                        "colorscale": [
                          [
                            0,
                            "#0d0887"
                          ],
                          [
                            0.1111111111111111,
                            "#46039f"
                          ],
                          [
                            0.2222222222222222,
                            "#7201a8"
                          ],
                          [
                            0.3333333333333333,
                            "#9c179e"
                          ],
                          [
                            0.4444444444444444,
                            "#bd3786"
                          ],
                          [
                            0.5555555555555556,
                            "#d8576b"
                          ],
                          [
                            0.6666666666666666,
                            "#ed7953"
                          ],
                          [
                            0.7777777777777778,
                            "#fb9f3a"
                          ],
                          [
                            0.8888888888888888,
                            "#fdca26"
                          ],
                          [
                            1,
                            "#f0f921"
                          ]
                        ],
                        "type": "heatmap"
                      }
                    ],
                    "heatmapgl": [
                      {
                        "colorbar": {
                          "outlinewidth": 0,
                          "ticks": ""
                        },
                        "colorscale": [
                          [
                            0,
                            "#0d0887"
                          ],
                          [
                            0.1111111111111111,
                            "#46039f"
                          ],
                          [
                            0.2222222222222222,
                            "#7201a8"
                          ],
                          [
                            0.3333333333333333,
                            "#9c179e"
                          ],
                          [
                            0.4444444444444444,
                            "#bd3786"
                          ],
                          [
                            0.5555555555555556,
                            "#d8576b"
                          ],
                          [
                            0.6666666666666666,
                            "#ed7953"
                          ],
                          [
                            0.7777777777777778,
                            "#fb9f3a"
                          ],
                          [
                            0.8888888888888888,
                            "#fdca26"
                          ],
                          [
                            1,
                            "#f0f921"
                          ]
                        ],
                        "type": "heatmapgl"
                      }
                    ],
                    "histogram": [
                      {
                        "marker": {
                          "colorbar": {
                            "outlinewidth": 0,
                            "ticks": ""
                          }
                        },
                        "type": "histogram"
                      }
                    ],
                    "histogram2d": [
                      {
                        "colorbar": {
                          "outlinewidth": 0,
                          "ticks": ""
                        },
                        "colorscale": [
                          [
                            0,
                            "#0d0887"
                          ],
                          [
                            0.1111111111111111,
                            "#46039f"
                          ],
                          [
                            0.2222222222222222,
                            "#7201a8"
                          ],
                          [
                            0.3333333333333333,
                            "#9c179e"
                          ],
                          [
                            0.4444444444444444,
                            "#bd3786"
                          ],
                          [
                            0.5555555555555556,
                            "#d8576b"
                          ],
                          [
                            0.6666666666666666,
                            "#ed7953"
                          ],
                          [
                            0.7777777777777778,
                            "#fb9f3a"
                          ],
                          [
                            0.8888888888888888,
                            "#fdca26"
                          ],
                          [
                            1,
                            "#f0f921"
                          ]
                        ],
                        "type": "histogram2d"
                      }
                    ],
                    "histogram2dcontour": [
                      {
                        "colorbar": {
                          "outlinewidth": 0,
                          "ticks": ""
                        },
                        "colorscale": [
                          [
                            0,
                            "#0d0887"
                          ],
                          [
                            0.1111111111111111,
                            "#46039f"
                          ],
                          [
                            0.2222222222222222,
                            "#7201a8"
                          ],
                          [
                            0.3333333333333333,
                            "#9c179e"
                          ],
                          [
                            0.4444444444444444,
                            "#bd3786"
                          ],
                          [
                            0.5555555555555556,
                            "#d8576b"
                          ],
                          [
                            0.6666666666666666,
                            "#ed7953"
                          ],
                          [
                            0.7777777777777778,
                            "#fb9f3a"
                          ],
                          [
                            0.8888888888888888,
                            "#fdca26"
                          ],
                          [
                            1,
                            "#f0f921"
                          ]
                        ],
                        "type": "histogram2dcontour"
                      }
                    ],
                    "mesh3d": [
                      {
                        "colorbar": {
                          "outlinewidth": 0,
                          "ticks": ""
                        },
                        "type": "mesh3d"
                      }
                    ],
                    "parcoords": [
                      {
                        "line": {
                          "colorbar": {
                            "outlinewidth": 0,
                            "ticks": ""
                          }
                        },
                        "type": "parcoords"
                      }
                    ],
                    "pie": [
                      {
                        "automargin": true,
                        "type": "pie"
                      }
                    ],
                    "scatter": [
                      {
                        "marker": {
                          "colorbar": {
                            "outlinewidth": 0,
                            "ticks": ""
                          }
                        },
                        "type": "scatter"
                      }
                    ],
                    "scatter3d": [
                      {
                        "line": {
                          "colorbar": {
                            "outlinewidth": 0,
                            "ticks": ""
                          }
                        },
                        "marker": {
                          "colorbar": {
                            "outlinewidth": 0,
                            "ticks": ""
                          }
                        },
                        "type": "scatter3d"
                      }
                    ],
                    "scattercarpet": [
                      {
                        "marker": {
                          "colorbar": {
                            "outlinewidth": 0,
                            "ticks": ""
                          }
                        },
                        "type": "scattercarpet"
                      }
                    ],
                    "scattergeo": [
                      {
                        "marker": {
                          "colorbar": {
                            "outlinewidth": 0,
                            "ticks": ""
                          }
                        },
                        "type": "scattergeo"
                      }
                    ],
                    "scattergl": [
                      {
                        "marker": {
                          "colorbar": {
                            "outlinewidth": 0,
                            "ticks": ""
                          }
                        },
                        "type": "scattergl"
                      }
                    ],
                    "scattermapbox": [
                      {
                        "marker": {
                          "colorbar": {
                            "outlinewidth": 0,
                            "ticks": ""
                          }
                        },
                        "type": "scattermapbox"
                      }
                    ],
                    "scatterpolar": [
                      {
                        "marker": {
                          "colorbar": {
                            "outlinewidth": 0,
                            "ticks": ""
                          }
                        },
                        "type": "scatterpolar"
                      }
                    ],
                    "scatterpolargl": [
                      {
                        "marker": {
                          "colorbar": {
                            "outlinewidth": 0,
                            "ticks": ""
                          }
                        },
                        "type": "scatterpolargl"
                      }
                    ],
                    "scatterternary": [
                      {
                        "marker": {
                          "colorbar": {
                            "outlinewidth": 0,
                            "ticks": ""
                          }
                        },
                        "type": "scatterternary"
                      }
                    ],
                    "surface": [
                      {
                        "colorbar": {
                          "outlinewidth": 0,
                          "ticks": ""
                        },
                        "colorscale": [
                          [
                            0,
                            "#0d0887"
                          ],
                          [
                            0.1111111111111111,
                            "#46039f"
                          ],
                          [
                            0.2222222222222222,
                            "#7201a8"
                          ],
                          [
                            0.3333333333333333,
                            "#9c179e"
                          ],
                          [
                            0.4444444444444444,
                            "#bd3786"
                          ],
                          [
                            0.5555555555555556,
                            "#d8576b"
                          ],
                          [
                            0.6666666666666666,
                            "#ed7953"
                          ],
                          [
                            0.7777777777777778,
                            "#fb9f3a"
                          ],
                          [
                            0.8888888888888888,
                            "#fdca26"
                          ],
                          [
                            1,
                            "#f0f921"
                          ]
                        ],
                        "type": "surface"
                      }
                    ],
                    "table": [
                      {
                        "cells": {
                          "fill": {
                            "color": "#EBF0F8"
                          },
                          "line": {
                            "color": "white"
                          }
                        },
                        "header": {
                          "fill": {
                            "color": "#C8D4E3"
                          },
                          "line": {
                            "color": "white"
                          }
                        },
                        "type": "table"
                      }
                    ]
                  },
                  "layout": {
                    "annotationdefaults": {
                      "arrowcolor": "#2a3f5f",
                      "arrowhead": 0,
                      "arrowwidth": 1
                    },
                    "coloraxis": {
                      "colorbar": {
                        "outlinewidth": 0,
                        "ticks": ""
                      }
                    },
                    "colorscale": {
                      "diverging": [
                        [
                          0,
                          "#8e0152"
                        ],
                        [
                          0.1,
                          "#c51b7d"
                        ],
                        [
                          0.2,
                          "#de77ae"
                        ],
                        [
                          0.3,
                          "#f1b6da"
                        ],
                        [
                          0.4,
                          "#fde0ef"
                        ],
                        [
                          0.5,
                          "#f7f7f7"
                        ],
                        [
                          0.6,
                          "#e6f5d0"
                        ],
                        [
                          0.7,
                          "#b8e186"
                        ],
                        [
                          0.8,
                          "#7fbc41"
                        ],
                        [
                          0.9,
                          "#4d9221"
                        ],
                        [
                          1,
                          "#276419"
                        ]
                      ],
                      "sequential": [
                        [
                          0,
                          "#0d0887"
                        ],
                        [
                          0.1111111111111111,
                          "#46039f"
                        ],
                        [
                          0.2222222222222222,
                          "#7201a8"
                        ],
                        [
                          0.3333333333333333,
                          "#9c179e"
                        ],
                        [
                          0.4444444444444444,
                          "#bd3786"
                        ],
                        [
                          0.5555555555555556,
                          "#d8576b"
                        ],
                        [
                          0.6666666666666666,
                          "#ed7953"
                        ],
                        [
                          0.7777777777777778,
                          "#fb9f3a"
                        ],
                        [
                          0.8888888888888888,
                          "#fdca26"
                        ],
                        [
                          1,
                          "#f0f921"
                        ]
                      ],
                      "sequentialminus": [
                        [
                          0,
                          "#0d0887"
                        ],
                        [
                          0.1111111111111111,
                          "#46039f"
                        ],
                        [
                          0.2222222222222222,
                          "#7201a8"
                        ],
                        [
                          0.3333333333333333,
                          "#9c179e"
                        ],
                        [
                          0.4444444444444444,
                          "#bd3786"
                        ],
                        [
                          0.5555555555555556,
                          "#d8576b"
                        ],
                        [
                          0.6666666666666666,
                          "#ed7953"
                        ],
                        [
                          0.7777777777777778,
                          "#fb9f3a"
                        ],
                        [
                          0.8888888888888888,
                          "#fdca26"
                        ],
                        [
                          1,
                          "#f0f921"
                        ]
                      ]
                    },
                    "colorway": [
                      "#636efa",
                      "#EF553B",
                      "#00cc96",
                      "#ab63fa",
                      "#FFA15A",
                      "#19d3f3",
                      "#FF6692",
                      "#B6E880",
                      "#FF97FF",
                      "#FECB52"
                    ],
                    "font": {
                      "color": "#2a3f5f"
                    },
                    "geo": {
                      "bgcolor": "white",
                      "lakecolor": "white",
                      "landcolor": "#E5ECF6",
                      "showlakes": true,
                      "showland": true,
                      "subunitcolor": "white"
                    },
                    "hoverlabel": {
                      "align": "left"
                    },
                    "hovermode": "closest",
                    "mapbox": {
                      "style": "light"
                    },
                    "paper_bgcolor": "white",
                    "plot_bgcolor": "#E5ECF6",
                    "polar": {
                      "angularaxis": {
                        "gridcolor": "white",
                        "linecolor": "white",
                        "ticks": ""
                      },
                      "bgcolor": "#E5ECF6",
                      "radialaxis": {
                        "gridcolor": "white",
                        "linecolor": "white",
                        "ticks": ""
                      }
                    },
                    "scene": {
                      "xaxis": {
                        "backgroundcolor": "#E5ECF6",
                        "gridcolor": "white",
                        "gridwidth": 2,
                        "linecolor": "white",
                        "showbackground": true,
                        "ticks": "",
                        "zerolinecolor": "white"
                      },
                      "yaxis": {
                        "backgroundcolor": "#E5ECF6",
                        "gridcolor": "white",
                        "gridwidth": 2,
                        "linecolor": "white",
                        "showbackground": true,
                        "ticks": "",
                        "zerolinecolor": "white"
                      },
                      "zaxis": {
                        "backgroundcolor": "#E5ECF6",
                        "gridcolor": "white",
                        "gridwidth": 2,
                        "linecolor": "white",
                        "showbackground": true,
                        "ticks": "",
                        "zerolinecolor": "white"
                      }
                    },
                    "shapedefaults": {
                      "line": {
                        "color": "#2a3f5f"
                      }
                    },
                    "ternary": {
                      "aaxis": {
                        "gridcolor": "white",
                        "linecolor": "white",
                        "ticks": ""
                      },
                      "baxis": {
                        "gridcolor": "white",
                        "linecolor": "white",
                        "ticks": ""
                      },
                      "bgcolor": "#E5ECF6",
                      "caxis": {
                        "gridcolor": "white",
                        "linecolor": "white",
                        "ticks": ""
                      }
                    },
                    "title": {
                      "x": 0.05
                    },
                    "xaxis": {
                      "automargin": true,
                      "gridcolor": "white",
                      "linecolor": "white",
                      "ticks": "",
                      "title": {
                        "standoff": 15
                      },
                      "zerolinecolor": "white",
                      "zerolinewidth": 2
                    },
                    "yaxis": {
                      "automargin": true,
                      "gridcolor": "white",
                      "linecolor": "white",
                      "ticks": "",
                      "title": {
                        "standoff": 15
                      },
                      "zerolinecolor": "white",
                      "zerolinewidth": 2
                    }
                  }
                },
                "title": {
                  "text": "Casos de Coronavírus em Sergipe por mês"
                }
              }
            },
            "text/html": [
              "<div>                            <div id=\"5a017db4-9c63-4014-97c9-36293afe0838\" class=\"plotly-graph-div\" style=\"height:525px; width:100%;\"></div>            <script type=\"text/javascript\">                require([\"plotly\"], function(Plotly) {                    window.PLOTLYENV=window.PLOTLYENV || {};                                    if (document.getElementById(\"5a017db4-9c63-4014-97c9-36293afe0838\")) {                    Plotly.newPlot(                        \"5a017db4-9c63-4014-97c9-36293afe0838\",                        [{\"name\": \"Casos\", \"type\": \"scatter\", \"x\": [\"03\", \"04\", \"05\", \"06\", \"07\", \"08\", \"09\", \"10\", \"11\"], \"y\": [19, 447, 6999, 25411, 58713, 72528, 77440, 84326, 85980]}, {\"name\": \"\\u00d3bitos\", \"type\": \"scatter\", \"x\": [\"03\", \"04\", \"05\", \"06\", \"07\", \"08\", \"09\", \"10\", \"11\"], \"y\": [0, 12, 158, 676, 1434, 1857, 2036, 2206, 2257]}],                        {\"template\": {\"data\": {\"bar\": [{\"error_x\": {\"color\": \"#2a3f5f\"}, \"error_y\": {\"color\": \"#2a3f5f\"}, \"marker\": {\"line\": {\"color\": \"#E5ECF6\", \"width\": 0.5}}, \"type\": \"bar\"}], \"barpolar\": [{\"marker\": {\"line\": {\"color\": \"#E5ECF6\", \"width\": 0.5}}, \"type\": \"barpolar\"}], \"carpet\": [{\"aaxis\": {\"endlinecolor\": \"#2a3f5f\", \"gridcolor\": \"white\", \"linecolor\": \"white\", \"minorgridcolor\": \"white\", \"startlinecolor\": \"#2a3f5f\"}, \"baxis\": {\"endlinecolor\": \"#2a3f5f\", \"gridcolor\": \"white\", \"linecolor\": \"white\", \"minorgridcolor\": \"white\", \"startlinecolor\": \"#2a3f5f\"}, \"type\": \"carpet\"}], \"choropleth\": [{\"colorbar\": {\"outlinewidth\": 0, \"ticks\": \"\"}, \"type\": \"choropleth\"}], \"contour\": [{\"colorbar\": {\"outlinewidth\": 0, \"ticks\": \"\"}, \"colorscale\": [[0.0, \"#0d0887\"], [0.1111111111111111, \"#46039f\"], [0.2222222222222222, \"#7201a8\"], [0.3333333333333333, \"#9c179e\"], [0.4444444444444444, \"#bd3786\"], [0.5555555555555556, \"#d8576b\"], [0.6666666666666666, \"#ed7953\"], [0.7777777777777778, \"#fb9f3a\"], [0.8888888888888888, \"#fdca26\"], [1.0, \"#f0f921\"]], \"type\": \"contour\"}], \"contourcarpet\": [{\"colorbar\": {\"outlinewidth\": 0, \"ticks\": \"\"}, \"type\": \"contourcarpet\"}], \"heatmap\": [{\"colorbar\": {\"outlinewidth\": 0, \"ticks\": \"\"}, \"colorscale\": [[0.0, \"#0d0887\"], [0.1111111111111111, \"#46039f\"], [0.2222222222222222, \"#7201a8\"], [0.3333333333333333, \"#9c179e\"], [0.4444444444444444, \"#bd3786\"], [0.5555555555555556, \"#d8576b\"], [0.6666666666666666, \"#ed7953\"], [0.7777777777777778, \"#fb9f3a\"], [0.8888888888888888, \"#fdca26\"], [1.0, \"#f0f921\"]], \"type\": \"heatmap\"}], \"heatmapgl\": [{\"colorbar\": {\"outlinewidth\": 0, \"ticks\": \"\"}, \"colorscale\": [[0.0, \"#0d0887\"], [0.1111111111111111, \"#46039f\"], [0.2222222222222222, \"#7201a8\"], [0.3333333333333333, \"#9c179e\"], [0.4444444444444444, \"#bd3786\"], [0.5555555555555556, \"#d8576b\"], [0.6666666666666666, \"#ed7953\"], [0.7777777777777778, \"#fb9f3a\"], [0.8888888888888888, \"#fdca26\"], [1.0, \"#f0f921\"]], \"type\": \"heatmapgl\"}], \"histogram\": [{\"marker\": {\"colorbar\": {\"outlinewidth\": 0, \"ticks\": \"\"}}, \"type\": \"histogram\"}], \"histogram2d\": [{\"colorbar\": {\"outlinewidth\": 0, \"ticks\": \"\"}, \"colorscale\": [[0.0, \"#0d0887\"], [0.1111111111111111, \"#46039f\"], [0.2222222222222222, \"#7201a8\"], [0.3333333333333333, \"#9c179e\"], [0.4444444444444444, \"#bd3786\"], [0.5555555555555556, \"#d8576b\"], [0.6666666666666666, \"#ed7953\"], [0.7777777777777778, \"#fb9f3a\"], [0.8888888888888888, \"#fdca26\"], [1.0, \"#f0f921\"]], \"type\": \"histogram2d\"}], \"histogram2dcontour\": [{\"colorbar\": {\"outlinewidth\": 0, \"ticks\": \"\"}, \"colorscale\": [[0.0, \"#0d0887\"], [0.1111111111111111, \"#46039f\"], [0.2222222222222222, \"#7201a8\"], [0.3333333333333333, \"#9c179e\"], [0.4444444444444444, \"#bd3786\"], [0.5555555555555556, \"#d8576b\"], [0.6666666666666666, \"#ed7953\"], [0.7777777777777778, \"#fb9f3a\"], [0.8888888888888888, \"#fdca26\"], [1.0, \"#f0f921\"]], \"type\": \"histogram2dcontour\"}], \"mesh3d\": [{\"colorbar\": {\"outlinewidth\": 0, \"ticks\": \"\"}, \"type\": \"mesh3d\"}], \"parcoords\": [{\"line\": {\"colorbar\": {\"outlinewidth\": 0, \"ticks\": \"\"}}, \"type\": \"parcoords\"}], \"pie\": [{\"automargin\": true, \"type\": \"pie\"}], \"scatter\": [{\"marker\": {\"colorbar\": {\"outlinewidth\": 0, \"ticks\": \"\"}}, \"type\": \"scatter\"}], \"scatter3d\": [{\"line\": {\"colorbar\": {\"outlinewidth\": 0, \"ticks\": \"\"}}, \"marker\": {\"colorbar\": {\"outlinewidth\": 0, \"ticks\": \"\"}}, \"type\": \"scatter3d\"}], \"scattercarpet\": [{\"marker\": {\"colorbar\": {\"outlinewidth\": 0, \"ticks\": \"\"}}, \"type\": \"scattercarpet\"}], \"scattergeo\": [{\"marker\": {\"colorbar\": {\"outlinewidth\": 0, \"ticks\": \"\"}}, \"type\": \"scattergeo\"}], \"scattergl\": [{\"marker\": {\"colorbar\": {\"outlinewidth\": 0, \"ticks\": \"\"}}, \"type\": \"scattergl\"}], \"scattermapbox\": [{\"marker\": {\"colorbar\": {\"outlinewidth\": 0, \"ticks\": \"\"}}, \"type\": \"scattermapbox\"}], \"scatterpolar\": [{\"marker\": {\"colorbar\": {\"outlinewidth\": 0, \"ticks\": \"\"}}, \"type\": \"scatterpolar\"}], \"scatterpolargl\": [{\"marker\": {\"colorbar\": {\"outlinewidth\": 0, \"ticks\": \"\"}}, \"type\": \"scatterpolargl\"}], \"scatterternary\": [{\"marker\": {\"colorbar\": {\"outlinewidth\": 0, \"ticks\": \"\"}}, \"type\": \"scatterternary\"}], \"surface\": [{\"colorbar\": {\"outlinewidth\": 0, \"ticks\": \"\"}, \"colorscale\": [[0.0, \"#0d0887\"], [0.1111111111111111, \"#46039f\"], [0.2222222222222222, \"#7201a8\"], [0.3333333333333333, \"#9c179e\"], [0.4444444444444444, \"#bd3786\"], [0.5555555555555556, \"#d8576b\"], [0.6666666666666666, \"#ed7953\"], [0.7777777777777778, \"#fb9f3a\"], [0.8888888888888888, \"#fdca26\"], [1.0, \"#f0f921\"]], \"type\": \"surface\"}], \"table\": [{\"cells\": {\"fill\": {\"color\": \"#EBF0F8\"}, \"line\": {\"color\": \"white\"}}, \"header\": {\"fill\": {\"color\": \"#C8D4E3\"}, \"line\": {\"color\": \"white\"}}, \"type\": \"table\"}]}, \"layout\": {\"annotationdefaults\": {\"arrowcolor\": \"#2a3f5f\", \"arrowhead\": 0, \"arrowwidth\": 1}, \"coloraxis\": {\"colorbar\": {\"outlinewidth\": 0, \"ticks\": \"\"}}, \"colorscale\": {\"diverging\": [[0, \"#8e0152\"], [0.1, \"#c51b7d\"], [0.2, \"#de77ae\"], [0.3, \"#f1b6da\"], [0.4, \"#fde0ef\"], [0.5, \"#f7f7f7\"], [0.6, \"#e6f5d0\"], [0.7, \"#b8e186\"], [0.8, \"#7fbc41\"], [0.9, \"#4d9221\"], [1, \"#276419\"]], \"sequential\": [[0.0, \"#0d0887\"], [0.1111111111111111, \"#46039f\"], [0.2222222222222222, \"#7201a8\"], [0.3333333333333333, \"#9c179e\"], [0.4444444444444444, \"#bd3786\"], [0.5555555555555556, \"#d8576b\"], [0.6666666666666666, \"#ed7953\"], [0.7777777777777778, \"#fb9f3a\"], [0.8888888888888888, \"#fdca26\"], [1.0, \"#f0f921\"]], \"sequentialminus\": [[0.0, \"#0d0887\"], [0.1111111111111111, \"#46039f\"], [0.2222222222222222, \"#7201a8\"], [0.3333333333333333, \"#9c179e\"], [0.4444444444444444, \"#bd3786\"], [0.5555555555555556, \"#d8576b\"], [0.6666666666666666, \"#ed7953\"], [0.7777777777777778, \"#fb9f3a\"], [0.8888888888888888, \"#fdca26\"], [1.0, \"#f0f921\"]]}, \"colorway\": [\"#636efa\", \"#EF553B\", \"#00cc96\", \"#ab63fa\", \"#FFA15A\", \"#19d3f3\", \"#FF6692\", \"#B6E880\", \"#FF97FF\", \"#FECB52\"], \"font\": {\"color\": \"#2a3f5f\"}, \"geo\": {\"bgcolor\": \"white\", \"lakecolor\": \"white\", \"landcolor\": \"#E5ECF6\", \"showlakes\": true, \"showland\": true, \"subunitcolor\": \"white\"}, \"hoverlabel\": {\"align\": \"left\"}, \"hovermode\": \"closest\", \"mapbox\": {\"style\": \"light\"}, \"paper_bgcolor\": \"white\", \"plot_bgcolor\": \"#E5ECF6\", \"polar\": {\"angularaxis\": {\"gridcolor\": \"white\", \"linecolor\": \"white\", \"ticks\": \"\"}, \"bgcolor\": \"#E5ECF6\", \"radialaxis\": {\"gridcolor\": \"white\", \"linecolor\": \"white\", \"ticks\": \"\"}}, \"scene\": {\"xaxis\": {\"backgroundcolor\": \"#E5ECF6\", \"gridcolor\": \"white\", \"gridwidth\": 2, \"linecolor\": \"white\", \"showbackground\": true, \"ticks\": \"\", \"zerolinecolor\": \"white\"}, \"yaxis\": {\"backgroundcolor\": \"#E5ECF6\", \"gridcolor\": \"white\", \"gridwidth\": 2, \"linecolor\": \"white\", \"showbackground\": true, \"ticks\": \"\", \"zerolinecolor\": \"white\"}, \"zaxis\": {\"backgroundcolor\": \"#E5ECF6\", \"gridcolor\": \"white\", \"gridwidth\": 2, \"linecolor\": \"white\", \"showbackground\": true, \"ticks\": \"\", \"zerolinecolor\": \"white\"}}, \"shapedefaults\": {\"line\": {\"color\": \"#2a3f5f\"}}, \"ternary\": {\"aaxis\": {\"gridcolor\": \"white\", \"linecolor\": \"white\", \"ticks\": \"\"}, \"baxis\": {\"gridcolor\": \"white\", \"linecolor\": \"white\", \"ticks\": \"\"}, \"bgcolor\": \"#E5ECF6\", \"caxis\": {\"gridcolor\": \"white\", \"linecolor\": \"white\", \"ticks\": \"\"}}, \"title\": {\"x\": 0.05}, \"xaxis\": {\"automargin\": true, \"gridcolor\": \"white\", \"linecolor\": \"white\", \"ticks\": \"\", \"title\": {\"standoff\": 15}, \"zerolinecolor\": \"white\", \"zerolinewidth\": 2}, \"yaxis\": {\"automargin\": true, \"gridcolor\": \"white\", \"linecolor\": \"white\", \"ticks\": \"\", \"title\": {\"standoff\": 15}, \"zerolinecolor\": \"white\", \"zerolinewidth\": 2}}}, \"title\": {\"text\": \"Casos de Coronav\\u00edrus em Sergipe por m\\u00eas\"}},                        {\"responsive\": true}                    ).then(function(){\n",
              "                            \n",
              "var gd = document.getElementById('5a017db4-9c63-4014-97c9-36293afe0838');\n",
              "var x = new MutationObserver(function (mutations, observer) {{\n",
              "        var display = window.getComputedStyle(gd).display;\n",
              "        if (!display || display === 'none') {{\n",
              "            console.log([gd, 'removed!']);\n",
              "            Plotly.purge(gd);\n",
              "            observer.disconnect();\n",
              "        }}\n",
              "}});\n",
              "\n",
              "// Listen for the removal of the full notebook cells\n",
              "var notebookContainer = gd.closest('#notebook-container');\n",
              "if (notebookContainer) {{\n",
              "    x.observe(notebookContainer, {childList: true});\n",
              "}}\n",
              "\n",
              "// Listen for the clearing of the current output cell\n",
              "var outputEl = gd.closest('.output');\n",
              "if (outputEl) {{\n",
              "    x.observe(outputEl, {childList: true});\n",
              "}}\n",
              "\n",
              "                        })                };                });            </script>        </div>"
            ]
          },
          "metadata": {},
          "output_type": "display_data"
        }
      ],
      "source": [
        "fig = go.Figure()\n",
        "\n",
        "fig.add_trace(go.Scatter(x=df_sergipe_mes['mes'], y=df_sergipe_mes['casos'], name='Casos'))\n",
        "fig.add_trace(go.Scatter(x=df_sergipe_mes['mes'], y=df_sergipe_mes['obitos'], name='Óbitos'))\n",
        "\n",
        "fig.update_layout(title='Casos de Coronavírus em Sergipe por mês')\n",
        "\n",
        "fig.show()"
      ]
    },
    {
      "cell_type": "code",
      "execution_count": null,
      "metadata": {
        "id": "pWqHmjYYS0fe",
        "outputId": "f1735169-95ca-42ca-ef8b-c8eeec7b4474"
      },
      "outputs": [
        {
          "data": {
            "application/vnd.plotly.v1+json": {
              "config": {
                "plotlyServerURL": "https://plot.ly"
              },
              "data": [
                {
                  "name": "Casos",
                  "text": [
                    19,
                    447,
                    6999,
                    25411,
                    58713,
                    72528,
                    77440,
                    84326,
                    85980
                  ],
                  "textposition": "auto",
                  "type": "bar",
                  "x": [
                    "03",
                    "04",
                    "05",
                    "06",
                    "07",
                    "08",
                    "09",
                    "10",
                    "11"
                  ],
                  "y": [
                    19,
                    447,
                    6999,
                    25411,
                    58713,
                    72528,
                    77440,
                    84326,
                    85980
                  ]
                },
                {
                  "name": "Óbitos",
                  "text": [
                    0,
                    12,
                    158,
                    676,
                    1434,
                    1857,
                    2036,
                    2206,
                    2257
                  ],
                  "textposition": "auto",
                  "type": "bar",
                  "x": [
                    "03",
                    "04",
                    "05",
                    "06",
                    "07",
                    "08",
                    "09",
                    "10",
                    "11"
                  ],
                  "y": [
                    0,
                    12,
                    158,
                    676,
                    1434,
                    1857,
                    2036,
                    2206,
                    2257
                  ]
                }
              ],
              "layout": {
                "barmode": "stack",
                "template": {
                  "data": {
                    "bar": [
                      {
                        "error_x": {
                          "color": "#2a3f5f"
                        },
                        "error_y": {
                          "color": "#2a3f5f"
                        },
                        "marker": {
                          "line": {
                            "color": "#E5ECF6",
                            "width": 0.5
                          }
                        },
                        "type": "bar"
                      }
                    ],
                    "barpolar": [
                      {
                        "marker": {
                          "line": {
                            "color": "#E5ECF6",
                            "width": 0.5
                          }
                        },
                        "type": "barpolar"
                      }
                    ],
                    "carpet": [
                      {
                        "aaxis": {
                          "endlinecolor": "#2a3f5f",
                          "gridcolor": "white",
                          "linecolor": "white",
                          "minorgridcolor": "white",
                          "startlinecolor": "#2a3f5f"
                        },
                        "baxis": {
                          "endlinecolor": "#2a3f5f",
                          "gridcolor": "white",
                          "linecolor": "white",
                          "minorgridcolor": "white",
                          "startlinecolor": "#2a3f5f"
                        },
                        "type": "carpet"
                      }
                    ],
                    "choropleth": [
                      {
                        "colorbar": {
                          "outlinewidth": 0,
                          "ticks": ""
                        },
                        "type": "choropleth"
                      }
                    ],
                    "contour": [
                      {
                        "colorbar": {
                          "outlinewidth": 0,
                          "ticks": ""
                        },
                        "colorscale": [
                          [
                            0,
                            "#0d0887"
                          ],
                          [
                            0.1111111111111111,
                            "#46039f"
                          ],
                          [
                            0.2222222222222222,
                            "#7201a8"
                          ],
                          [
                            0.3333333333333333,
                            "#9c179e"
                          ],
                          [
                            0.4444444444444444,
                            "#bd3786"
                          ],
                          [
                            0.5555555555555556,
                            "#d8576b"
                          ],
                          [
                            0.6666666666666666,
                            "#ed7953"
                          ],
                          [
                            0.7777777777777778,
                            "#fb9f3a"
                          ],
                          [
                            0.8888888888888888,
                            "#fdca26"
                          ],
                          [
                            1,
                            "#f0f921"
                          ]
                        ],
                        "type": "contour"
                      }
                    ],
                    "contourcarpet": [
                      {
                        "colorbar": {
                          "outlinewidth": 0,
                          "ticks": ""
                        },
                        "type": "contourcarpet"
                      }
                    ],
                    "heatmap": [
                      {
                        "colorbar": {
                          "outlinewidth": 0,
                          "ticks": ""
                        },
                        "colorscale": [
                          [
                            0,
                            "#0d0887"
                          ],
                          [
                            0.1111111111111111,
                            "#46039f"
                          ],
                          [
                            0.2222222222222222,
                            "#7201a8"
                          ],
                          [
                            0.3333333333333333,
                            "#9c179e"
                          ],
                          [
                            0.4444444444444444,
                            "#bd3786"
                          ],
                          [
                            0.5555555555555556,
                            "#d8576b"
                          ],
                          [
                            0.6666666666666666,
                            "#ed7953"
                          ],
                          [
                            0.7777777777777778,
                            "#fb9f3a"
                          ],
                          [
                            0.8888888888888888,
                            "#fdca26"
                          ],
                          [
                            1,
                            "#f0f921"
                          ]
                        ],
                        "type": "heatmap"
                      }
                    ],
                    "heatmapgl": [
                      {
                        "colorbar": {
                          "outlinewidth": 0,
                          "ticks": ""
                        },
                        "colorscale": [
                          [
                            0,
                            "#0d0887"
                          ],
                          [
                            0.1111111111111111,
                            "#46039f"
                          ],
                          [
                            0.2222222222222222,
                            "#7201a8"
                          ],
                          [
                            0.3333333333333333,
                            "#9c179e"
                          ],
                          [
                            0.4444444444444444,
                            "#bd3786"
                          ],
                          [
                            0.5555555555555556,
                            "#d8576b"
                          ],
                          [
                            0.6666666666666666,
                            "#ed7953"
                          ],
                          [
                            0.7777777777777778,
                            "#fb9f3a"
                          ],
                          [
                            0.8888888888888888,
                            "#fdca26"
                          ],
                          [
                            1,
                            "#f0f921"
                          ]
                        ],
                        "type": "heatmapgl"
                      }
                    ],
                    "histogram": [
                      {
                        "marker": {
                          "colorbar": {
                            "outlinewidth": 0,
                            "ticks": ""
                          }
                        },
                        "type": "histogram"
                      }
                    ],
                    "histogram2d": [
                      {
                        "colorbar": {
                          "outlinewidth": 0,
                          "ticks": ""
                        },
                        "colorscale": [
                          [
                            0,
                            "#0d0887"
                          ],
                          [
                            0.1111111111111111,
                            "#46039f"
                          ],
                          [
                            0.2222222222222222,
                            "#7201a8"
                          ],
                          [
                            0.3333333333333333,
                            "#9c179e"
                          ],
                          [
                            0.4444444444444444,
                            "#bd3786"
                          ],
                          [
                            0.5555555555555556,
                            "#d8576b"
                          ],
                          [
                            0.6666666666666666,
                            "#ed7953"
                          ],
                          [
                            0.7777777777777778,
                            "#fb9f3a"
                          ],
                          [
                            0.8888888888888888,
                            "#fdca26"
                          ],
                          [
                            1,
                            "#f0f921"
                          ]
                        ],
                        "type": "histogram2d"
                      }
                    ],
                    "histogram2dcontour": [
                      {
                        "colorbar": {
                          "outlinewidth": 0,
                          "ticks": ""
                        },
                        "colorscale": [
                          [
                            0,
                            "#0d0887"
                          ],
                          [
                            0.1111111111111111,
                            "#46039f"
                          ],
                          [
                            0.2222222222222222,
                            "#7201a8"
                          ],
                          [
                            0.3333333333333333,
                            "#9c179e"
                          ],
                          [
                            0.4444444444444444,
                            "#bd3786"
                          ],
                          [
                            0.5555555555555556,
                            "#d8576b"
                          ],
                          [
                            0.6666666666666666,
                            "#ed7953"
                          ],
                          [
                            0.7777777777777778,
                            "#fb9f3a"
                          ],
                          [
                            0.8888888888888888,
                            "#fdca26"
                          ],
                          [
                            1,
                            "#f0f921"
                          ]
                        ],
                        "type": "histogram2dcontour"
                      }
                    ],
                    "mesh3d": [
                      {
                        "colorbar": {
                          "outlinewidth": 0,
                          "ticks": ""
                        },
                        "type": "mesh3d"
                      }
                    ],
                    "parcoords": [
                      {
                        "line": {
                          "colorbar": {
                            "outlinewidth": 0,
                            "ticks": ""
                          }
                        },
                        "type": "parcoords"
                      }
                    ],
                    "pie": [
                      {
                        "automargin": true,
                        "type": "pie"
                      }
                    ],
                    "scatter": [
                      {
                        "marker": {
                          "colorbar": {
                            "outlinewidth": 0,
                            "ticks": ""
                          }
                        },
                        "type": "scatter"
                      }
                    ],
                    "scatter3d": [
                      {
                        "line": {
                          "colorbar": {
                            "outlinewidth": 0,
                            "ticks": ""
                          }
                        },
                        "marker": {
                          "colorbar": {
                            "outlinewidth": 0,
                            "ticks": ""
                          }
                        },
                        "type": "scatter3d"
                      }
                    ],
                    "scattercarpet": [
                      {
                        "marker": {
                          "colorbar": {
                            "outlinewidth": 0,
                            "ticks": ""
                          }
                        },
                        "type": "scattercarpet"
                      }
                    ],
                    "scattergeo": [
                      {
                        "marker": {
                          "colorbar": {
                            "outlinewidth": 0,
                            "ticks": ""
                          }
                        },
                        "type": "scattergeo"
                      }
                    ],
                    "scattergl": [
                      {
                        "marker": {
                          "colorbar": {
                            "outlinewidth": 0,
                            "ticks": ""
                          }
                        },
                        "type": "scattergl"
                      }
                    ],
                    "scattermapbox": [
                      {
                        "marker": {
                          "colorbar": {
                            "outlinewidth": 0,
                            "ticks": ""
                          }
                        },
                        "type": "scattermapbox"
                      }
                    ],
                    "scatterpolar": [
                      {
                        "marker": {
                          "colorbar": {
                            "outlinewidth": 0,
                            "ticks": ""
                          }
                        },
                        "type": "scatterpolar"
                      }
                    ],
                    "scatterpolargl": [
                      {
                        "marker": {
                          "colorbar": {
                            "outlinewidth": 0,
                            "ticks": ""
                          }
                        },
                        "type": "scatterpolargl"
                      }
                    ],
                    "scatterternary": [
                      {
                        "marker": {
                          "colorbar": {
                            "outlinewidth": 0,
                            "ticks": ""
                          }
                        },
                        "type": "scatterternary"
                      }
                    ],
                    "surface": [
                      {
                        "colorbar": {
                          "outlinewidth": 0,
                          "ticks": ""
                        },
                        "colorscale": [
                          [
                            0,
                            "#0d0887"
                          ],
                          [
                            0.1111111111111111,
                            "#46039f"
                          ],
                          [
                            0.2222222222222222,
                            "#7201a8"
                          ],
                          [
                            0.3333333333333333,
                            "#9c179e"
                          ],
                          [
                            0.4444444444444444,
                            "#bd3786"
                          ],
                          [
                            0.5555555555555556,
                            "#d8576b"
                          ],
                          [
                            0.6666666666666666,
                            "#ed7953"
                          ],
                          [
                            0.7777777777777778,
                            "#fb9f3a"
                          ],
                          [
                            0.8888888888888888,
                            "#fdca26"
                          ],
                          [
                            1,
                            "#f0f921"
                          ]
                        ],
                        "type": "surface"
                      }
                    ],
                    "table": [
                      {
                        "cells": {
                          "fill": {
                            "color": "#EBF0F8"
                          },
                          "line": {
                            "color": "white"
                          }
                        },
                        "header": {
                          "fill": {
                            "color": "#C8D4E3"
                          },
                          "line": {
                            "color": "white"
                          }
                        },
                        "type": "table"
                      }
                    ]
                  },
                  "layout": {
                    "annotationdefaults": {
                      "arrowcolor": "#2a3f5f",
                      "arrowhead": 0,
                      "arrowwidth": 1
                    },
                    "coloraxis": {
                      "colorbar": {
                        "outlinewidth": 0,
                        "ticks": ""
                      }
                    },
                    "colorscale": {
                      "diverging": [
                        [
                          0,
                          "#8e0152"
                        ],
                        [
                          0.1,
                          "#c51b7d"
                        ],
                        [
                          0.2,
                          "#de77ae"
                        ],
                        [
                          0.3,
                          "#f1b6da"
                        ],
                        [
                          0.4,
                          "#fde0ef"
                        ],
                        [
                          0.5,
                          "#f7f7f7"
                        ],
                        [
                          0.6,
                          "#e6f5d0"
                        ],
                        [
                          0.7,
                          "#b8e186"
                        ],
                        [
                          0.8,
                          "#7fbc41"
                        ],
                        [
                          0.9,
                          "#4d9221"
                        ],
                        [
                          1,
                          "#276419"
                        ]
                      ],
                      "sequential": [
                        [
                          0,
                          "#0d0887"
                        ],
                        [
                          0.1111111111111111,
                          "#46039f"
                        ],
                        [
                          0.2222222222222222,
                          "#7201a8"
                        ],
                        [
                          0.3333333333333333,
                          "#9c179e"
                        ],
                        [
                          0.4444444444444444,
                          "#bd3786"
                        ],
                        [
                          0.5555555555555556,
                          "#d8576b"
                        ],
                        [
                          0.6666666666666666,
                          "#ed7953"
                        ],
                        [
                          0.7777777777777778,
                          "#fb9f3a"
                        ],
                        [
                          0.8888888888888888,
                          "#fdca26"
                        ],
                        [
                          1,
                          "#f0f921"
                        ]
                      ],
                      "sequentialminus": [
                        [
                          0,
                          "#0d0887"
                        ],
                        [
                          0.1111111111111111,
                          "#46039f"
                        ],
                        [
                          0.2222222222222222,
                          "#7201a8"
                        ],
                        [
                          0.3333333333333333,
                          "#9c179e"
                        ],
                        [
                          0.4444444444444444,
                          "#bd3786"
                        ],
                        [
                          0.5555555555555556,
                          "#d8576b"
                        ],
                        [
                          0.6666666666666666,
                          "#ed7953"
                        ],
                        [
                          0.7777777777777778,
                          "#fb9f3a"
                        ],
                        [
                          0.8888888888888888,
                          "#fdca26"
                        ],
                        [
                          1,
                          "#f0f921"
                        ]
                      ]
                    },
                    "colorway": [
                      "#636efa",
                      "#EF553B",
                      "#00cc96",
                      "#ab63fa",
                      "#FFA15A",
                      "#19d3f3",
                      "#FF6692",
                      "#B6E880",
                      "#FF97FF",
                      "#FECB52"
                    ],
                    "font": {
                      "color": "#2a3f5f"
                    },
                    "geo": {
                      "bgcolor": "white",
                      "lakecolor": "white",
                      "landcolor": "#E5ECF6",
                      "showlakes": true,
                      "showland": true,
                      "subunitcolor": "white"
                    },
                    "hoverlabel": {
                      "align": "left"
                    },
                    "hovermode": "closest",
                    "mapbox": {
                      "style": "light"
                    },
                    "paper_bgcolor": "white",
                    "plot_bgcolor": "#E5ECF6",
                    "polar": {
                      "angularaxis": {
                        "gridcolor": "white",
                        "linecolor": "white",
                        "ticks": ""
                      },
                      "bgcolor": "#E5ECF6",
                      "radialaxis": {
                        "gridcolor": "white",
                        "linecolor": "white",
                        "ticks": ""
                      }
                    },
                    "scene": {
                      "xaxis": {
                        "backgroundcolor": "#E5ECF6",
                        "gridcolor": "white",
                        "gridwidth": 2,
                        "linecolor": "white",
                        "showbackground": true,
                        "ticks": "",
                        "zerolinecolor": "white"
                      },
                      "yaxis": {
                        "backgroundcolor": "#E5ECF6",
                        "gridcolor": "white",
                        "gridwidth": 2,
                        "linecolor": "white",
                        "showbackground": true,
                        "ticks": "",
                        "zerolinecolor": "white"
                      },
                      "zaxis": {
                        "backgroundcolor": "#E5ECF6",
                        "gridcolor": "white",
                        "gridwidth": 2,
                        "linecolor": "white",
                        "showbackground": true,
                        "ticks": "",
                        "zerolinecolor": "white"
                      }
                    },
                    "shapedefaults": {
                      "line": {
                        "color": "#2a3f5f"
                      }
                    },
                    "ternary": {
                      "aaxis": {
                        "gridcolor": "white",
                        "linecolor": "white",
                        "ticks": ""
                      },
                      "baxis": {
                        "gridcolor": "white",
                        "linecolor": "white",
                        "ticks": ""
                      },
                      "bgcolor": "#E5ECF6",
                      "caxis": {
                        "gridcolor": "white",
                        "linecolor": "white",
                        "ticks": ""
                      }
                    },
                    "title": {
                      "x": 0.05
                    },
                    "xaxis": {
                      "automargin": true,
                      "gridcolor": "white",
                      "linecolor": "white",
                      "ticks": "",
                      "title": {
                        "standoff": 15
                      },
                      "zerolinecolor": "white",
                      "zerolinewidth": 2
                    },
                    "yaxis": {
                      "automargin": true,
                      "gridcolor": "white",
                      "linecolor": "white",
                      "ticks": "",
                      "title": {
                        "standoff": 15
                      },
                      "zerolinecolor": "white",
                      "zerolinewidth": 2
                    }
                  }
                },
                "title": {
                  "text": "Casos de Coronavírus em Sergipe por mês"
                }
              }
            },
            "text/html": [
              "<div>                            <div id=\"dcfc6387-f0bd-446e-8f27-cd9bd962c084\" class=\"plotly-graph-div\" style=\"height:525px; width:100%;\"></div>            <script type=\"text/javascript\">                require([\"plotly\"], function(Plotly) {                    window.PLOTLYENV=window.PLOTLYENV || {};                                    if (document.getElementById(\"dcfc6387-f0bd-446e-8f27-cd9bd962c084\")) {                    Plotly.newPlot(                        \"dcfc6387-f0bd-446e-8f27-cd9bd962c084\",                        [{\"name\": \"Casos\", \"text\": [19.0, 447.0, 6999.0, 25411.0, 58713.0, 72528.0, 77440.0, 84326.0, 85980.0], \"textposition\": \"auto\", \"type\": \"bar\", \"x\": [\"03\", \"04\", \"05\", \"06\", \"07\", \"08\", \"09\", \"10\", \"11\"], \"y\": [19, 447, 6999, 25411, 58713, 72528, 77440, 84326, 85980]}, {\"name\": \"\\u00d3bitos\", \"text\": [0.0, 12.0, 158.0, 676.0, 1434.0, 1857.0, 2036.0, 2206.0, 2257.0], \"textposition\": \"auto\", \"type\": \"bar\", \"x\": [\"03\", \"04\", \"05\", \"06\", \"07\", \"08\", \"09\", \"10\", \"11\"], \"y\": [0, 12, 158, 676, 1434, 1857, 2036, 2206, 2257]}],                        {\"barmode\": \"stack\", \"template\": {\"data\": {\"bar\": [{\"error_x\": {\"color\": \"#2a3f5f\"}, \"error_y\": {\"color\": \"#2a3f5f\"}, \"marker\": {\"line\": {\"color\": \"#E5ECF6\", \"width\": 0.5}}, \"type\": \"bar\"}], \"barpolar\": [{\"marker\": {\"line\": {\"color\": \"#E5ECF6\", \"width\": 0.5}}, \"type\": \"barpolar\"}], \"carpet\": [{\"aaxis\": {\"endlinecolor\": \"#2a3f5f\", \"gridcolor\": \"white\", \"linecolor\": \"white\", \"minorgridcolor\": \"white\", \"startlinecolor\": \"#2a3f5f\"}, \"baxis\": {\"endlinecolor\": \"#2a3f5f\", \"gridcolor\": \"white\", \"linecolor\": \"white\", \"minorgridcolor\": \"white\", \"startlinecolor\": \"#2a3f5f\"}, \"type\": \"carpet\"}], \"choropleth\": [{\"colorbar\": {\"outlinewidth\": 0, \"ticks\": \"\"}, \"type\": \"choropleth\"}], \"contour\": [{\"colorbar\": {\"outlinewidth\": 0, \"ticks\": \"\"}, \"colorscale\": [[0.0, \"#0d0887\"], [0.1111111111111111, \"#46039f\"], [0.2222222222222222, \"#7201a8\"], [0.3333333333333333, \"#9c179e\"], [0.4444444444444444, \"#bd3786\"], [0.5555555555555556, \"#d8576b\"], [0.6666666666666666, \"#ed7953\"], [0.7777777777777778, \"#fb9f3a\"], [0.8888888888888888, \"#fdca26\"], [1.0, \"#f0f921\"]], \"type\": \"contour\"}], \"contourcarpet\": [{\"colorbar\": {\"outlinewidth\": 0, \"ticks\": \"\"}, \"type\": \"contourcarpet\"}], \"heatmap\": [{\"colorbar\": {\"outlinewidth\": 0, \"ticks\": \"\"}, \"colorscale\": [[0.0, \"#0d0887\"], [0.1111111111111111, \"#46039f\"], [0.2222222222222222, \"#7201a8\"], [0.3333333333333333, \"#9c179e\"], [0.4444444444444444, \"#bd3786\"], [0.5555555555555556, \"#d8576b\"], [0.6666666666666666, \"#ed7953\"], [0.7777777777777778, \"#fb9f3a\"], [0.8888888888888888, \"#fdca26\"], [1.0, \"#f0f921\"]], \"type\": \"heatmap\"}], \"heatmapgl\": [{\"colorbar\": {\"outlinewidth\": 0, \"ticks\": \"\"}, \"colorscale\": [[0.0, \"#0d0887\"], [0.1111111111111111, \"#46039f\"], [0.2222222222222222, \"#7201a8\"], [0.3333333333333333, \"#9c179e\"], [0.4444444444444444, \"#bd3786\"], [0.5555555555555556, \"#d8576b\"], [0.6666666666666666, \"#ed7953\"], [0.7777777777777778, \"#fb9f3a\"], [0.8888888888888888, \"#fdca26\"], [1.0, \"#f0f921\"]], \"type\": \"heatmapgl\"}], \"histogram\": [{\"marker\": {\"colorbar\": {\"outlinewidth\": 0, \"ticks\": \"\"}}, \"type\": \"histogram\"}], \"histogram2d\": [{\"colorbar\": {\"outlinewidth\": 0, \"ticks\": \"\"}, \"colorscale\": [[0.0, \"#0d0887\"], [0.1111111111111111, \"#46039f\"], [0.2222222222222222, \"#7201a8\"], [0.3333333333333333, \"#9c179e\"], [0.4444444444444444, \"#bd3786\"], [0.5555555555555556, \"#d8576b\"], [0.6666666666666666, \"#ed7953\"], [0.7777777777777778, \"#fb9f3a\"], [0.8888888888888888, \"#fdca26\"], [1.0, \"#f0f921\"]], \"type\": \"histogram2d\"}], \"histogram2dcontour\": [{\"colorbar\": {\"outlinewidth\": 0, \"ticks\": \"\"}, \"colorscale\": [[0.0, \"#0d0887\"], [0.1111111111111111, \"#46039f\"], [0.2222222222222222, \"#7201a8\"], [0.3333333333333333, \"#9c179e\"], [0.4444444444444444, \"#bd3786\"], [0.5555555555555556, \"#d8576b\"], [0.6666666666666666, \"#ed7953\"], [0.7777777777777778, \"#fb9f3a\"], [0.8888888888888888, \"#fdca26\"], [1.0, \"#f0f921\"]], \"type\": \"histogram2dcontour\"}], \"mesh3d\": [{\"colorbar\": {\"outlinewidth\": 0, \"ticks\": \"\"}, \"type\": \"mesh3d\"}], \"parcoords\": [{\"line\": {\"colorbar\": {\"outlinewidth\": 0, \"ticks\": \"\"}}, \"type\": \"parcoords\"}], \"pie\": [{\"automargin\": true, \"type\": \"pie\"}], \"scatter\": [{\"marker\": {\"colorbar\": {\"outlinewidth\": 0, \"ticks\": \"\"}}, \"type\": \"scatter\"}], \"scatter3d\": [{\"line\": {\"colorbar\": {\"outlinewidth\": 0, \"ticks\": \"\"}}, \"marker\": {\"colorbar\": {\"outlinewidth\": 0, \"ticks\": \"\"}}, \"type\": \"scatter3d\"}], \"scattercarpet\": [{\"marker\": {\"colorbar\": {\"outlinewidth\": 0, \"ticks\": \"\"}}, \"type\": \"scattercarpet\"}], \"scattergeo\": [{\"marker\": {\"colorbar\": {\"outlinewidth\": 0, \"ticks\": \"\"}}, \"type\": \"scattergeo\"}], \"scattergl\": [{\"marker\": {\"colorbar\": {\"outlinewidth\": 0, \"ticks\": \"\"}}, \"type\": \"scattergl\"}], \"scattermapbox\": [{\"marker\": {\"colorbar\": {\"outlinewidth\": 0, \"ticks\": \"\"}}, \"type\": \"scattermapbox\"}], \"scatterpolar\": [{\"marker\": {\"colorbar\": {\"outlinewidth\": 0, \"ticks\": \"\"}}, \"type\": \"scatterpolar\"}], \"scatterpolargl\": [{\"marker\": {\"colorbar\": {\"outlinewidth\": 0, \"ticks\": \"\"}}, \"type\": \"scatterpolargl\"}], \"scatterternary\": [{\"marker\": {\"colorbar\": {\"outlinewidth\": 0, \"ticks\": \"\"}}, \"type\": \"scatterternary\"}], \"surface\": [{\"colorbar\": {\"outlinewidth\": 0, \"ticks\": \"\"}, \"colorscale\": [[0.0, \"#0d0887\"], [0.1111111111111111, \"#46039f\"], [0.2222222222222222, \"#7201a8\"], [0.3333333333333333, \"#9c179e\"], [0.4444444444444444, \"#bd3786\"], [0.5555555555555556, \"#d8576b\"], [0.6666666666666666, \"#ed7953\"], [0.7777777777777778, \"#fb9f3a\"], [0.8888888888888888, \"#fdca26\"], [1.0, \"#f0f921\"]], \"type\": \"surface\"}], \"table\": [{\"cells\": {\"fill\": {\"color\": \"#EBF0F8\"}, \"line\": {\"color\": \"white\"}}, \"header\": {\"fill\": {\"color\": \"#C8D4E3\"}, \"line\": {\"color\": \"white\"}}, \"type\": \"table\"}]}, \"layout\": {\"annotationdefaults\": {\"arrowcolor\": \"#2a3f5f\", \"arrowhead\": 0, \"arrowwidth\": 1}, \"coloraxis\": {\"colorbar\": {\"outlinewidth\": 0, \"ticks\": \"\"}}, \"colorscale\": {\"diverging\": [[0, \"#8e0152\"], [0.1, \"#c51b7d\"], [0.2, \"#de77ae\"], [0.3, \"#f1b6da\"], [0.4, \"#fde0ef\"], [0.5, \"#f7f7f7\"], [0.6, \"#e6f5d0\"], [0.7, \"#b8e186\"], [0.8, \"#7fbc41\"], [0.9, \"#4d9221\"], [1, \"#276419\"]], \"sequential\": [[0.0, \"#0d0887\"], [0.1111111111111111, \"#46039f\"], [0.2222222222222222, \"#7201a8\"], [0.3333333333333333, \"#9c179e\"], [0.4444444444444444, \"#bd3786\"], [0.5555555555555556, \"#d8576b\"], [0.6666666666666666, \"#ed7953\"], [0.7777777777777778, \"#fb9f3a\"], [0.8888888888888888, \"#fdca26\"], [1.0, \"#f0f921\"]], \"sequentialminus\": [[0.0, \"#0d0887\"], [0.1111111111111111, \"#46039f\"], [0.2222222222222222, \"#7201a8\"], [0.3333333333333333, \"#9c179e\"], [0.4444444444444444, \"#bd3786\"], [0.5555555555555556, \"#d8576b\"], [0.6666666666666666, \"#ed7953\"], [0.7777777777777778, \"#fb9f3a\"], [0.8888888888888888, \"#fdca26\"], [1.0, \"#f0f921\"]]}, \"colorway\": [\"#636efa\", \"#EF553B\", \"#00cc96\", \"#ab63fa\", \"#FFA15A\", \"#19d3f3\", \"#FF6692\", \"#B6E880\", \"#FF97FF\", \"#FECB52\"], \"font\": {\"color\": \"#2a3f5f\"}, \"geo\": {\"bgcolor\": \"white\", \"lakecolor\": \"white\", \"landcolor\": \"#E5ECF6\", \"showlakes\": true, \"showland\": true, \"subunitcolor\": \"white\"}, \"hoverlabel\": {\"align\": \"left\"}, \"hovermode\": \"closest\", \"mapbox\": {\"style\": \"light\"}, \"paper_bgcolor\": \"white\", \"plot_bgcolor\": \"#E5ECF6\", \"polar\": {\"angularaxis\": {\"gridcolor\": \"white\", \"linecolor\": \"white\", \"ticks\": \"\"}, \"bgcolor\": \"#E5ECF6\", \"radialaxis\": {\"gridcolor\": \"white\", \"linecolor\": \"white\", \"ticks\": \"\"}}, \"scene\": {\"xaxis\": {\"backgroundcolor\": \"#E5ECF6\", \"gridcolor\": \"white\", \"gridwidth\": 2, \"linecolor\": \"white\", \"showbackground\": true, \"ticks\": \"\", \"zerolinecolor\": \"white\"}, \"yaxis\": {\"backgroundcolor\": \"#E5ECF6\", \"gridcolor\": \"white\", \"gridwidth\": 2, \"linecolor\": \"white\", \"showbackground\": true, \"ticks\": \"\", \"zerolinecolor\": \"white\"}, \"zaxis\": {\"backgroundcolor\": \"#E5ECF6\", \"gridcolor\": \"white\", \"gridwidth\": 2, \"linecolor\": \"white\", \"showbackground\": true, \"ticks\": \"\", \"zerolinecolor\": \"white\"}}, \"shapedefaults\": {\"line\": {\"color\": \"#2a3f5f\"}}, \"ternary\": {\"aaxis\": {\"gridcolor\": \"white\", \"linecolor\": \"white\", \"ticks\": \"\"}, \"baxis\": {\"gridcolor\": \"white\", \"linecolor\": \"white\", \"ticks\": \"\"}, \"bgcolor\": \"#E5ECF6\", \"caxis\": {\"gridcolor\": \"white\", \"linecolor\": \"white\", \"ticks\": \"\"}}, \"title\": {\"x\": 0.05}, \"xaxis\": {\"automargin\": true, \"gridcolor\": \"white\", \"linecolor\": \"white\", \"ticks\": \"\", \"title\": {\"standoff\": 15}, \"zerolinecolor\": \"white\", \"zerolinewidth\": 2}, \"yaxis\": {\"automargin\": true, \"gridcolor\": \"white\", \"linecolor\": \"white\", \"ticks\": \"\", \"title\": {\"standoff\": 15}, \"zerolinecolor\": \"white\", \"zerolinewidth\": 2}}}, \"title\": {\"text\": \"Casos de Coronav\\u00edrus em Sergipe por m\\u00eas\"}},                        {\"responsive\": true}                    ).then(function(){\n",
              "                            \n",
              "var gd = document.getElementById('dcfc6387-f0bd-446e-8f27-cd9bd962c084');\n",
              "var x = new MutationObserver(function (mutations, observer) {{\n",
              "        var display = window.getComputedStyle(gd).display;\n",
              "        if (!display || display === 'none') {{\n",
              "            console.log([gd, 'removed!']);\n",
              "            Plotly.purge(gd);\n",
              "            observer.disconnect();\n",
              "        }}\n",
              "}});\n",
              "\n",
              "// Listen for the removal of the full notebook cells\n",
              "var notebookContainer = gd.closest('#notebook-container');\n",
              "if (notebookContainer) {{\n",
              "    x.observe(notebookContainer, {childList: true});\n",
              "}}\n",
              "\n",
              "// Listen for the clearing of the current output cell\n",
              "var outputEl = gd.closest('.output');\n",
              "if (outputEl) {{\n",
              "    x.observe(outputEl, {childList: true});\n",
              "}}\n",
              "\n",
              "                        })                };                });            </script>        </div>"
            ]
          },
          "metadata": {},
          "output_type": "display_data"
        }
      ],
      "source": [
        "fig = go.Figure()\n",
        "\n",
        "fig.add_trace(go.Bar(x=df_sergipe_mes['mes'], y=df_sergipe_mes['casos'], name='Casos', text=df_sergipe_mes['casos'], textposition='auto'))\n",
        "fig.add_trace(go.Bar(x=df_sergipe_mes['mes'], y=df_sergipe_mes['obitos'], name='Óbitos', text=df_sergipe_mes['obitos'], textposition='auto'))\n",
        "\n",
        "fig.update_layout(title='Casos de Coronavírus em Sergipe por mês', barmode='stack')\n",
        "\n",
        "fig.show()"
      ]
    },
    {
      "cell_type": "code",
      "execution_count": null,
      "metadata": {
        "id": "hwrZBBKXS0ff"
      },
      "outputs": [],
      "source": [
        ""
      ]
    },
    {
      "cell_type": "code",
      "execution_count": null,
      "metadata": {
        "id": "3tSf1tjHS0ff",
        "outputId": "1b659534-b71f-4330-8698-232c3fc30ecb"
      },
      "outputs": [
        {
          "data": {
            "text/html": [
              "<div>\n",
              "<style scoped>\n",
              "    .dataframe tbody tr th:only-of-type {\n",
              "        vertical-align: middle;\n",
              "    }\n",
              "\n",
              "    .dataframe tbody tr th {\n",
              "        vertical-align: top;\n",
              "    }\n",
              "\n",
              "    .dataframe thead th {\n",
              "        text-align: right;\n",
              "    }\n",
              "</style>\n",
              "<table border=\"1\" class=\"dataframe\">\n",
              "  <thead>\n",
              "    <tr style=\"text-align: right;\">\n",
              "      <th></th>\n",
              "      <th>date</th>\n",
              "      <th>state</th>\n",
              "      <th>name</th>\n",
              "      <th>code</th>\n",
              "      <th>cases</th>\n",
              "      <th>deaths</th>\n",
              "      <th>mes</th>\n",
              "    </tr>\n",
              "  </thead>\n",
              "  <tbody>\n",
              "    <tr>\n",
              "      <th>54867</th>\n",
              "      <td>2020-04-05</td>\n",
              "      <td>SE</td>\n",
              "      <td>Itabaiana</td>\n",
              "      <td>280290.0</td>\n",
              "      <td>1</td>\n",
              "      <td>0</td>\n",
              "      <td>4</td>\n",
              "    </tr>\n",
              "    <tr>\n",
              "      <th>60437</th>\n",
              "      <td>2020-04-06</td>\n",
              "      <td>SE</td>\n",
              "      <td>Itabaiana</td>\n",
              "      <td>280290.0</td>\n",
              "      <td>1</td>\n",
              "      <td>0</td>\n",
              "      <td>4</td>\n",
              "    </tr>\n",
              "    <tr>\n",
              "      <th>66007</th>\n",
              "      <td>2020-04-07</td>\n",
              "      <td>SE</td>\n",
              "      <td>Itabaiana</td>\n",
              "      <td>280290.0</td>\n",
              "      <td>1</td>\n",
              "      <td>0</td>\n",
              "      <td>4</td>\n",
              "    </tr>\n",
              "    <tr>\n",
              "      <th>71577</th>\n",
              "      <td>2020-04-08</td>\n",
              "      <td>SE</td>\n",
              "      <td>Itabaiana</td>\n",
              "      <td>280290.0</td>\n",
              "      <td>1</td>\n",
              "      <td>0</td>\n",
              "      <td>4</td>\n",
              "    </tr>\n",
              "    <tr>\n",
              "      <th>77147</th>\n",
              "      <td>2020-04-09</td>\n",
              "      <td>SE</td>\n",
              "      <td>Itabaiana</td>\n",
              "      <td>280290.0</td>\n",
              "      <td>1</td>\n",
              "      <td>0</td>\n",
              "      <td>4</td>\n",
              "    </tr>\n",
              "    <tr>\n",
              "      <th>...</th>\n",
              "      <td>...</td>\n",
              "      <td>...</td>\n",
              "      <td>...</td>\n",
              "      <td>...</td>\n",
              "      <td>...</td>\n",
              "      <td>...</td>\n",
              "      <td>...</td>\n",
              "    </tr>\n",
              "    <tr>\n",
              "      <th>1274697</th>\n",
              "      <td>2020-11-10</td>\n",
              "      <td>SE</td>\n",
              "      <td>Itabaiana</td>\n",
              "      <td>280290.0</td>\n",
              "      <td>4820</td>\n",
              "      <td>97</td>\n",
              "      <td>11</td>\n",
              "    </tr>\n",
              "    <tr>\n",
              "      <th>1280267</th>\n",
              "      <td>2020-11-11</td>\n",
              "      <td>SE</td>\n",
              "      <td>Itabaiana</td>\n",
              "      <td>280290.0</td>\n",
              "      <td>4824</td>\n",
              "      <td>97</td>\n",
              "      <td>11</td>\n",
              "    </tr>\n",
              "    <tr>\n",
              "      <th>1285837</th>\n",
              "      <td>2020-11-12</td>\n",
              "      <td>SE</td>\n",
              "      <td>Itabaiana</td>\n",
              "      <td>280290.0</td>\n",
              "      <td>4830</td>\n",
              "      <td>97</td>\n",
              "      <td>11</td>\n",
              "    </tr>\n",
              "    <tr>\n",
              "      <th>1291407</th>\n",
              "      <td>2020-11-13</td>\n",
              "      <td>SE</td>\n",
              "      <td>Itabaiana</td>\n",
              "      <td>280290.0</td>\n",
              "      <td>4830</td>\n",
              "      <td>97</td>\n",
              "      <td>11</td>\n",
              "    </tr>\n",
              "    <tr>\n",
              "      <th>1296977</th>\n",
              "      <td>2020-11-14</td>\n",
              "      <td>SE</td>\n",
              "      <td>Itabaiana</td>\n",
              "      <td>280290.0</td>\n",
              "      <td>4835</td>\n",
              "      <td>97</td>\n",
              "      <td>11</td>\n",
              "    </tr>\n",
              "  </tbody>\n",
              "</table>\n",
              "<p>224 rows × 7 columns</p>\n",
              "</div>"
            ],
            "text/plain": [
              "               date state       name      code  cases  deaths  mes\n",
              "54867    2020-04-05    SE  Itabaiana  280290.0      1       0    4\n",
              "60437    2020-04-06    SE  Itabaiana  280290.0      1       0    4\n",
              "66007    2020-04-07    SE  Itabaiana  280290.0      1       0    4\n",
              "71577    2020-04-08    SE  Itabaiana  280290.0      1       0    4\n",
              "77147    2020-04-09    SE  Itabaiana  280290.0      1       0    4\n",
              "...             ...   ...        ...       ...    ...     ...  ...\n",
              "1274697  2020-11-10    SE  Itabaiana  280290.0   4820      97   11\n",
              "1280267  2020-11-11    SE  Itabaiana  280290.0   4824      97   11\n",
              "1285837  2020-11-12    SE  Itabaiana  280290.0   4830      97   11\n",
              "1291407  2020-11-13    SE  Itabaiana  280290.0   4830      97   11\n",
              "1296977  2020-11-14    SE  Itabaiana  280290.0   4835      97   11\n",
              "\n",
              "[224 rows x 7 columns]"
            ]
          },
          "execution_count": 43,
          "metadata": {},
          "output_type": "execute_result"
        }
      ],
      "source": [
        "df_itabaiana"
      ]
    },
    {
      "cell_type": "code",
      "execution_count": null,
      "metadata": {
        "id": "mOWQJ6euS0ff",
        "outputId": "bcd3dcd6-c07a-4521-d89f-62265d1ad649"
      },
      "outputs": [
        {
          "data": {
            "application/vnd.plotly.v1+json": {
              "config": {
                "plotlyServerURL": "https://plot.ly"
              },
              "data": [
                {
                  "name": "Ribeirópolis",
                  "type": "scatter",
                  "x": [
                    "2020-04-27",
                    "2020-04-28",
                    "2020-04-29",
                    "2020-04-30",
                    "2020-05-01",
                    "2020-05-02",
                    "2020-05-03",
                    "2020-05-04",
                    "2020-05-05",
                    "2020-05-06",
                    "2020-05-07",
                    "2020-05-08",
                    "2020-05-09",
                    "2020-05-10",
                    "2020-05-11",
                    "2020-05-12",
                    "2020-05-13",
                    "2020-05-14",
                    "2020-05-15",
                    "2020-05-16",
                    "2020-05-17",
                    "2020-05-18",
                    "2020-05-19",
                    "2020-05-20",
                    "2020-05-21",
                    "2020-05-22",
                    "2020-05-23",
                    "2020-05-24",
                    "2020-05-25",
                    "2020-05-26",
                    "2020-05-27",
                    "2020-05-28",
                    "2020-05-29",
                    "2020-05-30",
                    "2020-05-31",
                    "2020-06-01",
                    "2020-06-02",
                    "2020-06-03",
                    "2020-06-04",
                    "2020-06-05",
                    "2020-06-06",
                    "2020-06-07",
                    "2020-06-08",
                    "2020-06-09",
                    "2020-06-10",
                    "2020-06-11",
                    "2020-06-12",
                    "2020-06-13",
                    "2020-06-14",
                    "2020-06-15",
                    "2020-06-16",
                    "2020-06-17",
                    "2020-06-18",
                    "2020-06-19",
                    "2020-06-20",
                    "2020-06-21",
                    "2020-06-22",
                    "2020-06-23",
                    "2020-06-24",
                    "2020-06-25",
                    "2020-06-26",
                    "2020-06-27",
                    "2020-06-28",
                    "2020-06-29",
                    "2020-06-30",
                    "2020-07-01",
                    "2020-07-02",
                    "2020-07-03",
                    "2020-07-04",
                    "2020-07-05",
                    "2020-07-06",
                    "2020-07-07",
                    "2020-07-08",
                    "2020-07-09",
                    "2020-07-10",
                    "2020-07-11",
                    "2020-07-12",
                    "2020-07-13",
                    "2020-07-14",
                    "2020-07-15",
                    "2020-07-16",
                    "2020-07-17",
                    "2020-07-18",
                    "2020-07-19",
                    "2020-07-20",
                    "2020-07-21",
                    "2020-07-22",
                    "2020-07-23",
                    "2020-07-24",
                    "2020-07-25",
                    "2020-07-26",
                    "2020-07-27",
                    "2020-07-28",
                    "2020-07-29",
                    "2020-07-30",
                    "2020-07-31",
                    "2020-08-01",
                    "2020-08-02",
                    "2020-08-03",
                    "2020-08-04",
                    "2020-08-05",
                    "2020-08-06",
                    "2020-08-07",
                    "2020-08-08",
                    "2020-08-09",
                    "2020-08-10",
                    "2020-08-11",
                    "2020-08-12",
                    "2020-08-13",
                    "2020-08-14",
                    "2020-08-15",
                    "2020-08-16",
                    "2020-08-17",
                    "2020-08-18",
                    "2020-08-19",
                    "2020-08-20",
                    "2020-08-21",
                    "2020-08-22",
                    "2020-08-23",
                    "2020-08-24",
                    "2020-08-25",
                    "2020-08-26",
                    "2020-08-27",
                    "2020-08-28",
                    "2020-08-29",
                    "2020-08-30",
                    "2020-08-31",
                    "2020-09-01",
                    "2020-09-02",
                    "2020-09-03",
                    "2020-09-04",
                    "2020-09-05",
                    "2020-09-06",
                    "2020-09-07",
                    "2020-09-08",
                    "2020-09-09",
                    "2020-09-10",
                    "2020-09-11",
                    "2020-09-12",
                    "2020-09-13",
                    "2020-09-14",
                    "2020-09-15",
                    "2020-09-16",
                    "2020-09-17",
                    "2020-09-18",
                    "2020-09-19",
                    "2020-09-20",
                    "2020-09-21",
                    "2020-09-22",
                    "2020-09-23",
                    "2020-09-24",
                    "2020-09-25",
                    "2020-09-26",
                    "2020-09-27",
                    "2020-09-28",
                    "2020-09-29",
                    "2020-09-30",
                    "2020-10-01",
                    "2020-10-02",
                    "2020-10-03",
                    "2020-10-04",
                    "2020-10-05",
                    "2020-10-06",
                    "2020-10-07",
                    "2020-10-08",
                    "2020-10-09",
                    "2020-10-10",
                    "2020-10-11",
                    "2020-10-12",
                    "2020-10-13",
                    "2020-10-14",
                    "2020-10-15",
                    "2020-10-16",
                    "2020-10-17",
                    "2020-10-18",
                    "2020-10-19",
                    "2020-10-20",
                    "2020-10-21",
                    "2020-10-22",
                    "2020-10-23",
                    "2020-10-24",
                    "2020-10-25",
                    "2020-10-26",
                    "2020-10-27",
                    "2020-10-28",
                    "2020-10-29",
                    "2020-10-30",
                    "2020-10-31",
                    "2020-11-01",
                    "2020-11-02",
                    "2020-11-03",
                    "2020-11-04",
                    "2020-11-05",
                    "2020-11-06",
                    "2020-11-07",
                    "2020-11-08",
                    "2020-11-09",
                    "2020-11-10",
                    "2020-11-11",
                    "2020-11-12",
                    "2020-11-13",
                    "2020-11-14"
                  ],
                  "y": [
                    1,
                    1,
                    1,
                    1,
                    1,
                    1,
                    1,
                    1,
                    1,
                    1,
                    1,
                    1,
                    1,
                    2,
                    2,
                    2,
                    2,
                    2,
                    3,
                    3,
                    4,
                    5,
                    5,
                    6,
                    7,
                    7,
                    7,
                    9,
                    9,
                    9,
                    9,
                    9,
                    11,
                    12,
                    12,
                    12,
                    12,
                    13,
                    13,
                    13,
                    22,
                    24,
                    25,
                    25,
                    27,
                    27,
                    33,
                    36,
                    40,
                    40,
                    45,
                    45,
                    45,
                    45,
                    46,
                    46,
                    46,
                    47,
                    48,
                    53,
                    53,
                    53,
                    54,
                    56,
                    57,
                    57,
                    62,
                    68,
                    77,
                    77,
                    77,
                    78,
                    84,
                    86,
                    89,
                    92,
                    93,
                    93,
                    103,
                    112,
                    113,
                    124,
                    124,
                    126,
                    128,
                    135,
                    145,
                    149,
                    155,
                    161,
                    161,
                    163,
                    173,
                    202,
                    209,
                    216,
                    220,
                    222,
                    222,
                    230,
                    241,
                    242,
                    273,
                    282,
                    282,
                    282,
                    289,
                    301,
                    321,
                    328,
                    339,
                    343,
                    345,
                    355,
                    365,
                    373,
                    374,
                    378,
                    393,
                    394,
                    394,
                    395,
                    395,
                    398,
                    398,
                    400,
                    401,
                    401,
                    401,
                    403,
                    403,
                    402,
                    403,
                    407,
                    407,
                    407,
                    407,
                    409,
                    409,
                    409,
                    409,
                    410,
                    410,
                    411,
                    411,
                    412,
                    414,
                    417,
                    417,
                    419,
                    419,
                    419,
                    419,
                    419,
                    420,
                    420,
                    420,
                    422,
                    422,
                    422,
                    423,
                    423,
                    423,
                    425,
                    425,
                    425,
                    426,
                    426,
                    426,
                    427,
                    427,
                    428,
                    430,
                    430,
                    434,
                    434,
                    434,
                    434,
                    434,
                    436,
                    438,
                    438,
                    438,
                    438,
                    438,
                    438,
                    438,
                    439,
                    439,
                    439,
                    439,
                    439,
                    440,
                    440,
                    440,
                    440,
                    440,
                    440,
                    441,
                    441,
                    441,
                    441
                  ]
                },
                {
                  "name": "Lagarto",
                  "type": "scatter",
                  "x": [
                    "2020-04-18",
                    "2020-04-19",
                    "2020-04-20",
                    "2020-04-21",
                    "2020-04-22",
                    "2020-04-23",
                    "2020-04-24",
                    "2020-04-25",
                    "2020-04-26",
                    "2020-04-27",
                    "2020-04-28",
                    "2020-04-29",
                    "2020-04-30",
                    "2020-05-01",
                    "2020-05-02",
                    "2020-05-03",
                    "2020-05-04",
                    "2020-05-05",
                    "2020-05-06",
                    "2020-05-07",
                    "2020-05-08",
                    "2020-05-09",
                    "2020-05-10",
                    "2020-05-11",
                    "2020-05-12",
                    "2020-05-13",
                    "2020-05-14",
                    "2020-05-15",
                    "2020-05-16",
                    "2020-05-17",
                    "2020-05-18",
                    "2020-05-19",
                    "2020-05-20",
                    "2020-05-21",
                    "2020-05-22",
                    "2020-05-23",
                    "2020-05-24",
                    "2020-05-25",
                    "2020-05-26",
                    "2020-05-27",
                    "2020-05-28",
                    "2020-05-29",
                    "2020-05-30",
                    "2020-05-31",
                    "2020-06-01",
                    "2020-06-02",
                    "2020-06-03",
                    "2020-06-04",
                    "2020-06-05",
                    "2020-06-06",
                    "2020-06-07",
                    "2020-06-08",
                    "2020-06-09",
                    "2020-06-10",
                    "2020-06-11",
                    "2020-06-12",
                    "2020-06-13",
                    "2020-06-14",
                    "2020-06-15",
                    "2020-06-16",
                    "2020-06-17",
                    "2020-06-18",
                    "2020-06-19",
                    "2020-06-20",
                    "2020-06-21",
                    "2020-06-22",
                    "2020-06-23",
                    "2020-06-24",
                    "2020-06-25",
                    "2020-06-26",
                    "2020-06-27",
                    "2020-06-28",
                    "2020-06-29",
                    "2020-06-30",
                    "2020-07-01",
                    "2020-07-02",
                    "2020-07-03",
                    "2020-07-04",
                    "2020-07-05",
                    "2020-07-06",
                    "2020-07-07",
                    "2020-07-08",
                    "2020-07-09",
                    "2020-07-10",
                    "2020-07-11",
                    "2020-07-12",
                    "2020-07-13",
                    "2020-07-14",
                    "2020-07-15",
                    "2020-07-16",
                    "2020-07-17",
                    "2020-07-18",
                    "2020-07-19",
                    "2020-07-20",
                    "2020-07-21",
                    "2020-07-22",
                    "2020-07-23",
                    "2020-07-24",
                    "2020-07-25",
                    "2020-07-26",
                    "2020-07-27",
                    "2020-07-28",
                    "2020-07-29",
                    "2020-07-30",
                    "2020-07-31",
                    "2020-08-01",
                    "2020-08-02",
                    "2020-08-03",
                    "2020-08-04",
                    "2020-08-05",
                    "2020-08-06",
                    "2020-08-07",
                    "2020-08-08",
                    "2020-08-09",
                    "2020-08-10",
                    "2020-08-11",
                    "2020-08-12",
                    "2020-08-13",
                    "2020-08-14",
                    "2020-08-15",
                    "2020-08-16",
                    "2020-08-17",
                    "2020-08-18",
                    "2020-08-19",
                    "2020-08-20",
                    "2020-08-21",
                    "2020-08-22",
                    "2020-08-23",
                    "2020-08-24",
                    "2020-08-25",
                    "2020-08-26",
                    "2020-08-27",
                    "2020-08-28",
                    "2020-08-29",
                    "2020-08-30",
                    "2020-08-31",
                    "2020-09-01",
                    "2020-09-02",
                    "2020-09-03",
                    "2020-09-04",
                    "2020-09-05",
                    "2020-09-06",
                    "2020-09-07",
                    "2020-09-08",
                    "2020-09-09",
                    "2020-09-10",
                    "2020-09-11",
                    "2020-09-12",
                    "2020-09-13",
                    "2020-09-14",
                    "2020-09-15",
                    "2020-09-16",
                    "2020-09-17",
                    "2020-09-18",
                    "2020-09-19",
                    "2020-09-20",
                    "2020-09-21",
                    "2020-09-22",
                    "2020-09-23",
                    "2020-09-24",
                    "2020-09-25",
                    "2020-09-26",
                    "2020-09-27",
                    "2020-09-28",
                    "2020-09-29",
                    "2020-09-30",
                    "2020-10-01",
                    "2020-10-02",
                    "2020-10-03",
                    "2020-10-04",
                    "2020-10-05",
                    "2020-10-06",
                    "2020-10-07",
                    "2020-10-08",
                    "2020-10-09",
                    "2020-10-10",
                    "2020-10-11",
                    "2020-10-12",
                    "2020-10-13",
                    "2020-10-14",
                    "2020-10-15",
                    "2020-10-16",
                    "2020-10-17",
                    "2020-10-18",
                    "2020-10-19",
                    "2020-10-20",
                    "2020-10-21",
                    "2020-10-22",
                    "2020-10-23",
                    "2020-10-24",
                    "2020-10-25",
                    "2020-10-26",
                    "2020-10-27",
                    "2020-10-28",
                    "2020-10-29",
                    "2020-10-30",
                    "2020-10-31",
                    "2020-11-01",
                    "2020-11-02",
                    "2020-11-03",
                    "2020-11-04",
                    "2020-11-05",
                    "2020-11-06",
                    "2020-11-07",
                    "2020-11-08",
                    "2020-11-09",
                    "2020-11-10",
                    "2020-11-11",
                    "2020-11-12",
                    "2020-11-13",
                    "2020-11-14"
                  ],
                  "y": [
                    1,
                    1,
                    1,
                    1,
                    2,
                    2,
                    2,
                    2,
                    2,
                    2,
                    2,
                    7,
                    8,
                    11,
                    13,
                    13,
                    13,
                    15,
                    17,
                    18,
                    18,
                    18,
                    25,
                    25,
                    27,
                    29,
                    29,
                    30,
                    31,
                    31,
                    32,
                    34,
                    38,
                    99,
                    99,
                    110,
                    118,
                    118,
                    126,
                    127,
                    128,
                    138,
                    146,
                    148,
                    161,
                    161,
                    167,
                    167,
                    179,
                    191,
                    195,
                    200,
                    210,
                    217,
                    242,
                    248,
                    282,
                    287,
                    302,
                    305,
                    340,
                    352,
                    354,
                    379,
                    380,
                    393,
                    414,
                    432,
                    456,
                    467,
                    490,
                    525,
                    526,
                    559,
                    565,
                    568,
                    631,
                    675,
                    691,
                    710,
                    760,
                    759,
                    806,
                    829,
                    888,
                    939,
                    949,
                    952,
                    986,
                    1019,
                    1031,
                    1073,
                    1099,
                    1185,
                    1243,
                    1328,
                    1343,
                    1399,
                    1493,
                    1502,
                    1536,
                    1577,
                    1578,
                    1650,
                    1723,
                    1771,
                    1774,
                    1780,
                    1813,
                    1888,
                    1935,
                    1977,
                    1978,
                    2041,
                    2080,
                    2117,
                    2163,
                    2210,
                    2243,
                    2268,
                    2286,
                    2329,
                    2330,
                    2332,
                    2376,
                    2385,
                    2390,
                    2394,
                    2405,
                    2405,
                    2426,
                    2453,
                    2467,
                    2482,
                    2485,
                    2494,
                    2494,
                    2514,
                    2528,
                    2559,
                    2570,
                    2574,
                    2574,
                    2574,
                    2575,
                    2579,
                    2608,
                    2630,
                    2630,
                    2634,
                    2634,
                    2649,
                    2658,
                    2659,
                    2660,
                    2665,
                    2678,
                    2701,
                    2720,
                    2728,
                    2728,
                    2728,
                    2734,
                    2735,
                    2744,
                    2750,
                    2758,
                    2762,
                    2762,
                    2764,
                    2766,
                    2770,
                    2782,
                    2786,
                    2799,
                    2800,
                    2806,
                    2807,
                    2810,
                    2815,
                    2825,
                    2826,
                    2827,
                    2838,
                    2846,
                    2848,
                    2854,
                    2856,
                    2860,
                    2860,
                    2864,
                    2870,
                    2872,
                    2874,
                    2878,
                    2879,
                    2880,
                    2880,
                    2883,
                    2883,
                    2893,
                    2899,
                    2899,
                    2899,
                    2902,
                    2902,
                    2902,
                    2903,
                    2908,
                    2908,
                    2912
                  ]
                },
                {
                  "name": "Propriá",
                  "type": "scatter",
                  "x": [
                    "2020-03-28",
                    "2020-03-29",
                    "2020-03-30",
                    "2020-03-31",
                    "2020-04-01",
                    "2020-04-02",
                    "2020-04-03",
                    "2020-04-04",
                    "2020-04-05",
                    "2020-04-06",
                    "2020-04-07",
                    "2020-04-08",
                    "2020-04-09",
                    "2020-04-10",
                    "2020-04-11",
                    "2020-04-12",
                    "2020-04-13",
                    "2020-04-14",
                    "2020-04-15",
                    "2020-04-16",
                    "2020-04-17",
                    "2020-04-18",
                    "2020-04-19",
                    "2020-04-20",
                    "2020-04-21",
                    "2020-04-22",
                    "2020-04-23",
                    "2020-04-24",
                    "2020-04-25",
                    "2020-04-26",
                    "2020-04-27",
                    "2020-04-28",
                    "2020-04-29",
                    "2020-04-30",
                    "2020-05-01",
                    "2020-05-02",
                    "2020-05-03",
                    "2020-05-04",
                    "2020-05-05",
                    "2020-05-06",
                    "2020-05-07",
                    "2020-05-08",
                    "2020-05-09",
                    "2020-05-10",
                    "2020-05-11",
                    "2020-05-12",
                    "2020-05-13",
                    "2020-05-14",
                    "2020-05-15",
                    "2020-05-16",
                    "2020-05-17",
                    "2020-05-18",
                    "2020-05-19",
                    "2020-05-20",
                    "2020-05-21",
                    "2020-05-22",
                    "2020-05-23",
                    "2020-05-24",
                    "2020-05-25",
                    "2020-05-26",
                    "2020-05-27",
                    "2020-05-28",
                    "2020-05-29",
                    "2020-05-30",
                    "2020-05-31",
                    "2020-06-01",
                    "2020-06-02",
                    "2020-06-03",
                    "2020-06-04",
                    "2020-06-05",
                    "2020-06-06",
                    "2020-06-07",
                    "2020-06-08",
                    "2020-06-09",
                    "2020-06-10",
                    "2020-06-11",
                    "2020-06-12",
                    "2020-06-13",
                    "2020-06-14",
                    "2020-06-15",
                    "2020-06-16",
                    "2020-06-17",
                    "2020-06-18",
                    "2020-06-19",
                    "2020-06-20",
                    "2020-06-21",
                    "2020-06-22",
                    "2020-06-23",
                    "2020-06-24",
                    "2020-06-25",
                    "2020-06-26",
                    "2020-06-27",
                    "2020-06-28",
                    "2020-06-29",
                    "2020-06-30",
                    "2020-07-01",
                    "2020-07-02",
                    "2020-07-03",
                    "2020-07-04",
                    "2020-07-05",
                    "2020-07-06",
                    "2020-07-07",
                    "2020-07-08",
                    "2020-07-09",
                    "2020-07-10",
                    "2020-07-11",
                    "2020-07-12",
                    "2020-07-13",
                    "2020-07-14",
                    "2020-07-15",
                    "2020-07-16",
                    "2020-07-17",
                    "2020-07-18",
                    "2020-07-19",
                    "2020-07-20",
                    "2020-07-21",
                    "2020-07-22",
                    "2020-07-23",
                    "2020-07-24",
                    "2020-07-25",
                    "2020-07-26",
                    "2020-07-27",
                    "2020-07-28",
                    "2020-07-29",
                    "2020-07-30",
                    "2020-07-31",
                    "2020-08-01",
                    "2020-08-02",
                    "2020-08-03",
                    "2020-08-04",
                    "2020-08-05",
                    "2020-08-06",
                    "2020-08-07",
                    "2020-08-08",
                    "2020-08-09",
                    "2020-08-10",
                    "2020-08-11",
                    "2020-08-12",
                    "2020-08-13",
                    "2020-08-14",
                    "2020-08-15",
                    "2020-08-16",
                    "2020-08-17",
                    "2020-08-18",
                    "2020-08-19",
                    "2020-08-20",
                    "2020-08-21",
                    "2020-08-22",
                    "2020-08-23",
                    "2020-08-24",
                    "2020-08-25",
                    "2020-08-26",
                    "2020-08-27",
                    "2020-08-28",
                    "2020-08-29",
                    "2020-08-30",
                    "2020-08-31",
                    "2020-09-01",
                    "2020-09-02",
                    "2020-09-03",
                    "2020-09-04",
                    "2020-09-05",
                    "2020-09-06",
                    "2020-09-07",
                    "2020-09-08",
                    "2020-09-09",
                    "2020-09-10",
                    "2020-09-11",
                    "2020-09-12",
                    "2020-09-13",
                    "2020-09-14",
                    "2020-09-15",
                    "2020-09-16",
                    "2020-09-17",
                    "2020-09-18",
                    "2020-09-19",
                    "2020-09-20",
                    "2020-09-21",
                    "2020-09-22",
                    "2020-09-23",
                    "2020-09-24",
                    "2020-09-25",
                    "2020-09-26",
                    "2020-09-27",
                    "2020-09-28",
                    "2020-09-29",
                    "2020-09-30",
                    "2020-10-01",
                    "2020-10-02",
                    "2020-10-03",
                    "2020-10-04",
                    "2020-10-05",
                    "2020-10-06",
                    "2020-10-07",
                    "2020-10-08",
                    "2020-10-09",
                    "2020-10-10",
                    "2020-10-11",
                    "2020-10-12",
                    "2020-10-13",
                    "2020-10-14",
                    "2020-10-15",
                    "2020-10-16",
                    "2020-10-17",
                    "2020-10-18",
                    "2020-10-19",
                    "2020-10-20",
                    "2020-10-21",
                    "2020-10-22",
                    "2020-10-23",
                    "2020-10-24",
                    "2020-10-25",
                    "2020-10-26",
                    "2020-10-27",
                    "2020-10-28",
                    "2020-10-29",
                    "2020-10-30",
                    "2020-10-31",
                    "2020-11-01",
                    "2020-11-02",
                    "2020-11-03",
                    "2020-11-04",
                    "2020-11-05",
                    "2020-11-06",
                    "2020-11-07",
                    "2020-11-08",
                    "2020-11-09",
                    "2020-11-10",
                    "2020-11-11",
                    "2020-11-12",
                    "2020-11-13",
                    "2020-11-14"
                  ],
                  "y": [
                    2,
                    2,
                    2,
                    2,
                    2,
                    2,
                    2,
                    2,
                    2,
                    2,
                    2,
                    2,
                    2,
                    2,
                    2,
                    2,
                    2,
                    2,
                    2,
                    2,
                    2,
                    2,
                    2,
                    2,
                    2,
                    2,
                    2,
                    2,
                    2,
                    2,
                    2,
                    2,
                    2,
                    2,
                    2,
                    2,
                    2,
                    2,
                    2,
                    3,
                    4,
                    4,
                    5,
                    5,
                    5,
                    5,
                    8,
                    8,
                    9,
                    9,
                    13,
                    16,
                    16,
                    16,
                    16,
                    19,
                    20,
                    23,
                    25,
                    25,
                    25,
                    26,
                    32,
                    34,
                    34,
                    36,
                    37,
                    44,
                    47,
                    52,
                    56,
                    57,
                    59,
                    62,
                    64,
                    64,
                    65,
                    70,
                    85,
                    90,
                    88,
                    91,
                    106,
                    106,
                    107,
                    133,
                    145,
                    160,
                    177,
                    201,
                    207,
                    234,
                    250,
                    251,
                    266,
                    278,
                    291,
                    363,
                    405,
                    418,
                    418,
                    429,
                    470,
                    495,
                    552,
                    593,
                    619,
                    627,
                    648,
                    670,
                    703,
                    709,
                    709,
                    738,
                    749,
                    752,
                    843,
                    871,
                    904,
                    905,
                    907,
                    919,
                    920,
                    941,
                    944,
                    972,
                    993,
                    994,
                    994,
                    998,
                    999,
                    1002,
                    1041,
                    1045,
                    1047,
                    1049,
                    1056,
                    1060,
                    1070,
                    1072,
                    1078,
                    1078,
                    1078,
                    1079,
                    1083,
                    1088,
                    1091,
                    1092,
                    1096,
                    1096,
                    1097,
                    1103,
                    1104,
                    1106,
                    1109,
                    1109,
                    1109,
                    1113,
                    1115,
                    1116,
                    1117,
                    1118,
                    1119,
                    1119,
                    1120,
                    1120,
                    1121,
                    1123,
                    1123,
                    1124,
                    1124,
                    1125,
                    1125,
                    1126,
                    1126,
                    1126,
                    1126,
                    1126,
                    1126,
                    1127,
                    1130,
                    1144,
                    1144,
                    1149,
                    1150,
                    1152,
                    1168,
                    1169,
                    1169,
                    1169,
                    1171,
                    1171,
                    1171,
                    1171,
                    1172,
                    1177,
                    1177,
                    1177,
                    1177,
                    1178,
                    1187,
                    1187,
                    1189,
                    1190,
                    1192,
                    1194,
                    1195,
                    1203,
                    1212,
                    1212,
                    1212,
                    1212,
                    1212,
                    1212,
                    1212,
                    1216,
                    1222,
                    1223,
                    1223,
                    1224,
                    1225,
                    1235,
                    1235,
                    1235,
                    1235,
                    1235,
                    1235,
                    1236,
                    1236,
                    1238,
                    1238,
                    1240
                  ]
                },
                {
                  "name": "Itabaiana",
                  "type": "scatter",
                  "x": [
                    "2020-04-05",
                    "2020-04-06",
                    "2020-04-07",
                    "2020-04-08",
                    "2020-04-09",
                    "2020-04-10",
                    "2020-04-11",
                    "2020-04-12",
                    "2020-04-13",
                    "2020-04-14",
                    "2020-04-15",
                    "2020-04-16",
                    "2020-04-17",
                    "2020-04-18",
                    "2020-04-19",
                    "2020-04-20",
                    "2020-04-21",
                    "2020-04-22",
                    "2020-04-23",
                    "2020-04-24",
                    "2020-04-25",
                    "2020-04-26",
                    "2020-04-27",
                    "2020-04-28",
                    "2020-04-29",
                    "2020-04-30",
                    "2020-05-01",
                    "2020-05-02",
                    "2020-05-03",
                    "2020-05-04",
                    "2020-05-05",
                    "2020-05-06",
                    "2020-05-07",
                    "2020-05-08",
                    "2020-05-09",
                    "2020-05-10",
                    "2020-05-11",
                    "2020-05-12",
                    "2020-05-13",
                    "2020-05-14",
                    "2020-05-15",
                    "2020-05-16",
                    "2020-05-17",
                    "2020-05-18",
                    "2020-05-19",
                    "2020-05-20",
                    "2020-05-21",
                    "2020-05-22",
                    "2020-05-23",
                    "2020-05-24",
                    "2020-05-25",
                    "2020-05-26",
                    "2020-05-27",
                    "2020-05-28",
                    "2020-05-29",
                    "2020-05-30",
                    "2020-05-31",
                    "2020-06-01",
                    "2020-06-02",
                    "2020-06-03",
                    "2020-06-04",
                    "2020-06-05",
                    "2020-06-06",
                    "2020-06-07",
                    "2020-06-08",
                    "2020-06-09",
                    "2020-06-10",
                    "2020-06-11",
                    "2020-06-12",
                    "2020-06-13",
                    "2020-06-14",
                    "2020-06-15",
                    "2020-06-16",
                    "2020-06-17",
                    "2020-06-18",
                    "2020-06-19",
                    "2020-06-20",
                    "2020-06-21",
                    "2020-06-22",
                    "2020-06-23",
                    "2020-06-24",
                    "2020-06-25",
                    "2020-06-26",
                    "2020-06-27",
                    "2020-06-28",
                    "2020-06-29",
                    "2020-06-30",
                    "2020-07-01",
                    "2020-07-02",
                    "2020-07-03",
                    "2020-07-04",
                    "2020-07-05",
                    "2020-07-06",
                    "2020-07-07",
                    "2020-07-08",
                    "2020-07-09",
                    "2020-07-10",
                    "2020-07-11",
                    "2020-07-12",
                    "2020-07-13",
                    "2020-07-14",
                    "2020-07-15",
                    "2020-07-16",
                    "2020-07-17",
                    "2020-07-18",
                    "2020-07-19",
                    "2020-07-20",
                    "2020-07-21",
                    "2020-07-22",
                    "2020-07-23",
                    "2020-07-24",
                    "2020-07-25",
                    "2020-07-26",
                    "2020-07-27",
                    "2020-07-28",
                    "2020-07-29",
                    "2020-07-30",
                    "2020-07-31",
                    "2020-08-01",
                    "2020-08-02",
                    "2020-08-03",
                    "2020-08-04",
                    "2020-08-05",
                    "2020-08-06",
                    "2020-08-07",
                    "2020-08-08",
                    "2020-08-09",
                    "2020-08-10",
                    "2020-08-11",
                    "2020-08-12",
                    "2020-08-13",
                    "2020-08-14",
                    "2020-08-15",
                    "2020-08-16",
                    "2020-08-17",
                    "2020-08-18",
                    "2020-08-19",
                    "2020-08-20",
                    "2020-08-21",
                    "2020-08-22",
                    "2020-08-23",
                    "2020-08-24",
                    "2020-08-25",
                    "2020-08-26",
                    "2020-08-27",
                    "2020-08-28",
                    "2020-08-29",
                    "2020-08-30",
                    "2020-08-31",
                    "2020-09-01",
                    "2020-09-02",
                    "2020-09-03",
                    "2020-09-04",
                    "2020-09-05",
                    "2020-09-06",
                    "2020-09-07",
                    "2020-09-08",
                    "2020-09-09",
                    "2020-09-10",
                    "2020-09-11",
                    "2020-09-12",
                    "2020-09-13",
                    "2020-09-14",
                    "2020-09-15",
                    "2020-09-16",
                    "2020-09-17",
                    "2020-09-18",
                    "2020-09-19",
                    "2020-09-20",
                    "2020-09-21",
                    "2020-09-22",
                    "2020-09-23",
                    "2020-09-24",
                    "2020-09-25",
                    "2020-09-26",
                    "2020-09-27",
                    "2020-09-28",
                    "2020-09-29",
                    "2020-09-30",
                    "2020-10-01",
                    "2020-10-02",
                    "2020-10-03",
                    "2020-10-04",
                    "2020-10-05",
                    "2020-10-06",
                    "2020-10-07",
                    "2020-10-08",
                    "2020-10-09",
                    "2020-10-10",
                    "2020-10-11",
                    "2020-10-12",
                    "2020-10-13",
                    "2020-10-14",
                    "2020-10-15",
                    "2020-10-16",
                    "2020-10-17",
                    "2020-10-18",
                    "2020-10-19",
                    "2020-10-20",
                    "2020-10-21",
                    "2020-10-22",
                    "2020-10-23",
                    "2020-10-24",
                    "2020-10-25",
                    "2020-10-26",
                    "2020-10-27",
                    "2020-10-28",
                    "2020-10-29",
                    "2020-10-30",
                    "2020-10-31",
                    "2020-11-01",
                    "2020-11-02",
                    "2020-11-03",
                    "2020-11-04",
                    "2020-11-05",
                    "2020-11-06",
                    "2020-11-07",
                    "2020-11-08",
                    "2020-11-09",
                    "2020-11-10",
                    "2020-11-11",
                    "2020-11-12",
                    "2020-11-13",
                    "2020-11-14"
                  ],
                  "y": [
                    1,
                    1,
                    1,
                    1,
                    1,
                    1,
                    1,
                    1,
                    1,
                    1,
                    1,
                    1,
                    1,
                    2,
                    2,
                    2,
                    4,
                    4,
                    4,
                    4,
                    4,
                    6,
                    10,
                    12,
                    13,
                    14,
                    15,
                    20,
                    29,
                    29,
                    33,
                    33,
                    38,
                    40,
                    43,
                    44,
                    44,
                    52,
                    52,
                    68,
                    158,
                    165,
                    175,
                    179,
                    179,
                    195,
                    218,
                    229,
                    231,
                    240,
                    243,
                    251,
                    262,
                    266,
                    277,
                    284,
                    288,
                    311,
                    313,
                    360,
                    368,
                    379,
                    408,
                    421,
                    456,
                    464,
                    486,
                    503,
                    504,
                    578,
                    619,
                    638,
                    639,
                    708,
                    709,
                    712,
                    769,
                    827,
                    848,
                    845,
                    903,
                    949,
                    984,
                    1007,
                    1057,
                    1098,
                    1112,
                    1116,
                    1218,
                    1311,
                    1470,
                    1479,
                    1503,
                    1533,
                    1582,
                    1672,
                    1776,
                    1815,
                    1840,
                    1876,
                    1923,
                    1979,
                    2021,
                    2075,
                    2128,
                    2205,
                    2294,
                    2313,
                    2340,
                    2425,
                    2539,
                    2692,
                    2687,
                    2717,
                    2826,
                    2936,
                    3175,
                    3207,
                    3248,
                    3244,
                    3251,
                    3294,
                    3520,
                    3714,
                    3771,
                    3831,
                    3839,
                    3855,
                    3856,
                    3855,
                    3950,
                    3970,
                    3976,
                    3999,
                    4002,
                    4002,
                    4057,
                    4136,
                    4176,
                    4199,
                    4216,
                    4228,
                    4237,
                    4276,
                    4301,
                    4307,
                    4310,
                    4311,
                    4311,
                    4310,
                    4343,
                    4369,
                    4374,
                    4400,
                    4404,
                    4410,
                    4415,
                    4420,
                    4451,
                    4470,
                    4484,
                    4491,
                    4505,
                    4510,
                    4518,
                    4531,
                    4532,
                    4533,
                    4530,
                    4553,
                    4565,
                    4578,
                    4583,
                    4586,
                    4590,
                    4597,
                    4604,
                    4611,
                    4615,
                    4623,
                    4624,
                    4625,
                    4634,
                    4636,
                    4641,
                    4649,
                    4653,
                    4657,
                    4661,
                    4669,
                    4673,
                    4688,
                    4691,
                    4693,
                    4697,
                    4701,
                    4709,
                    4716,
                    4723,
                    4731,
                    4738,
                    4748,
                    4751,
                    4754,
                    4777,
                    4778,
                    4783,
                    4787,
                    4793,
                    4797,
                    4799,
                    4807,
                    4811,
                    4811,
                    4812,
                    4812,
                    4814,
                    4815,
                    4818,
                    4820,
                    4824,
                    4830,
                    4830,
                    4835
                  ]
                },
                {
                  "name": "Nossa Senhora da Glória",
                  "type": "scatter",
                  "x": [
                    "2020-03-28",
                    "2020-03-29",
                    "2020-03-30",
                    "2020-03-31",
                    "2020-04-01",
                    "2020-04-02",
                    "2020-04-03",
                    "2020-04-04",
                    "2020-04-05",
                    "2020-04-06",
                    "2020-04-07",
                    "2020-04-08",
                    "2020-04-09",
                    "2020-04-10",
                    "2020-04-11",
                    "2020-04-12",
                    "2020-04-13",
                    "2020-04-14",
                    "2020-04-15",
                    "2020-04-16",
                    "2020-04-17",
                    "2020-04-18",
                    "2020-04-19",
                    "2020-04-20",
                    "2020-04-21",
                    "2020-04-22",
                    "2020-04-23",
                    "2020-04-24",
                    "2020-04-25",
                    "2020-04-26",
                    "2020-04-27",
                    "2020-04-28",
                    "2020-04-29",
                    "2020-04-30",
                    "2020-05-01",
                    "2020-05-02",
                    "2020-05-03",
                    "2020-05-04",
                    "2020-05-05",
                    "2020-05-06",
                    "2020-05-07",
                    "2020-05-08",
                    "2020-05-09",
                    "2020-05-10",
                    "2020-05-11",
                    "2020-05-12",
                    "2020-05-13",
                    "2020-05-14",
                    "2020-05-15",
                    "2020-05-16",
                    "2020-05-17",
                    "2020-05-18",
                    "2020-05-19",
                    "2020-05-20",
                    "2020-05-21",
                    "2020-05-22",
                    "2020-05-23",
                    "2020-05-24",
                    "2020-05-25",
                    "2020-05-26",
                    "2020-05-27",
                    "2020-05-28",
                    "2020-05-29",
                    "2020-05-30",
                    "2020-05-31",
                    "2020-06-01",
                    "2020-06-02",
                    "2020-06-03",
                    "2020-06-04",
                    "2020-06-05",
                    "2020-06-06",
                    "2020-06-07",
                    "2020-06-08",
                    "2020-06-09",
                    "2020-06-10",
                    "2020-06-11",
                    "2020-06-12",
                    "2020-06-13",
                    "2020-06-14",
                    "2020-06-15",
                    "2020-06-16",
                    "2020-06-17",
                    "2020-06-18",
                    "2020-06-19",
                    "2020-06-20",
                    "2020-06-21",
                    "2020-06-22",
                    "2020-06-23",
                    "2020-06-24",
                    "2020-06-25",
                    "2020-06-26",
                    "2020-06-27",
                    "2020-06-28",
                    "2020-06-29",
                    "2020-06-30",
                    "2020-07-01",
                    "2020-07-02",
                    "2020-07-03",
                    "2020-07-04",
                    "2020-07-05",
                    "2020-07-06",
                    "2020-07-07",
                    "2020-07-08",
                    "2020-07-09",
                    "2020-07-10",
                    "2020-07-11",
                    "2020-07-12",
                    "2020-07-13",
                    "2020-07-14",
                    "2020-07-15",
                    "2020-07-16",
                    "2020-07-17",
                    "2020-07-18",
                    "2020-07-19",
                    "2020-07-20",
                    "2020-07-21",
                    "2020-07-22",
                    "2020-07-23",
                    "2020-07-24",
                    "2020-07-25",
                    "2020-07-26",
                    "2020-07-27",
                    "2020-07-28",
                    "2020-07-29",
                    "2020-07-30",
                    "2020-07-31",
                    "2020-08-01",
                    "2020-08-02",
                    "2020-08-03",
                    "2020-08-04",
                    "2020-08-05",
                    "2020-08-06",
                    "2020-08-07",
                    "2020-08-08",
                    "2020-08-09",
                    "2020-08-10",
                    "2020-08-11",
                    "2020-08-12",
                    "2020-08-13",
                    "2020-08-14",
                    "2020-08-15",
                    "2020-08-16",
                    "2020-08-17",
                    "2020-08-18",
                    "2020-08-19",
                    "2020-08-20",
                    "2020-08-21",
                    "2020-08-22",
                    "2020-08-23",
                    "2020-08-24",
                    "2020-08-25",
                    "2020-08-26",
                    "2020-08-27",
                    "2020-08-28",
                    "2020-08-29",
                    "2020-08-30",
                    "2020-08-31",
                    "2020-09-01",
                    "2020-09-02",
                    "2020-09-03",
                    "2020-09-04",
                    "2020-09-05",
                    "2020-09-06",
                    "2020-09-07",
                    "2020-09-08",
                    "2020-09-09",
                    "2020-09-10",
                    "2020-09-11",
                    "2020-09-12",
                    "2020-09-13",
                    "2020-09-14",
                    "2020-09-15",
                    "2020-09-16",
                    "2020-09-17",
                    "2020-09-18",
                    "2020-09-19",
                    "2020-09-20",
                    "2020-09-21",
                    "2020-09-22",
                    "2020-09-23",
                    "2020-09-24",
                    "2020-09-25",
                    "2020-09-26",
                    "2020-09-27",
                    "2020-09-28",
                    "2020-09-29",
                    "2020-09-30",
                    "2020-10-01",
                    "2020-10-02",
                    "2020-10-03",
                    "2020-10-04",
                    "2020-10-05",
                    "2020-10-06",
                    "2020-10-07",
                    "2020-10-08",
                    "2020-10-09",
                    "2020-10-10",
                    "2020-10-11",
                    "2020-10-12",
                    "2020-10-13",
                    "2020-10-14",
                    "2020-10-15",
                    "2020-10-16",
                    "2020-10-17",
                    "2020-10-18",
                    "2020-10-19",
                    "2020-10-20",
                    "2020-10-21",
                    "2020-10-22",
                    "2020-10-23",
                    "2020-10-24",
                    "2020-10-25",
                    "2020-10-26",
                    "2020-10-27",
                    "2020-10-28",
                    "2020-10-29",
                    "2020-10-30",
                    "2020-10-31",
                    "2020-11-01",
                    "2020-11-02",
                    "2020-11-03",
                    "2020-11-04",
                    "2020-11-05",
                    "2020-11-06",
                    "2020-11-07",
                    "2020-11-08",
                    "2020-11-09",
                    "2020-11-10",
                    "2020-11-11",
                    "2020-11-12",
                    "2020-11-13",
                    "2020-11-14"
                  ],
                  "y": [
                    1,
                    1,
                    1,
                    1,
                    1,
                    1,
                    1,
                    1,
                    1,
                    1,
                    1,
                    1,
                    1,
                    2,
                    2,
                    2,
                    2,
                    2,
                    2,
                    2,
                    2,
                    2,
                    2,
                    2,
                    2,
                    2,
                    2,
                    2,
                    2,
                    2,
                    3,
                    3,
                    3,
                    3,
                    8,
                    9,
                    9,
                    9,
                    9,
                    9,
                    9,
                    10,
                    10,
                    14,
                    14,
                    16,
                    17,
                    21,
                    21,
                    31,
                    32,
                    43,
                    90,
                    101,
                    115,
                    125,
                    127,
                    127,
                    129,
                    130,
                    135,
                    136,
                    139,
                    171,
                    171,
                    170,
                    175,
                    182,
                    196,
                    201,
                    201,
                    213,
                    213,
                    221,
                    249,
                    259,
                    259,
                    269,
                    290,
                    312,
                    313,
                    320,
                    327,
                    328,
                    338,
                    345,
                    346,
                    347,
                    348,
                    350,
                    370,
                    373,
                    400,
                    400,
                    407,
                    407,
                    407,
                    427,
                    430,
                    432,
                    436,
                    445,
                    468,
                    470,
                    480,
                    484,
                    487,
                    513,
                    516,
                    516,
                    525,
                    529,
                    542,
                    566,
                    566,
                    583,
                    583,
                    584,
                    630,
                    631,
                    631,
                    673,
                    686,
                    689,
                    707,
                    719,
                    725,
                    733,
                    754,
                    772,
                    783,
                    788,
                    804,
                    809,
                    834,
                    835,
                    836,
                    836,
                    852,
                    855,
                    880,
                    884,
                    897,
                    908,
                    912,
                    938,
                    949,
                    952,
                    974,
                    987,
                    1001,
                    1018,
                    1035,
                    1048,
                    1060,
                    1062,
                    1062,
                    1076,
                    1086,
                    1101,
                    1101,
                    1109,
                    1114,
                    1117,
                    1117,
                    1130,
                    1131,
                    1135,
                    1148,
                    1149,
                    1157,
                    1158,
                    1158,
                    1161,
                    1163,
                    1167,
                    1168,
                    1173,
                    1173,
                    1173,
                    1173,
                    1173,
                    1185,
                    1188,
                    1188,
                    1187,
                    1190,
                    1190,
                    1194,
                    1202,
                    1204,
                    1205,
                    1205,
                    1205,
                    1207,
                    1210,
                    1217,
                    1219,
                    1219,
                    1219,
                    1219,
                    1219,
                    1223,
                    1225,
                    1230,
                    1230,
                    1230,
                    1231,
                    1235,
                    1236,
                    1236,
                    1241,
                    1242,
                    1243,
                    1243,
                    1245,
                    1245,
                    1246,
                    1247,
                    1248,
                    1248,
                    1248,
                    1248,
                    1248,
                    1248,
                    1249,
                    1249,
                    1249,
                    1249,
                    1249,
                    1249,
                    1249
                  ]
                },
                {
                  "name": "Nossa Senhora do Socorro",
                  "type": "scatter",
                  "x": [
                    "2020-04-16",
                    "2020-04-17",
                    "2020-04-18",
                    "2020-04-19",
                    "2020-04-20",
                    "2020-04-21",
                    "2020-04-22",
                    "2020-04-23",
                    "2020-04-24",
                    "2020-04-25",
                    "2020-04-26",
                    "2020-04-27",
                    "2020-04-28",
                    "2020-04-29",
                    "2020-04-30",
                    "2020-05-01",
                    "2020-05-02",
                    "2020-05-03",
                    "2020-05-04",
                    "2020-05-05",
                    "2020-05-06",
                    "2020-05-07",
                    "2020-05-08",
                    "2020-05-09",
                    "2020-05-10",
                    "2020-05-11",
                    "2020-05-12",
                    "2020-05-13",
                    "2020-05-14",
                    "2020-05-15",
                    "2020-05-16",
                    "2020-05-17",
                    "2020-05-18",
                    "2020-05-19",
                    "2020-05-20",
                    "2020-05-21",
                    "2020-05-22",
                    "2020-05-23",
                    "2020-05-24",
                    "2020-05-25",
                    "2020-05-26",
                    "2020-05-27",
                    "2020-05-28",
                    "2020-05-29",
                    "2020-05-30",
                    "2020-05-31",
                    "2020-06-01",
                    "2020-06-02",
                    "2020-06-03",
                    "2020-06-04",
                    "2020-06-05",
                    "2020-06-06",
                    "2020-06-07",
                    "2020-06-08",
                    "2020-06-09",
                    "2020-06-10",
                    "2020-06-11",
                    "2020-06-12",
                    "2020-06-13",
                    "2020-06-14",
                    "2020-06-15",
                    "2020-06-16",
                    "2020-06-17",
                    "2020-06-18",
                    "2020-06-19",
                    "2020-06-20",
                    "2020-06-21",
                    "2020-06-22",
                    "2020-06-23",
                    "2020-06-24",
                    "2020-06-25",
                    "2020-06-26",
                    "2020-06-27",
                    "2020-06-28",
                    "2020-06-29",
                    "2020-06-30",
                    "2020-07-01",
                    "2020-07-02",
                    "2020-07-03",
                    "2020-07-04",
                    "2020-07-05",
                    "2020-07-06",
                    "2020-07-07",
                    "2020-07-08",
                    "2020-07-09",
                    "2020-07-10",
                    "2020-07-11",
                    "2020-07-12",
                    "2020-07-13",
                    "2020-07-14",
                    "2020-07-15",
                    "2020-07-16",
                    "2020-07-17",
                    "2020-07-18",
                    "2020-07-19",
                    "2020-07-20",
                    "2020-07-21",
                    "2020-07-22",
                    "2020-07-23",
                    "2020-07-24",
                    "2020-07-25",
                    "2020-07-26",
                    "2020-07-27",
                    "2020-07-28",
                    "2020-07-29",
                    "2020-07-30",
                    "2020-07-31",
                    "2020-08-01",
                    "2020-08-02",
                    "2020-08-03",
                    "2020-08-04",
                    "2020-08-05",
                    "2020-08-06",
                    "2020-08-07",
                    "2020-08-08",
                    "2020-08-09",
                    "2020-08-10",
                    "2020-08-11",
                    "2020-08-12",
                    "2020-08-13",
                    "2020-08-14",
                    "2020-08-15",
                    "2020-08-16",
                    "2020-08-17",
                    "2020-08-18",
                    "2020-08-19",
                    "2020-08-20",
                    "2020-08-21",
                    "2020-08-22",
                    "2020-08-23",
                    "2020-08-24",
                    "2020-08-25",
                    "2020-08-26",
                    "2020-08-27",
                    "2020-08-28",
                    "2020-08-29",
                    "2020-08-30",
                    "2020-08-31",
                    "2020-09-01",
                    "2020-09-02",
                    "2020-09-03",
                    "2020-09-04",
                    "2020-09-05",
                    "2020-09-06",
                    "2020-09-07",
                    "2020-09-08",
                    "2020-09-09",
                    "2020-09-10",
                    "2020-09-11",
                    "2020-09-12",
                    "2020-09-13",
                    "2020-09-14",
                    "2020-09-15",
                    "2020-09-16",
                    "2020-09-17",
                    "2020-09-18",
                    "2020-09-19",
                    "2020-09-20",
                    "2020-09-21",
                    "2020-09-22",
                    "2020-09-23",
                    "2020-09-24",
                    "2020-09-25",
                    "2020-09-26",
                    "2020-09-27",
                    "2020-09-28",
                    "2020-09-29",
                    "2020-09-30",
                    "2020-10-01",
                    "2020-10-02",
                    "2020-10-03",
                    "2020-10-04",
                    "2020-10-05",
                    "2020-10-06",
                    "2020-10-07",
                    "2020-10-08",
                    "2020-10-09",
                    "2020-10-10",
                    "2020-10-11",
                    "2020-10-12",
                    "2020-10-13",
                    "2020-10-14",
                    "2020-10-15",
                    "2020-10-16",
                    "2020-10-17",
                    "2020-10-18",
                    "2020-10-19",
                    "2020-10-20",
                    "2020-10-21",
                    "2020-10-22",
                    "2020-10-23",
                    "2020-10-24",
                    "2020-10-25",
                    "2020-10-26",
                    "2020-10-27",
                    "2020-10-28",
                    "2020-10-29",
                    "2020-10-30",
                    "2020-10-31",
                    "2020-11-01",
                    "2020-11-02",
                    "2020-11-03",
                    "2020-11-04",
                    "2020-11-05",
                    "2020-11-06",
                    "2020-11-07",
                    "2020-11-08",
                    "2020-11-09",
                    "2020-11-10",
                    "2020-11-11",
                    "2020-11-12",
                    "2020-11-13",
                    "2020-11-14"
                  ],
                  "y": [
                    1,
                    1,
                    1,
                    1,
                    1,
                    1,
                    1,
                    2,
                    3,
                    6,
                    6,
                    6,
                    10,
                    21,
                    27,
                    30,
                    40,
                    49,
                    52,
                    59,
                    63,
                    74,
                    95,
                    111,
                    122,
                    126,
                    140,
                    163,
                    175,
                    187,
                    209,
                    227,
                    249,
                    259,
                    286,
                    373,
                    381,
                    396,
                    410,
                    426,
                    448,
                    457,
                    472,
                    498,
                    562,
                    578,
                    592,
                    613,
                    655,
                    675,
                    688,
                    711,
                    737,
                    768,
                    790,
                    820,
                    851,
                    877,
                    968,
                    1041,
                    1175,
                    1195,
                    1205,
                    1235,
                    1272,
                    1290,
                    1330,
                    1359,
                    1372,
                    1402,
                    1427,
                    1459,
                    1541,
                    1602,
                    1625,
                    1636,
                    1666,
                    1709,
                    1754,
                    1834,
                    1851,
                    1869,
                    1900,
                    1957,
                    1979,
                    2028,
                    2062,
                    2121,
                    2122,
                    2155,
                    2182,
                    2205,
                    2218,
                    2236,
                    2342,
                    2356,
                    2379,
                    2391,
                    2407,
                    2450,
                    2470,
                    2475,
                    2490,
                    2613,
                    2640,
                    2665,
                    2683,
                    2710,
                    2723,
                    2735,
                    2739,
                    2745,
                    2754,
                    2752,
                    2762,
                    2783,
                    2791,
                    2844,
                    2850,
                    2860,
                    2869,
                    2886,
                    2899,
                    2906,
                    2916,
                    2922,
                    2940,
                    2959,
                    2983,
                    2993,
                    2998,
                    3024,
                    3042,
                    3049,
                    3134,
                    3150,
                    3160,
                    3163,
                    3163,
                    3166,
                    3193,
                    3197,
                    3211,
                    3217,
                    3222,
                    3225,
                    3228,
                    3238,
                    3250,
                    3254,
                    3256,
                    3263,
                    3278,
                    3278,
                    3318,
                    3328,
                    3334,
                    3342,
                    3346,
                    3351,
                    3364,
                    3405,
                    3408,
                    3420,
                    3427,
                    3427,
                    3429,
                    3434,
                    3442,
                    3455,
                    3462,
                    3482,
                    3504,
                    3517,
                    3529,
                    3548,
                    3580,
                    3588,
                    3606,
                    3606,
                    3631,
                    3636,
                    3657,
                    3667,
                    3672,
                    3672,
                    3709,
                    3720,
                    3736,
                    3753,
                    3767,
                    3781,
                    3795,
                    3797,
                    3804,
                    3806,
                    3814,
                    3815,
                    3818,
                    3819,
                    3826,
                    3831,
                    3837,
                    3843,
                    3855,
                    3869,
                    3880,
                    3880,
                    3898,
                    3903,
                    3908,
                    3915,
                    3933
                  ]
                },
                {
                  "name": "Pirambu",
                  "type": "scatter",
                  "x": [
                    "2020-05-19",
                    "2020-05-20",
                    "2020-05-21",
                    "2020-05-22",
                    "2020-05-23",
                    "2020-05-24",
                    "2020-05-25",
                    "2020-05-26",
                    "2020-05-27",
                    "2020-05-28",
                    "2020-05-29",
                    "2020-05-30",
                    "2020-05-31",
                    "2020-06-01",
                    "2020-06-02",
                    "2020-06-03",
                    "2020-06-04",
                    "2020-06-05",
                    "2020-06-06",
                    "2020-06-07",
                    "2020-06-08",
                    "2020-06-09",
                    "2020-06-10",
                    "2020-06-11",
                    "2020-06-12",
                    "2020-06-13",
                    "2020-06-14",
                    "2020-06-15",
                    "2020-06-16",
                    "2020-06-17",
                    "2020-06-18",
                    "2020-06-19",
                    "2020-06-20",
                    "2020-06-21",
                    "2020-06-22",
                    "2020-06-23",
                    "2020-06-24",
                    "2020-06-25",
                    "2020-06-26",
                    "2020-06-27",
                    "2020-06-28",
                    "2020-06-29",
                    "2020-06-30",
                    "2020-07-01",
                    "2020-07-02",
                    "2020-07-03",
                    "2020-07-04",
                    "2020-07-05",
                    "2020-07-06",
                    "2020-07-07",
                    "2020-07-08",
                    "2020-07-09",
                    "2020-07-10",
                    "2020-07-11",
                    "2020-07-12",
                    "2020-07-13",
                    "2020-07-14",
                    "2020-07-15",
                    "2020-07-16",
                    "2020-07-17",
                    "2020-07-18",
                    "2020-07-19",
                    "2020-07-20",
                    "2020-07-21",
                    "2020-07-22",
                    "2020-07-23",
                    "2020-07-24",
                    "2020-07-25",
                    "2020-07-26",
                    "2020-07-27",
                    "2020-07-28",
                    "2020-07-29",
                    "2020-07-30",
                    "2020-07-31",
                    "2020-08-01",
                    "2020-08-02",
                    "2020-08-03",
                    "2020-08-04",
                    "2020-08-05",
                    "2020-08-06",
                    "2020-08-07",
                    "2020-08-08",
                    "2020-08-09",
                    "2020-08-10",
                    "2020-08-11",
                    "2020-08-12",
                    "2020-08-13",
                    "2020-08-14",
                    "2020-08-15",
                    "2020-08-16",
                    "2020-08-17",
                    "2020-08-18",
                    "2020-08-19",
                    "2020-08-20",
                    "2020-08-21",
                    "2020-08-22",
                    "2020-08-23",
                    "2020-08-24",
                    "2020-08-25",
                    "2020-08-26",
                    "2020-08-27",
                    "2020-08-28",
                    "2020-08-29",
                    "2020-08-30",
                    "2020-08-31",
                    "2020-09-01",
                    "2020-09-02",
                    "2020-09-03",
                    "2020-09-04",
                    "2020-09-05",
                    "2020-09-06",
                    "2020-09-07",
                    "2020-09-08",
                    "2020-09-09",
                    "2020-09-10",
                    "2020-09-11",
                    "2020-09-12",
                    "2020-09-13",
                    "2020-09-14",
                    "2020-09-15",
                    "2020-09-16",
                    "2020-09-17",
                    "2020-09-18",
                    "2020-09-19",
                    "2020-09-20",
                    "2020-09-21",
                    "2020-09-22",
                    "2020-09-23",
                    "2020-09-24",
                    "2020-09-25",
                    "2020-09-26",
                    "2020-09-27",
                    "2020-09-28",
                    "2020-09-29",
                    "2020-09-30",
                    "2020-10-01",
                    "2020-10-02",
                    "2020-10-03",
                    "2020-10-04",
                    "2020-10-05",
                    "2020-10-06",
                    "2020-10-07",
                    "2020-10-08",
                    "2020-10-09",
                    "2020-10-10",
                    "2020-10-11",
                    "2020-10-12",
                    "2020-10-13",
                    "2020-10-14",
                    "2020-10-15",
                    "2020-10-16",
                    "2020-10-17",
                    "2020-10-18",
                    "2020-10-19",
                    "2020-10-20",
                    "2020-10-21",
                    "2020-10-22",
                    "2020-10-23",
                    "2020-10-24",
                    "2020-10-25",
                    "2020-10-26",
                    "2020-10-27",
                    "2020-10-28",
                    "2020-10-29",
                    "2020-10-30",
                    "2020-10-31",
                    "2020-11-01",
                    "2020-11-02",
                    "2020-11-03",
                    "2020-11-04",
                    "2020-11-05",
                    "2020-11-06",
                    "2020-11-07",
                    "2020-11-08",
                    "2020-11-09",
                    "2020-11-10",
                    "2020-11-11",
                    "2020-11-12",
                    "2020-11-13",
                    "2020-11-14"
                  ],
                  "y": [
                    1,
                    2,
                    2,
                    2,
                    2,
                    2,
                    2,
                    2,
                    2,
                    4,
                    4,
                    6,
                    6,
                    7,
                    7,
                    7,
                    7,
                    10,
                    11,
                    11,
                    11,
                    11,
                    11,
                    11,
                    12,
                    13,
                    13,
                    15,
                    19,
                    19,
                    19,
                    19,
                    22,
                    22,
                    23,
                    24,
                    24,
                    24,
                    24,
                    25,
                    25,
                    25,
                    25,
                    25,
                    27,
                    29,
                    30,
                    30,
                    30,
                    30,
                    30,
                    31,
                    35,
                    34,
                    34,
                    34,
                    43,
                    44,
                    48,
                    49,
                    48,
                    48,
                    48,
                    54,
                    57,
                    60,
                    62,
                    62,
                    62,
                    62,
                    62,
                    63,
                    64,
                    69,
                    72,
                    72,
                    72,
                    73,
                    75,
                    75,
                    76,
                    76,
                    76,
                    76,
                    77,
                    81,
                    81,
                    84,
                    85,
                    86,
                    86,
                    86,
                    86,
                    86,
                    86,
                    87,
                    87,
                    87,
                    87,
                    87,
                    87,
                    87,
                    89,
                    89,
                    89,
                    89,
                    89,
                    90,
                    90,
                    91,
                    91,
                    91,
                    91,
                    92,
                    92,
                    93,
                    93,
                    93,
                    93,
                    94,
                    94,
                    95,
                    95,
                    95,
                    95,
                    96,
                    97,
                    98,
                    97,
                    97,
                    97,
                    97,
                    97,
                    98,
                    98,
                    99,
                    99,
                    99,
                    99,
                    99,
                    99,
                    99,
                    99,
                    99,
                    99,
                    99,
                    99,
                    100,
                    102,
                    102,
                    102,
                    102,
                    103,
                    103,
                    103,
                    104,
                    104,
                    104,
                    104,
                    104,
                    104,
                    104,
                    104,
                    104,
                    104,
                    104,
                    105,
                    105,
                    105,
                    105,
                    105,
                    106,
                    106,
                    106,
                    106,
                    106,
                    107,
                    107,
                    107,
                    107
                  ]
                },
                {
                  "name": "Barra dos Coqueiros",
                  "type": "scatter",
                  "x": [
                    "2020-04-25",
                    "2020-04-26",
                    "2020-04-27",
                    "2020-04-28",
                    "2020-04-29",
                    "2020-04-30",
                    "2020-05-01",
                    "2020-05-02",
                    "2020-05-03",
                    "2020-05-04",
                    "2020-05-05",
                    "2020-05-06",
                    "2020-05-07",
                    "2020-05-08",
                    "2020-05-09",
                    "2020-05-10",
                    "2020-05-11",
                    "2020-05-12",
                    "2020-05-13",
                    "2020-05-14",
                    "2020-05-15",
                    "2020-05-16",
                    "2020-05-17",
                    "2020-05-18",
                    "2020-05-19",
                    "2020-05-20",
                    "2020-05-21",
                    "2020-05-22",
                    "2020-05-23",
                    "2020-05-24",
                    "2020-05-25",
                    "2020-05-26",
                    "2020-05-27",
                    "2020-05-28",
                    "2020-05-29",
                    "2020-05-30",
                    "2020-05-31",
                    "2020-06-01",
                    "2020-06-02",
                    "2020-06-03",
                    "2020-06-04",
                    "2020-06-05",
                    "2020-06-06",
                    "2020-06-07",
                    "2020-06-08",
                    "2020-06-09",
                    "2020-06-10",
                    "2020-06-11",
                    "2020-06-12",
                    "2020-06-13",
                    "2020-06-14",
                    "2020-06-15",
                    "2020-06-16",
                    "2020-06-17",
                    "2020-06-18",
                    "2020-06-19",
                    "2020-06-20",
                    "2020-06-21",
                    "2020-06-22",
                    "2020-06-23",
                    "2020-06-24",
                    "2020-06-25",
                    "2020-06-26",
                    "2020-06-27",
                    "2020-06-28",
                    "2020-06-29",
                    "2020-06-30",
                    "2020-07-01",
                    "2020-07-02",
                    "2020-07-03",
                    "2020-07-04",
                    "2020-07-05",
                    "2020-07-06",
                    "2020-07-07",
                    "2020-07-08",
                    "2020-07-09",
                    "2020-07-10",
                    "2020-07-11",
                    "2020-07-12",
                    "2020-07-13",
                    "2020-07-14",
                    "2020-07-15",
                    "2020-07-16",
                    "2020-07-17",
                    "2020-07-18",
                    "2020-07-19",
                    "2020-07-20",
                    "2020-07-21",
                    "2020-07-22",
                    "2020-07-23",
                    "2020-07-24",
                    "2020-07-25",
                    "2020-07-26",
                    "2020-07-27",
                    "2020-07-28",
                    "2020-07-29",
                    "2020-07-30",
                    "2020-07-31",
                    "2020-08-01",
                    "2020-08-02",
                    "2020-08-03",
                    "2020-08-04",
                    "2020-08-05",
                    "2020-08-06",
                    "2020-08-07",
                    "2020-08-08",
                    "2020-08-09",
                    "2020-08-10",
                    "2020-08-11",
                    "2020-08-12",
                    "2020-08-13",
                    "2020-08-14",
                    "2020-08-15",
                    "2020-08-16",
                    "2020-08-17",
                    "2020-08-18",
                    "2020-08-19",
                    "2020-08-20",
                    "2020-08-21",
                    "2020-08-22",
                    "2020-08-23",
                    "2020-08-24",
                    "2020-08-25",
                    "2020-08-26",
                    "2020-08-27",
                    "2020-08-28",
                    "2020-08-29",
                    "2020-08-30",
                    "2020-08-31",
                    "2020-09-01",
                    "2020-09-02",
                    "2020-09-03",
                    "2020-09-04",
                    "2020-09-05",
                    "2020-09-06",
                    "2020-09-07",
                    "2020-09-08",
                    "2020-09-09",
                    "2020-09-10",
                    "2020-09-11",
                    "2020-09-12",
                    "2020-09-13",
                    "2020-09-14",
                    "2020-09-15",
                    "2020-09-16",
                    "2020-09-17",
                    "2020-09-18",
                    "2020-09-19",
                    "2020-09-20",
                    "2020-09-21",
                    "2020-09-22",
                    "2020-09-23",
                    "2020-09-24",
                    "2020-09-25",
                    "2020-09-26",
                    "2020-09-27",
                    "2020-09-28",
                    "2020-09-29",
                    "2020-09-30",
                    "2020-10-01",
                    "2020-10-02",
                    "2020-10-03",
                    "2020-10-04",
                    "2020-10-05",
                    "2020-10-06",
                    "2020-10-07",
                    "2020-10-08",
                    "2020-10-09",
                    "2020-10-10",
                    "2020-10-11",
                    "2020-10-12",
                    "2020-10-13",
                    "2020-10-14",
                    "2020-10-15",
                    "2020-10-16",
                    "2020-10-17",
                    "2020-10-18",
                    "2020-10-19",
                    "2020-10-20",
                    "2020-10-21",
                    "2020-10-22",
                    "2020-10-23",
                    "2020-10-24",
                    "2020-10-25",
                    "2020-10-26",
                    "2020-10-27",
                    "2020-10-28",
                    "2020-10-29",
                    "2020-10-30",
                    "2020-10-31",
                    "2020-11-01",
                    "2020-11-02",
                    "2020-11-03",
                    "2020-11-04",
                    "2020-11-05",
                    "2020-11-06",
                    "2020-11-07",
                    "2020-11-08",
                    "2020-11-09",
                    "2020-11-10",
                    "2020-11-11",
                    "2020-11-12",
                    "2020-11-13",
                    "2020-11-14"
                  ],
                  "y": [
                    1,
                    1,
                    3,
                    5,
                    6,
                    8,
                    14,
                    15,
                    19,
                    21,
                    23,
                    25,
                    31,
                    32,
                    34,
                    38,
                    39,
                    48,
                    58,
                    59,
                    73,
                    81,
                    85,
                    99,
                    104,
                    109,
                    114,
                    116,
                    120,
                    123,
                    125,
                    126,
                    127,
                    135,
                    145,
                    155,
                    155,
                    160,
                    174,
                    186,
                    181,
                    189,
                    197,
                    201,
                    209,
                    215,
                    222,
                    228,
                    231,
                    279,
                    291,
                    327,
                    327,
                    328,
                    338,
                    340,
                    351,
                    366,
                    372,
                    374,
                    386,
                    398,
                    425,
                    445,
                    485,
                    489,
                    494,
                    496,
                    511,
                    533,
                    559,
                    576,
                    579,
                    623,
                    637,
                    643,
                    662,
                    670,
                    711,
                    738,
                    746,
                    754,
                    761,
                    773,
                    793,
                    805,
                    824,
                    834,
                    841,
                    846,
                    880,
                    884,
                    885,
                    906,
                    930,
                    953,
                    957,
                    965,
                    982,
                    982,
                    986,
                    986,
                    987,
                    993,
                    1001,
                    1004,
                    1016,
                    1021,
                    1021,
                    1022,
                    1029,
                    1029,
                    1034,
                    1036,
                    1045,
                    1045,
                    1069,
                    1076,
                    1079,
                    1081,
                    1084,
                    1083,
                    1084,
                    1084,
                    1090,
                    1093,
                    1096,
                    1100,
                    1101,
                    1101,
                    1101,
                    1106,
                    1107,
                    1113,
                    1115,
                    1118,
                    1120,
                    1118,
                    1121,
                    1127,
                    1127,
                    1127,
                    1140,
                    1140,
                    1140,
                    1149,
                    1149,
                    1149,
                    1150,
                    1150,
                    1151,
                    1151,
                    1153,
                    1157,
                    1166,
                    1170,
                    1172,
                    1172,
                    1172,
                    1185,
                    1186,
                    1198,
                    1201,
                    1202,
                    1203,
                    1207,
                    1225,
                    1239,
                    1244,
                    1259,
                    1259,
                    1264,
                    1265,
                    1267,
                    1282,
                    1287,
                    1304,
                    1305,
                    1306,
                    1312,
                    1327,
                    1349,
                    1363,
                    1369,
                    1369,
                    1375,
                    1374,
                    1381,
                    1386,
                    1386,
                    1389,
                    1400,
                    1401,
                    1404,
                    1404,
                    1407,
                    1408,
                    1413,
                    1413,
                    1415,
                    1415,
                    1417,
                    1421,
                    1428
                  ]
                }
              ],
              "layout": {
                "template": {
                  "data": {
                    "bar": [
                      {
                        "error_x": {
                          "color": "#2a3f5f"
                        },
                        "error_y": {
                          "color": "#2a3f5f"
                        },
                        "marker": {
                          "line": {
                            "color": "#E5ECF6",
                            "width": 0.5
                          }
                        },
                        "type": "bar"
                      }
                    ],
                    "barpolar": [
                      {
                        "marker": {
                          "line": {
                            "color": "#E5ECF6",
                            "width": 0.5
                          }
                        },
                        "type": "barpolar"
                      }
                    ],
                    "carpet": [
                      {
                        "aaxis": {
                          "endlinecolor": "#2a3f5f",
                          "gridcolor": "white",
                          "linecolor": "white",
                          "minorgridcolor": "white",
                          "startlinecolor": "#2a3f5f"
                        },
                        "baxis": {
                          "endlinecolor": "#2a3f5f",
                          "gridcolor": "white",
                          "linecolor": "white",
                          "minorgridcolor": "white",
                          "startlinecolor": "#2a3f5f"
                        },
                        "type": "carpet"
                      }
                    ],
                    "choropleth": [
                      {
                        "colorbar": {
                          "outlinewidth": 0,
                          "ticks": ""
                        },
                        "type": "choropleth"
                      }
                    ],
                    "contour": [
                      {
                        "colorbar": {
                          "outlinewidth": 0,
                          "ticks": ""
                        },
                        "colorscale": [
                          [
                            0,
                            "#0d0887"
                          ],
                          [
                            0.1111111111111111,
                            "#46039f"
                          ],
                          [
                            0.2222222222222222,
                            "#7201a8"
                          ],
                          [
                            0.3333333333333333,
                            "#9c179e"
                          ],
                          [
                            0.4444444444444444,
                            "#bd3786"
                          ],
                          [
                            0.5555555555555556,
                            "#d8576b"
                          ],
                          [
                            0.6666666666666666,
                            "#ed7953"
                          ],
                          [
                            0.7777777777777778,
                            "#fb9f3a"
                          ],
                          [
                            0.8888888888888888,
                            "#fdca26"
                          ],
                          [
                            1,
                            "#f0f921"
                          ]
                        ],
                        "type": "contour"
                      }
                    ],
                    "contourcarpet": [
                      {
                        "colorbar": {
                          "outlinewidth": 0,
                          "ticks": ""
                        },
                        "type": "contourcarpet"
                      }
                    ],
                    "heatmap": [
                      {
                        "colorbar": {
                          "outlinewidth": 0,
                          "ticks": ""
                        },
                        "colorscale": [
                          [
                            0,
                            "#0d0887"
                          ],
                          [
                            0.1111111111111111,
                            "#46039f"
                          ],
                          [
                            0.2222222222222222,
                            "#7201a8"
                          ],
                          [
                            0.3333333333333333,
                            "#9c179e"
                          ],
                          [
                            0.4444444444444444,
                            "#bd3786"
                          ],
                          [
                            0.5555555555555556,
                            "#d8576b"
                          ],
                          [
                            0.6666666666666666,
                            "#ed7953"
                          ],
                          [
                            0.7777777777777778,
                            "#fb9f3a"
                          ],
                          [
                            0.8888888888888888,
                            "#fdca26"
                          ],
                          [
                            1,
                            "#f0f921"
                          ]
                        ],
                        "type": "heatmap"
                      }
                    ],
                    "heatmapgl": [
                      {
                        "colorbar": {
                          "outlinewidth": 0,
                          "ticks": ""
                        },
                        "colorscale": [
                          [
                            0,
                            "#0d0887"
                          ],
                          [
                            0.1111111111111111,
                            "#46039f"
                          ],
                          [
                            0.2222222222222222,
                            "#7201a8"
                          ],
                          [
                            0.3333333333333333,
                            "#9c179e"
                          ],
                          [
                            0.4444444444444444,
                            "#bd3786"
                          ],
                          [
                            0.5555555555555556,
                            "#d8576b"
                          ],
                          [
                            0.6666666666666666,
                            "#ed7953"
                          ],
                          [
                            0.7777777777777778,
                            "#fb9f3a"
                          ],
                          [
                            0.8888888888888888,
                            "#fdca26"
                          ],
                          [
                            1,
                            "#f0f921"
                          ]
                        ],
                        "type": "heatmapgl"
                      }
                    ],
                    "histogram": [
                      {
                        "marker": {
                          "colorbar": {
                            "outlinewidth": 0,
                            "ticks": ""
                          }
                        },
                        "type": "histogram"
                      }
                    ],
                    "histogram2d": [
                      {
                        "colorbar": {
                          "outlinewidth": 0,
                          "ticks": ""
                        },
                        "colorscale": [
                          [
                            0,
                            "#0d0887"
                          ],
                          [
                            0.1111111111111111,
                            "#46039f"
                          ],
                          [
                            0.2222222222222222,
                            "#7201a8"
                          ],
                          [
                            0.3333333333333333,
                            "#9c179e"
                          ],
                          [
                            0.4444444444444444,
                            "#bd3786"
                          ],
                          [
                            0.5555555555555556,
                            "#d8576b"
                          ],
                          [
                            0.6666666666666666,
                            "#ed7953"
                          ],
                          [
                            0.7777777777777778,
                            "#fb9f3a"
                          ],
                          [
                            0.8888888888888888,
                            "#fdca26"
                          ],
                          [
                            1,
                            "#f0f921"
                          ]
                        ],
                        "type": "histogram2d"
                      }
                    ],
                    "histogram2dcontour": [
                      {
                        "colorbar": {
                          "outlinewidth": 0,
                          "ticks": ""
                        },
                        "colorscale": [
                          [
                            0,
                            "#0d0887"
                          ],
                          [
                            0.1111111111111111,
                            "#46039f"
                          ],
                          [
                            0.2222222222222222,
                            "#7201a8"
                          ],
                          [
                            0.3333333333333333,
                            "#9c179e"
                          ],
                          [
                            0.4444444444444444,
                            "#bd3786"
                          ],
                          [
                            0.5555555555555556,
                            "#d8576b"
                          ],
                          [
                            0.6666666666666666,
                            "#ed7953"
                          ],
                          [
                            0.7777777777777778,
                            "#fb9f3a"
                          ],
                          [
                            0.8888888888888888,
                            "#fdca26"
                          ],
                          [
                            1,
                            "#f0f921"
                          ]
                        ],
                        "type": "histogram2dcontour"
                      }
                    ],
                    "mesh3d": [
                      {
                        "colorbar": {
                          "outlinewidth": 0,
                          "ticks": ""
                        },
                        "type": "mesh3d"
                      }
                    ],
                    "parcoords": [
                      {
                        "line": {
                          "colorbar": {
                            "outlinewidth": 0,
                            "ticks": ""
                          }
                        },
                        "type": "parcoords"
                      }
                    ],
                    "pie": [
                      {
                        "automargin": true,
                        "type": "pie"
                      }
                    ],
                    "scatter": [
                      {
                        "marker": {
                          "colorbar": {
                            "outlinewidth": 0,
                            "ticks": ""
                          }
                        },
                        "type": "scatter"
                      }
                    ],
                    "scatter3d": [
                      {
                        "line": {
                          "colorbar": {
                            "outlinewidth": 0,
                            "ticks": ""
                          }
                        },
                        "marker": {
                          "colorbar": {
                            "outlinewidth": 0,
                            "ticks": ""
                          }
                        },
                        "type": "scatter3d"
                      }
                    ],
                    "scattercarpet": [
                      {
                        "marker": {
                          "colorbar": {
                            "outlinewidth": 0,
                            "ticks": ""
                          }
                        },
                        "type": "scattercarpet"
                      }
                    ],
                    "scattergeo": [
                      {
                        "marker": {
                          "colorbar": {
                            "outlinewidth": 0,
                            "ticks": ""
                          }
                        },
                        "type": "scattergeo"
                      }
                    ],
                    "scattergl": [
                      {
                        "marker": {
                          "colorbar": {
                            "outlinewidth": 0,
                            "ticks": ""
                          }
                        },
                        "type": "scattergl"
                      }
                    ],
                    "scattermapbox": [
                      {
                        "marker": {
                          "colorbar": {
                            "outlinewidth": 0,
                            "ticks": ""
                          }
                        },
                        "type": "scattermapbox"
                      }
                    ],
                    "scatterpolar": [
                      {
                        "marker": {
                          "colorbar": {
                            "outlinewidth": 0,
                            "ticks": ""
                          }
                        },
                        "type": "scatterpolar"
                      }
                    ],
                    "scatterpolargl": [
                      {
                        "marker": {
                          "colorbar": {
                            "outlinewidth": 0,
                            "ticks": ""
                          }
                        },
                        "type": "scatterpolargl"
                      }
                    ],
                    "scatterternary": [
                      {
                        "marker": {
                          "colorbar": {
                            "outlinewidth": 0,
                            "ticks": ""
                          }
                        },
                        "type": "scatterternary"
                      }
                    ],
                    "surface": [
                      {
                        "colorbar": {
                          "outlinewidth": 0,
                          "ticks": ""
                        },
                        "colorscale": [
                          [
                            0,
                            "#0d0887"
                          ],
                          [
                            0.1111111111111111,
                            "#46039f"
                          ],
                          [
                            0.2222222222222222,
                            "#7201a8"
                          ],
                          [
                            0.3333333333333333,
                            "#9c179e"
                          ],
                          [
                            0.4444444444444444,
                            "#bd3786"
                          ],
                          [
                            0.5555555555555556,
                            "#d8576b"
                          ],
                          [
                            0.6666666666666666,
                            "#ed7953"
                          ],
                          [
                            0.7777777777777778,
                            "#fb9f3a"
                          ],
                          [
                            0.8888888888888888,
                            "#fdca26"
                          ],
                          [
                            1,
                            "#f0f921"
                          ]
                        ],
                        "type": "surface"
                      }
                    ],
                    "table": [
                      {
                        "cells": {
                          "fill": {
                            "color": "#EBF0F8"
                          },
                          "line": {
                            "color": "white"
                          }
                        },
                        "header": {
                          "fill": {
                            "color": "#C8D4E3"
                          },
                          "line": {
                            "color": "white"
                          }
                        },
                        "type": "table"
                      }
                    ]
                  },
                  "layout": {
                    "annotationdefaults": {
                      "arrowcolor": "#2a3f5f",
                      "arrowhead": 0,
                      "arrowwidth": 1
                    },
                    "coloraxis": {
                      "colorbar": {
                        "outlinewidth": 0,
                        "ticks": ""
                      }
                    },
                    "colorscale": {
                      "diverging": [
                        [
                          0,
                          "#8e0152"
                        ],
                        [
                          0.1,
                          "#c51b7d"
                        ],
                        [
                          0.2,
                          "#de77ae"
                        ],
                        [
                          0.3,
                          "#f1b6da"
                        ],
                        [
                          0.4,
                          "#fde0ef"
                        ],
                        [
                          0.5,
                          "#f7f7f7"
                        ],
                        [
                          0.6,
                          "#e6f5d0"
                        ],
                        [
                          0.7,
                          "#b8e186"
                        ],
                        [
                          0.8,
                          "#7fbc41"
                        ],
                        [
                          0.9,
                          "#4d9221"
                        ],
                        [
                          1,
                          "#276419"
                        ]
                      ],
                      "sequential": [
                        [
                          0,
                          "#0d0887"
                        ],
                        [
                          0.1111111111111111,
                          "#46039f"
                        ],
                        [
                          0.2222222222222222,
                          "#7201a8"
                        ],
                        [
                          0.3333333333333333,
                          "#9c179e"
                        ],
                        [
                          0.4444444444444444,
                          "#bd3786"
                        ],
                        [
                          0.5555555555555556,
                          "#d8576b"
                        ],
                        [
                          0.6666666666666666,
                          "#ed7953"
                        ],
                        [
                          0.7777777777777778,
                          "#fb9f3a"
                        ],
                        [
                          0.8888888888888888,
                          "#fdca26"
                        ],
                        [
                          1,
                          "#f0f921"
                        ]
                      ],
                      "sequentialminus": [
                        [
                          0,
                          "#0d0887"
                        ],
                        [
                          0.1111111111111111,
                          "#46039f"
                        ],
                        [
                          0.2222222222222222,
                          "#7201a8"
                        ],
                        [
                          0.3333333333333333,
                          "#9c179e"
                        ],
                        [
                          0.4444444444444444,
                          "#bd3786"
                        ],
                        [
                          0.5555555555555556,
                          "#d8576b"
                        ],
                        [
                          0.6666666666666666,
                          "#ed7953"
                        ],
                        [
                          0.7777777777777778,
                          "#fb9f3a"
                        ],
                        [
                          0.8888888888888888,
                          "#fdca26"
                        ],
                        [
                          1,
                          "#f0f921"
                        ]
                      ]
                    },
                    "colorway": [
                      "#636efa",
                      "#EF553B",
                      "#00cc96",
                      "#ab63fa",
                      "#FFA15A",
                      "#19d3f3",
                      "#FF6692",
                      "#B6E880",
                      "#FF97FF",
                      "#FECB52"
                    ],
                    "font": {
                      "color": "#2a3f5f"
                    },
                    "geo": {
                      "bgcolor": "white",
                      "lakecolor": "white",
                      "landcolor": "#E5ECF6",
                      "showlakes": true,
                      "showland": true,
                      "subunitcolor": "white"
                    },
                    "hoverlabel": {
                      "align": "left"
                    },
                    "hovermode": "closest",
                    "mapbox": {
                      "style": "light"
                    },
                    "paper_bgcolor": "white",
                    "plot_bgcolor": "#E5ECF6",
                    "polar": {
                      "angularaxis": {
                        "gridcolor": "white",
                        "linecolor": "white",
                        "ticks": ""
                      },
                      "bgcolor": "#E5ECF6",
                      "radialaxis": {
                        "gridcolor": "white",
                        "linecolor": "white",
                        "ticks": ""
                      }
                    },
                    "scene": {
                      "xaxis": {
                        "backgroundcolor": "#E5ECF6",
                        "gridcolor": "white",
                        "gridwidth": 2,
                        "linecolor": "white",
                        "showbackground": true,
                        "ticks": "",
                        "zerolinecolor": "white"
                      },
                      "yaxis": {
                        "backgroundcolor": "#E5ECF6",
                        "gridcolor": "white",
                        "gridwidth": 2,
                        "linecolor": "white",
                        "showbackground": true,
                        "ticks": "",
                        "zerolinecolor": "white"
                      },
                      "zaxis": {
                        "backgroundcolor": "#E5ECF6",
                        "gridcolor": "white",
                        "gridwidth": 2,
                        "linecolor": "white",
                        "showbackground": true,
                        "ticks": "",
                        "zerolinecolor": "white"
                      }
                    },
                    "shapedefaults": {
                      "line": {
                        "color": "#2a3f5f"
                      }
                    },
                    "ternary": {
                      "aaxis": {
                        "gridcolor": "white",
                        "linecolor": "white",
                        "ticks": ""
                      },
                      "baxis": {
                        "gridcolor": "white",
                        "linecolor": "white",
                        "ticks": ""
                      },
                      "bgcolor": "#E5ECF6",
                      "caxis": {
                        "gridcolor": "white",
                        "linecolor": "white",
                        "ticks": ""
                      }
                    },
                    "title": {
                      "x": 0.05
                    },
                    "xaxis": {
                      "automargin": true,
                      "gridcolor": "white",
                      "linecolor": "white",
                      "ticks": "",
                      "title": {
                        "standoff": 15
                      },
                      "zerolinecolor": "white",
                      "zerolinewidth": 2
                    },
                    "yaxis": {
                      "automargin": true,
                      "gridcolor": "white",
                      "linecolor": "white",
                      "ticks": "",
                      "title": {
                        "standoff": 15
                      },
                      "zerolinecolor": "white",
                      "zerolinewidth": 2
                    }
                  }
                },
                "title": {
                  "text": "Casos de Coronavírus em algumas cidades de Sergipe"
                }
              }
            },
            "text/html": [
              "<div>                            <div id=\"0531e80c-3e77-42ad-affe-d497c94a48cf\" class=\"plotly-graph-div\" style=\"height:525px; width:100%;\"></div>            <script type=\"text/javascript\">                require([\"plotly\"], function(Plotly) {                    window.PLOTLYENV=window.PLOTLYENV || {};                                    if (document.getElementById(\"0531e80c-3e77-42ad-affe-d497c94a48cf\")) {                    Plotly.newPlot(                        \"0531e80c-3e77-42ad-affe-d497c94a48cf\",                        [{\"name\": \"Ribeir\\u00f3polis\", \"type\": \"scatter\", \"x\": [\"2020-04-27\", \"2020-04-28\", \"2020-04-29\", \"2020-04-30\", \"2020-05-01\", \"2020-05-02\", \"2020-05-03\", \"2020-05-04\", \"2020-05-05\", \"2020-05-06\", \"2020-05-07\", \"2020-05-08\", \"2020-05-09\", \"2020-05-10\", \"2020-05-11\", \"2020-05-12\", \"2020-05-13\", \"2020-05-14\", \"2020-05-15\", \"2020-05-16\", \"2020-05-17\", \"2020-05-18\", \"2020-05-19\", \"2020-05-20\", \"2020-05-21\", \"2020-05-22\", \"2020-05-23\", \"2020-05-24\", \"2020-05-25\", \"2020-05-26\", \"2020-05-27\", \"2020-05-28\", \"2020-05-29\", \"2020-05-30\", \"2020-05-31\", \"2020-06-01\", \"2020-06-02\", \"2020-06-03\", \"2020-06-04\", \"2020-06-05\", \"2020-06-06\", \"2020-06-07\", \"2020-06-08\", \"2020-06-09\", \"2020-06-10\", \"2020-06-11\", \"2020-06-12\", \"2020-06-13\", \"2020-06-14\", \"2020-06-15\", \"2020-06-16\", \"2020-06-17\", \"2020-06-18\", \"2020-06-19\", \"2020-06-20\", \"2020-06-21\", \"2020-06-22\", \"2020-06-23\", \"2020-06-24\", \"2020-06-25\", \"2020-06-26\", \"2020-06-27\", \"2020-06-28\", \"2020-06-29\", \"2020-06-30\", \"2020-07-01\", \"2020-07-02\", \"2020-07-03\", \"2020-07-04\", \"2020-07-05\", \"2020-07-06\", \"2020-07-07\", \"2020-07-08\", \"2020-07-09\", \"2020-07-10\", \"2020-07-11\", \"2020-07-12\", \"2020-07-13\", \"2020-07-14\", \"2020-07-15\", \"2020-07-16\", \"2020-07-17\", \"2020-07-18\", \"2020-07-19\", \"2020-07-20\", \"2020-07-21\", \"2020-07-22\", \"2020-07-23\", \"2020-07-24\", \"2020-07-25\", \"2020-07-26\", \"2020-07-27\", \"2020-07-28\", \"2020-07-29\", \"2020-07-30\", \"2020-07-31\", \"2020-08-01\", \"2020-08-02\", \"2020-08-03\", \"2020-08-04\", \"2020-08-05\", \"2020-08-06\", \"2020-08-07\", \"2020-08-08\", \"2020-08-09\", \"2020-08-10\", \"2020-08-11\", \"2020-08-12\", \"2020-08-13\", \"2020-08-14\", \"2020-08-15\", \"2020-08-16\", \"2020-08-17\", \"2020-08-18\", \"2020-08-19\", \"2020-08-20\", \"2020-08-21\", \"2020-08-22\", \"2020-08-23\", \"2020-08-24\", \"2020-08-25\", \"2020-08-26\", \"2020-08-27\", \"2020-08-28\", \"2020-08-29\", \"2020-08-30\", \"2020-08-31\", \"2020-09-01\", \"2020-09-02\", \"2020-09-03\", \"2020-09-04\", \"2020-09-05\", \"2020-09-06\", \"2020-09-07\", \"2020-09-08\", \"2020-09-09\", \"2020-09-10\", \"2020-09-11\", \"2020-09-12\", \"2020-09-13\", \"2020-09-14\", \"2020-09-15\", \"2020-09-16\", \"2020-09-17\", \"2020-09-18\", \"2020-09-19\", \"2020-09-20\", \"2020-09-21\", \"2020-09-22\", \"2020-09-23\", \"2020-09-24\", \"2020-09-25\", \"2020-09-26\", \"2020-09-27\", \"2020-09-28\", \"2020-09-29\", \"2020-09-30\", \"2020-10-01\", \"2020-10-02\", \"2020-10-03\", \"2020-10-04\", \"2020-10-05\", \"2020-10-06\", \"2020-10-07\", \"2020-10-08\", \"2020-10-09\", \"2020-10-10\", \"2020-10-11\", \"2020-10-12\", \"2020-10-13\", \"2020-10-14\", \"2020-10-15\", \"2020-10-16\", \"2020-10-17\", \"2020-10-18\", \"2020-10-19\", \"2020-10-20\", \"2020-10-21\", \"2020-10-22\", \"2020-10-23\", \"2020-10-24\", \"2020-10-25\", \"2020-10-26\", \"2020-10-27\", \"2020-10-28\", \"2020-10-29\", \"2020-10-30\", \"2020-10-31\", \"2020-11-01\", \"2020-11-02\", \"2020-11-03\", \"2020-11-04\", \"2020-11-05\", \"2020-11-06\", \"2020-11-07\", \"2020-11-08\", \"2020-11-09\", \"2020-11-10\", \"2020-11-11\", \"2020-11-12\", \"2020-11-13\", \"2020-11-14\"], \"y\": [1, 1, 1, 1, 1, 1, 1, 1, 1, 1, 1, 1, 1, 2, 2, 2, 2, 2, 3, 3, 4, 5, 5, 6, 7, 7, 7, 9, 9, 9, 9, 9, 11, 12, 12, 12, 12, 13, 13, 13, 22, 24, 25, 25, 27, 27, 33, 36, 40, 40, 45, 45, 45, 45, 46, 46, 46, 47, 48, 53, 53, 53, 54, 56, 57, 57, 62, 68, 77, 77, 77, 78, 84, 86, 89, 92, 93, 93, 103, 112, 113, 124, 124, 126, 128, 135, 145, 149, 155, 161, 161, 163, 173, 202, 209, 216, 220, 222, 222, 230, 241, 242, 273, 282, 282, 282, 289, 301, 321, 328, 339, 343, 345, 355, 365, 373, 374, 378, 393, 394, 394, 395, 395, 398, 398, 400, 401, 401, 401, 403, 403, 402, 403, 407, 407, 407, 407, 409, 409, 409, 409, 410, 410, 411, 411, 412, 414, 417, 417, 419, 419, 419, 419, 419, 420, 420, 420, 422, 422, 422, 423, 423, 423, 425, 425, 425, 426, 426, 426, 427, 427, 428, 430, 430, 434, 434, 434, 434, 434, 436, 438, 438, 438, 438, 438, 438, 438, 439, 439, 439, 439, 439, 440, 440, 440, 440, 440, 440, 441, 441, 441, 441]}, {\"name\": \"Lagarto\", \"type\": \"scatter\", \"x\": [\"2020-04-18\", \"2020-04-19\", \"2020-04-20\", \"2020-04-21\", \"2020-04-22\", \"2020-04-23\", \"2020-04-24\", \"2020-04-25\", \"2020-04-26\", \"2020-04-27\", \"2020-04-28\", \"2020-04-29\", \"2020-04-30\", \"2020-05-01\", \"2020-05-02\", \"2020-05-03\", \"2020-05-04\", \"2020-05-05\", \"2020-05-06\", \"2020-05-07\", \"2020-05-08\", \"2020-05-09\", \"2020-05-10\", \"2020-05-11\", \"2020-05-12\", \"2020-05-13\", \"2020-05-14\", \"2020-05-15\", \"2020-05-16\", \"2020-05-17\", \"2020-05-18\", \"2020-05-19\", \"2020-05-20\", \"2020-05-21\", \"2020-05-22\", \"2020-05-23\", \"2020-05-24\", \"2020-05-25\", \"2020-05-26\", \"2020-05-27\", \"2020-05-28\", \"2020-05-29\", \"2020-05-30\", \"2020-05-31\", \"2020-06-01\", \"2020-06-02\", \"2020-06-03\", \"2020-06-04\", \"2020-06-05\", \"2020-06-06\", \"2020-06-07\", \"2020-06-08\", \"2020-06-09\", \"2020-06-10\", \"2020-06-11\", \"2020-06-12\", \"2020-06-13\", \"2020-06-14\", \"2020-06-15\", \"2020-06-16\", \"2020-06-17\", \"2020-06-18\", \"2020-06-19\", \"2020-06-20\", \"2020-06-21\", \"2020-06-22\", \"2020-06-23\", \"2020-06-24\", \"2020-06-25\", \"2020-06-26\", \"2020-06-27\", \"2020-06-28\", \"2020-06-29\", \"2020-06-30\", \"2020-07-01\", \"2020-07-02\", \"2020-07-03\", \"2020-07-04\", \"2020-07-05\", \"2020-07-06\", \"2020-07-07\", \"2020-07-08\", \"2020-07-09\", \"2020-07-10\", \"2020-07-11\", \"2020-07-12\", \"2020-07-13\", \"2020-07-14\", \"2020-07-15\", \"2020-07-16\", \"2020-07-17\", \"2020-07-18\", \"2020-07-19\", \"2020-07-20\", \"2020-07-21\", \"2020-07-22\", \"2020-07-23\", \"2020-07-24\", \"2020-07-25\", \"2020-07-26\", \"2020-07-27\", \"2020-07-28\", \"2020-07-29\", \"2020-07-30\", \"2020-07-31\", \"2020-08-01\", \"2020-08-02\", \"2020-08-03\", \"2020-08-04\", \"2020-08-05\", \"2020-08-06\", \"2020-08-07\", \"2020-08-08\", \"2020-08-09\", \"2020-08-10\", \"2020-08-11\", \"2020-08-12\", \"2020-08-13\", \"2020-08-14\", \"2020-08-15\", \"2020-08-16\", \"2020-08-17\", \"2020-08-18\", \"2020-08-19\", \"2020-08-20\", \"2020-08-21\", \"2020-08-22\", \"2020-08-23\", \"2020-08-24\", \"2020-08-25\", \"2020-08-26\", \"2020-08-27\", \"2020-08-28\", \"2020-08-29\", \"2020-08-30\", \"2020-08-31\", \"2020-09-01\", \"2020-09-02\", \"2020-09-03\", \"2020-09-04\", \"2020-09-05\", \"2020-09-06\", \"2020-09-07\", \"2020-09-08\", \"2020-09-09\", \"2020-09-10\", \"2020-09-11\", \"2020-09-12\", \"2020-09-13\", \"2020-09-14\", \"2020-09-15\", \"2020-09-16\", \"2020-09-17\", \"2020-09-18\", \"2020-09-19\", \"2020-09-20\", \"2020-09-21\", \"2020-09-22\", \"2020-09-23\", \"2020-09-24\", \"2020-09-25\", \"2020-09-26\", \"2020-09-27\", \"2020-09-28\", \"2020-09-29\", \"2020-09-30\", \"2020-10-01\", \"2020-10-02\", \"2020-10-03\", \"2020-10-04\", \"2020-10-05\", \"2020-10-06\", \"2020-10-07\", \"2020-10-08\", \"2020-10-09\", \"2020-10-10\", \"2020-10-11\", \"2020-10-12\", \"2020-10-13\", \"2020-10-14\", \"2020-10-15\", \"2020-10-16\", \"2020-10-17\", \"2020-10-18\", \"2020-10-19\", \"2020-10-20\", \"2020-10-21\", \"2020-10-22\", \"2020-10-23\", \"2020-10-24\", \"2020-10-25\", \"2020-10-26\", \"2020-10-27\", \"2020-10-28\", \"2020-10-29\", \"2020-10-30\", \"2020-10-31\", \"2020-11-01\", \"2020-11-02\", \"2020-11-03\", \"2020-11-04\", \"2020-11-05\", \"2020-11-06\", \"2020-11-07\", \"2020-11-08\", \"2020-11-09\", \"2020-11-10\", \"2020-11-11\", \"2020-11-12\", \"2020-11-13\", \"2020-11-14\"], \"y\": [1, 1, 1, 1, 2, 2, 2, 2, 2, 2, 2, 7, 8, 11, 13, 13, 13, 15, 17, 18, 18, 18, 25, 25, 27, 29, 29, 30, 31, 31, 32, 34, 38, 99, 99, 110, 118, 118, 126, 127, 128, 138, 146, 148, 161, 161, 167, 167, 179, 191, 195, 200, 210, 217, 242, 248, 282, 287, 302, 305, 340, 352, 354, 379, 380, 393, 414, 432, 456, 467, 490, 525, 526, 559, 565, 568, 631, 675, 691, 710, 760, 759, 806, 829, 888, 939, 949, 952, 986, 1019, 1031, 1073, 1099, 1185, 1243, 1328, 1343, 1399, 1493, 1502, 1536, 1577, 1578, 1650, 1723, 1771, 1774, 1780, 1813, 1888, 1935, 1977, 1978, 2041, 2080, 2117, 2163, 2210, 2243, 2268, 2286, 2329, 2330, 2332, 2376, 2385, 2390, 2394, 2405, 2405, 2426, 2453, 2467, 2482, 2485, 2494, 2494, 2514, 2528, 2559, 2570, 2574, 2574, 2574, 2575, 2579, 2608, 2630, 2630, 2634, 2634, 2649, 2658, 2659, 2660, 2665, 2678, 2701, 2720, 2728, 2728, 2728, 2734, 2735, 2744, 2750, 2758, 2762, 2762, 2764, 2766, 2770, 2782, 2786, 2799, 2800, 2806, 2807, 2810, 2815, 2825, 2826, 2827, 2838, 2846, 2848, 2854, 2856, 2860, 2860, 2864, 2870, 2872, 2874, 2878, 2879, 2880, 2880, 2883, 2883, 2893, 2899, 2899, 2899, 2902, 2902, 2902, 2903, 2908, 2908, 2912]}, {\"name\": \"Propri\\u00e1\", \"type\": \"scatter\", \"x\": [\"2020-03-28\", \"2020-03-29\", \"2020-03-30\", \"2020-03-31\", \"2020-04-01\", \"2020-04-02\", \"2020-04-03\", \"2020-04-04\", \"2020-04-05\", \"2020-04-06\", \"2020-04-07\", \"2020-04-08\", \"2020-04-09\", \"2020-04-10\", \"2020-04-11\", \"2020-04-12\", \"2020-04-13\", \"2020-04-14\", \"2020-04-15\", \"2020-04-16\", \"2020-04-17\", \"2020-04-18\", \"2020-04-19\", \"2020-04-20\", \"2020-04-21\", \"2020-04-22\", \"2020-04-23\", \"2020-04-24\", \"2020-04-25\", \"2020-04-26\", \"2020-04-27\", \"2020-04-28\", \"2020-04-29\", \"2020-04-30\", \"2020-05-01\", \"2020-05-02\", \"2020-05-03\", \"2020-05-04\", \"2020-05-05\", \"2020-05-06\", \"2020-05-07\", \"2020-05-08\", \"2020-05-09\", \"2020-05-10\", \"2020-05-11\", \"2020-05-12\", \"2020-05-13\", \"2020-05-14\", \"2020-05-15\", \"2020-05-16\", \"2020-05-17\", \"2020-05-18\", \"2020-05-19\", \"2020-05-20\", \"2020-05-21\", \"2020-05-22\", \"2020-05-23\", \"2020-05-24\", \"2020-05-25\", \"2020-05-26\", \"2020-05-27\", \"2020-05-28\", \"2020-05-29\", \"2020-05-30\", \"2020-05-31\", \"2020-06-01\", \"2020-06-02\", \"2020-06-03\", \"2020-06-04\", \"2020-06-05\", \"2020-06-06\", \"2020-06-07\", \"2020-06-08\", \"2020-06-09\", \"2020-06-10\", \"2020-06-11\", \"2020-06-12\", \"2020-06-13\", \"2020-06-14\", \"2020-06-15\", \"2020-06-16\", \"2020-06-17\", \"2020-06-18\", \"2020-06-19\", \"2020-06-20\", \"2020-06-21\", \"2020-06-22\", \"2020-06-23\", \"2020-06-24\", \"2020-06-25\", \"2020-06-26\", \"2020-06-27\", \"2020-06-28\", \"2020-06-29\", \"2020-06-30\", \"2020-07-01\", \"2020-07-02\", \"2020-07-03\", \"2020-07-04\", \"2020-07-05\", \"2020-07-06\", \"2020-07-07\", \"2020-07-08\", \"2020-07-09\", \"2020-07-10\", \"2020-07-11\", \"2020-07-12\", \"2020-07-13\", \"2020-07-14\", \"2020-07-15\", \"2020-07-16\", \"2020-07-17\", \"2020-07-18\", \"2020-07-19\", \"2020-07-20\", \"2020-07-21\", \"2020-07-22\", \"2020-07-23\", \"2020-07-24\", \"2020-07-25\", \"2020-07-26\", \"2020-07-27\", \"2020-07-28\", \"2020-07-29\", \"2020-07-30\", \"2020-07-31\", \"2020-08-01\", \"2020-08-02\", \"2020-08-03\", \"2020-08-04\", \"2020-08-05\", \"2020-08-06\", \"2020-08-07\", \"2020-08-08\", \"2020-08-09\", \"2020-08-10\", \"2020-08-11\", \"2020-08-12\", \"2020-08-13\", \"2020-08-14\", \"2020-08-15\", \"2020-08-16\", \"2020-08-17\", \"2020-08-18\", \"2020-08-19\", \"2020-08-20\", \"2020-08-21\", \"2020-08-22\", \"2020-08-23\", \"2020-08-24\", \"2020-08-25\", \"2020-08-26\", \"2020-08-27\", \"2020-08-28\", \"2020-08-29\", \"2020-08-30\", \"2020-08-31\", \"2020-09-01\", \"2020-09-02\", \"2020-09-03\", \"2020-09-04\", \"2020-09-05\", \"2020-09-06\", \"2020-09-07\", \"2020-09-08\", \"2020-09-09\", \"2020-09-10\", \"2020-09-11\", \"2020-09-12\", \"2020-09-13\", \"2020-09-14\", \"2020-09-15\", \"2020-09-16\", \"2020-09-17\", \"2020-09-18\", \"2020-09-19\", \"2020-09-20\", \"2020-09-21\", \"2020-09-22\", \"2020-09-23\", \"2020-09-24\", \"2020-09-25\", \"2020-09-26\", \"2020-09-27\", \"2020-09-28\", \"2020-09-29\", \"2020-09-30\", \"2020-10-01\", \"2020-10-02\", \"2020-10-03\", \"2020-10-04\", \"2020-10-05\", \"2020-10-06\", \"2020-10-07\", \"2020-10-08\", \"2020-10-09\", \"2020-10-10\", \"2020-10-11\", \"2020-10-12\", \"2020-10-13\", \"2020-10-14\", \"2020-10-15\", \"2020-10-16\", \"2020-10-17\", \"2020-10-18\", \"2020-10-19\", \"2020-10-20\", \"2020-10-21\", \"2020-10-22\", \"2020-10-23\", \"2020-10-24\", \"2020-10-25\", \"2020-10-26\", \"2020-10-27\", \"2020-10-28\", \"2020-10-29\", \"2020-10-30\", \"2020-10-31\", \"2020-11-01\", \"2020-11-02\", \"2020-11-03\", \"2020-11-04\", \"2020-11-05\", \"2020-11-06\", \"2020-11-07\", \"2020-11-08\", \"2020-11-09\", \"2020-11-10\", \"2020-11-11\", \"2020-11-12\", \"2020-11-13\", \"2020-11-14\"], \"y\": [2, 2, 2, 2, 2, 2, 2, 2, 2, 2, 2, 2, 2, 2, 2, 2, 2, 2, 2, 2, 2, 2, 2, 2, 2, 2, 2, 2, 2, 2, 2, 2, 2, 2, 2, 2, 2, 2, 2, 3, 4, 4, 5, 5, 5, 5, 8, 8, 9, 9, 13, 16, 16, 16, 16, 19, 20, 23, 25, 25, 25, 26, 32, 34, 34, 36, 37, 44, 47, 52, 56, 57, 59, 62, 64, 64, 65, 70, 85, 90, 88, 91, 106, 106, 107, 133, 145, 160, 177, 201, 207, 234, 250, 251, 266, 278, 291, 363, 405, 418, 418, 429, 470, 495, 552, 593, 619, 627, 648, 670, 703, 709, 709, 738, 749, 752, 843, 871, 904, 905, 907, 919, 920, 941, 944, 972, 993, 994, 994, 998, 999, 1002, 1041, 1045, 1047, 1049, 1056, 1060, 1070, 1072, 1078, 1078, 1078, 1079, 1083, 1088, 1091, 1092, 1096, 1096, 1097, 1103, 1104, 1106, 1109, 1109, 1109, 1113, 1115, 1116, 1117, 1118, 1119, 1119, 1120, 1120, 1121, 1123, 1123, 1124, 1124, 1125, 1125, 1126, 1126, 1126, 1126, 1126, 1126, 1127, 1130, 1144, 1144, 1149, 1150, 1152, 1168, 1169, 1169, 1169, 1171, 1171, 1171, 1171, 1172, 1177, 1177, 1177, 1177, 1178, 1187, 1187, 1189, 1190, 1192, 1194, 1195, 1203, 1212, 1212, 1212, 1212, 1212, 1212, 1212, 1216, 1222, 1223, 1223, 1224, 1225, 1235, 1235, 1235, 1235, 1235, 1235, 1236, 1236, 1238, 1238, 1240]}, {\"name\": \"Itabaiana\", \"type\": \"scatter\", \"x\": [\"2020-04-05\", \"2020-04-06\", \"2020-04-07\", \"2020-04-08\", \"2020-04-09\", \"2020-04-10\", \"2020-04-11\", \"2020-04-12\", \"2020-04-13\", \"2020-04-14\", \"2020-04-15\", \"2020-04-16\", \"2020-04-17\", \"2020-04-18\", \"2020-04-19\", \"2020-04-20\", \"2020-04-21\", \"2020-04-22\", \"2020-04-23\", \"2020-04-24\", \"2020-04-25\", \"2020-04-26\", \"2020-04-27\", \"2020-04-28\", \"2020-04-29\", \"2020-04-30\", \"2020-05-01\", \"2020-05-02\", \"2020-05-03\", \"2020-05-04\", \"2020-05-05\", \"2020-05-06\", \"2020-05-07\", \"2020-05-08\", \"2020-05-09\", \"2020-05-10\", \"2020-05-11\", \"2020-05-12\", \"2020-05-13\", \"2020-05-14\", \"2020-05-15\", \"2020-05-16\", \"2020-05-17\", \"2020-05-18\", \"2020-05-19\", \"2020-05-20\", \"2020-05-21\", \"2020-05-22\", \"2020-05-23\", \"2020-05-24\", \"2020-05-25\", \"2020-05-26\", \"2020-05-27\", \"2020-05-28\", \"2020-05-29\", \"2020-05-30\", \"2020-05-31\", \"2020-06-01\", \"2020-06-02\", \"2020-06-03\", \"2020-06-04\", \"2020-06-05\", \"2020-06-06\", \"2020-06-07\", \"2020-06-08\", \"2020-06-09\", \"2020-06-10\", \"2020-06-11\", \"2020-06-12\", \"2020-06-13\", \"2020-06-14\", \"2020-06-15\", \"2020-06-16\", \"2020-06-17\", \"2020-06-18\", \"2020-06-19\", \"2020-06-20\", \"2020-06-21\", \"2020-06-22\", \"2020-06-23\", \"2020-06-24\", \"2020-06-25\", \"2020-06-26\", \"2020-06-27\", \"2020-06-28\", \"2020-06-29\", \"2020-06-30\", \"2020-07-01\", \"2020-07-02\", \"2020-07-03\", \"2020-07-04\", \"2020-07-05\", \"2020-07-06\", \"2020-07-07\", \"2020-07-08\", \"2020-07-09\", \"2020-07-10\", \"2020-07-11\", \"2020-07-12\", \"2020-07-13\", \"2020-07-14\", \"2020-07-15\", \"2020-07-16\", \"2020-07-17\", \"2020-07-18\", \"2020-07-19\", \"2020-07-20\", \"2020-07-21\", \"2020-07-22\", \"2020-07-23\", \"2020-07-24\", \"2020-07-25\", \"2020-07-26\", \"2020-07-27\", \"2020-07-28\", \"2020-07-29\", \"2020-07-30\", \"2020-07-31\", \"2020-08-01\", \"2020-08-02\", \"2020-08-03\", \"2020-08-04\", \"2020-08-05\", \"2020-08-06\", \"2020-08-07\", \"2020-08-08\", \"2020-08-09\", \"2020-08-10\", \"2020-08-11\", \"2020-08-12\", \"2020-08-13\", \"2020-08-14\", \"2020-08-15\", \"2020-08-16\", \"2020-08-17\", \"2020-08-18\", \"2020-08-19\", \"2020-08-20\", \"2020-08-21\", \"2020-08-22\", \"2020-08-23\", \"2020-08-24\", \"2020-08-25\", \"2020-08-26\", \"2020-08-27\", \"2020-08-28\", \"2020-08-29\", \"2020-08-30\", \"2020-08-31\", \"2020-09-01\", \"2020-09-02\", \"2020-09-03\", \"2020-09-04\", \"2020-09-05\", \"2020-09-06\", \"2020-09-07\", \"2020-09-08\", \"2020-09-09\", \"2020-09-10\", \"2020-09-11\", \"2020-09-12\", \"2020-09-13\", \"2020-09-14\", \"2020-09-15\", \"2020-09-16\", \"2020-09-17\", \"2020-09-18\", \"2020-09-19\", \"2020-09-20\", \"2020-09-21\", \"2020-09-22\", \"2020-09-23\", \"2020-09-24\", \"2020-09-25\", \"2020-09-26\", \"2020-09-27\", \"2020-09-28\", \"2020-09-29\", \"2020-09-30\", \"2020-10-01\", \"2020-10-02\", \"2020-10-03\", \"2020-10-04\", \"2020-10-05\", \"2020-10-06\", \"2020-10-07\", \"2020-10-08\", \"2020-10-09\", \"2020-10-10\", \"2020-10-11\", \"2020-10-12\", \"2020-10-13\", \"2020-10-14\", \"2020-10-15\", \"2020-10-16\", \"2020-10-17\", \"2020-10-18\", \"2020-10-19\", \"2020-10-20\", \"2020-10-21\", \"2020-10-22\", \"2020-10-23\", \"2020-10-24\", \"2020-10-25\", \"2020-10-26\", \"2020-10-27\", \"2020-10-28\", \"2020-10-29\", \"2020-10-30\", \"2020-10-31\", \"2020-11-01\", \"2020-11-02\", \"2020-11-03\", \"2020-11-04\", \"2020-11-05\", \"2020-11-06\", \"2020-11-07\", \"2020-11-08\", \"2020-11-09\", \"2020-11-10\", \"2020-11-11\", \"2020-11-12\", \"2020-11-13\", \"2020-11-14\"], \"y\": [1, 1, 1, 1, 1, 1, 1, 1, 1, 1, 1, 1, 1, 2, 2, 2, 4, 4, 4, 4, 4, 6, 10, 12, 13, 14, 15, 20, 29, 29, 33, 33, 38, 40, 43, 44, 44, 52, 52, 68, 158, 165, 175, 179, 179, 195, 218, 229, 231, 240, 243, 251, 262, 266, 277, 284, 288, 311, 313, 360, 368, 379, 408, 421, 456, 464, 486, 503, 504, 578, 619, 638, 639, 708, 709, 712, 769, 827, 848, 845, 903, 949, 984, 1007, 1057, 1098, 1112, 1116, 1218, 1311, 1470, 1479, 1503, 1533, 1582, 1672, 1776, 1815, 1840, 1876, 1923, 1979, 2021, 2075, 2128, 2205, 2294, 2313, 2340, 2425, 2539, 2692, 2687, 2717, 2826, 2936, 3175, 3207, 3248, 3244, 3251, 3294, 3520, 3714, 3771, 3831, 3839, 3855, 3856, 3855, 3950, 3970, 3976, 3999, 4002, 4002, 4057, 4136, 4176, 4199, 4216, 4228, 4237, 4276, 4301, 4307, 4310, 4311, 4311, 4310, 4343, 4369, 4374, 4400, 4404, 4410, 4415, 4420, 4451, 4470, 4484, 4491, 4505, 4510, 4518, 4531, 4532, 4533, 4530, 4553, 4565, 4578, 4583, 4586, 4590, 4597, 4604, 4611, 4615, 4623, 4624, 4625, 4634, 4636, 4641, 4649, 4653, 4657, 4661, 4669, 4673, 4688, 4691, 4693, 4697, 4701, 4709, 4716, 4723, 4731, 4738, 4748, 4751, 4754, 4777, 4778, 4783, 4787, 4793, 4797, 4799, 4807, 4811, 4811, 4812, 4812, 4814, 4815, 4818, 4820, 4824, 4830, 4830, 4835]}, {\"name\": \"Nossa Senhora da Gl\\u00f3ria\", \"type\": \"scatter\", \"x\": [\"2020-03-28\", \"2020-03-29\", \"2020-03-30\", \"2020-03-31\", \"2020-04-01\", \"2020-04-02\", \"2020-04-03\", \"2020-04-04\", \"2020-04-05\", \"2020-04-06\", \"2020-04-07\", \"2020-04-08\", \"2020-04-09\", \"2020-04-10\", \"2020-04-11\", \"2020-04-12\", \"2020-04-13\", \"2020-04-14\", \"2020-04-15\", \"2020-04-16\", \"2020-04-17\", \"2020-04-18\", \"2020-04-19\", \"2020-04-20\", \"2020-04-21\", \"2020-04-22\", \"2020-04-23\", \"2020-04-24\", \"2020-04-25\", \"2020-04-26\", \"2020-04-27\", \"2020-04-28\", \"2020-04-29\", \"2020-04-30\", \"2020-05-01\", \"2020-05-02\", \"2020-05-03\", \"2020-05-04\", \"2020-05-05\", \"2020-05-06\", \"2020-05-07\", \"2020-05-08\", \"2020-05-09\", \"2020-05-10\", \"2020-05-11\", \"2020-05-12\", \"2020-05-13\", \"2020-05-14\", \"2020-05-15\", \"2020-05-16\", \"2020-05-17\", \"2020-05-18\", \"2020-05-19\", \"2020-05-20\", \"2020-05-21\", \"2020-05-22\", \"2020-05-23\", \"2020-05-24\", \"2020-05-25\", \"2020-05-26\", \"2020-05-27\", \"2020-05-28\", \"2020-05-29\", \"2020-05-30\", \"2020-05-31\", \"2020-06-01\", \"2020-06-02\", \"2020-06-03\", \"2020-06-04\", \"2020-06-05\", \"2020-06-06\", \"2020-06-07\", \"2020-06-08\", \"2020-06-09\", \"2020-06-10\", \"2020-06-11\", \"2020-06-12\", \"2020-06-13\", \"2020-06-14\", \"2020-06-15\", \"2020-06-16\", \"2020-06-17\", \"2020-06-18\", \"2020-06-19\", \"2020-06-20\", \"2020-06-21\", \"2020-06-22\", \"2020-06-23\", \"2020-06-24\", \"2020-06-25\", \"2020-06-26\", \"2020-06-27\", \"2020-06-28\", \"2020-06-29\", \"2020-06-30\", \"2020-07-01\", \"2020-07-02\", \"2020-07-03\", \"2020-07-04\", \"2020-07-05\", \"2020-07-06\", \"2020-07-07\", \"2020-07-08\", \"2020-07-09\", \"2020-07-10\", \"2020-07-11\", \"2020-07-12\", \"2020-07-13\", \"2020-07-14\", \"2020-07-15\", \"2020-07-16\", \"2020-07-17\", \"2020-07-18\", \"2020-07-19\", \"2020-07-20\", \"2020-07-21\", \"2020-07-22\", \"2020-07-23\", \"2020-07-24\", \"2020-07-25\", \"2020-07-26\", \"2020-07-27\", \"2020-07-28\", \"2020-07-29\", \"2020-07-30\", \"2020-07-31\", \"2020-08-01\", \"2020-08-02\", \"2020-08-03\", \"2020-08-04\", \"2020-08-05\", \"2020-08-06\", \"2020-08-07\", \"2020-08-08\", \"2020-08-09\", \"2020-08-10\", \"2020-08-11\", \"2020-08-12\", \"2020-08-13\", \"2020-08-14\", \"2020-08-15\", \"2020-08-16\", \"2020-08-17\", \"2020-08-18\", \"2020-08-19\", \"2020-08-20\", \"2020-08-21\", \"2020-08-22\", \"2020-08-23\", \"2020-08-24\", \"2020-08-25\", \"2020-08-26\", \"2020-08-27\", \"2020-08-28\", \"2020-08-29\", \"2020-08-30\", \"2020-08-31\", \"2020-09-01\", \"2020-09-02\", \"2020-09-03\", \"2020-09-04\", \"2020-09-05\", \"2020-09-06\", \"2020-09-07\", \"2020-09-08\", \"2020-09-09\", \"2020-09-10\", \"2020-09-11\", \"2020-09-12\", \"2020-09-13\", \"2020-09-14\", \"2020-09-15\", \"2020-09-16\", \"2020-09-17\", \"2020-09-18\", \"2020-09-19\", \"2020-09-20\", \"2020-09-21\", \"2020-09-22\", \"2020-09-23\", \"2020-09-24\", \"2020-09-25\", \"2020-09-26\", \"2020-09-27\", \"2020-09-28\", \"2020-09-29\", \"2020-09-30\", \"2020-10-01\", \"2020-10-02\", \"2020-10-03\", \"2020-10-04\", \"2020-10-05\", \"2020-10-06\", \"2020-10-07\", \"2020-10-08\", \"2020-10-09\", \"2020-10-10\", \"2020-10-11\", \"2020-10-12\", \"2020-10-13\", \"2020-10-14\", \"2020-10-15\", \"2020-10-16\", \"2020-10-17\", \"2020-10-18\", \"2020-10-19\", \"2020-10-20\", \"2020-10-21\", \"2020-10-22\", \"2020-10-23\", \"2020-10-24\", \"2020-10-25\", \"2020-10-26\", \"2020-10-27\", \"2020-10-28\", \"2020-10-29\", \"2020-10-30\", \"2020-10-31\", \"2020-11-01\", \"2020-11-02\", \"2020-11-03\", \"2020-11-04\", \"2020-11-05\", \"2020-11-06\", \"2020-11-07\", \"2020-11-08\", \"2020-11-09\", \"2020-11-10\", \"2020-11-11\", \"2020-11-12\", \"2020-11-13\", \"2020-11-14\"], \"y\": [1, 1, 1, 1, 1, 1, 1, 1, 1, 1, 1, 1, 1, 2, 2, 2, 2, 2, 2, 2, 2, 2, 2, 2, 2, 2, 2, 2, 2, 2, 3, 3, 3, 3, 8, 9, 9, 9, 9, 9, 9, 10, 10, 14, 14, 16, 17, 21, 21, 31, 32, 43, 90, 101, 115, 125, 127, 127, 129, 130, 135, 136, 139, 171, 171, 170, 175, 182, 196, 201, 201, 213, 213, 221, 249, 259, 259, 269, 290, 312, 313, 320, 327, 328, 338, 345, 346, 347, 348, 350, 370, 373, 400, 400, 407, 407, 407, 427, 430, 432, 436, 445, 468, 470, 480, 484, 487, 513, 516, 516, 525, 529, 542, 566, 566, 583, 583, 584, 630, 631, 631, 673, 686, 689, 707, 719, 725, 733, 754, 772, 783, 788, 804, 809, 834, 835, 836, 836, 852, 855, 880, 884, 897, 908, 912, 938, 949, 952, 974, 987, 1001, 1018, 1035, 1048, 1060, 1062, 1062, 1076, 1086, 1101, 1101, 1109, 1114, 1117, 1117, 1130, 1131, 1135, 1148, 1149, 1157, 1158, 1158, 1161, 1163, 1167, 1168, 1173, 1173, 1173, 1173, 1173, 1185, 1188, 1188, 1187, 1190, 1190, 1194, 1202, 1204, 1205, 1205, 1205, 1207, 1210, 1217, 1219, 1219, 1219, 1219, 1219, 1223, 1225, 1230, 1230, 1230, 1231, 1235, 1236, 1236, 1241, 1242, 1243, 1243, 1245, 1245, 1246, 1247, 1248, 1248, 1248, 1248, 1248, 1248, 1249, 1249, 1249, 1249, 1249, 1249, 1249]}, {\"name\": \"Nossa Senhora do Socorro\", \"type\": \"scatter\", \"x\": [\"2020-04-16\", \"2020-04-17\", \"2020-04-18\", \"2020-04-19\", \"2020-04-20\", \"2020-04-21\", \"2020-04-22\", \"2020-04-23\", \"2020-04-24\", \"2020-04-25\", \"2020-04-26\", \"2020-04-27\", \"2020-04-28\", \"2020-04-29\", \"2020-04-30\", \"2020-05-01\", \"2020-05-02\", \"2020-05-03\", \"2020-05-04\", \"2020-05-05\", \"2020-05-06\", \"2020-05-07\", \"2020-05-08\", \"2020-05-09\", \"2020-05-10\", \"2020-05-11\", \"2020-05-12\", \"2020-05-13\", \"2020-05-14\", \"2020-05-15\", \"2020-05-16\", \"2020-05-17\", \"2020-05-18\", \"2020-05-19\", \"2020-05-20\", \"2020-05-21\", \"2020-05-22\", \"2020-05-23\", \"2020-05-24\", \"2020-05-25\", \"2020-05-26\", \"2020-05-27\", \"2020-05-28\", \"2020-05-29\", \"2020-05-30\", \"2020-05-31\", \"2020-06-01\", \"2020-06-02\", \"2020-06-03\", \"2020-06-04\", \"2020-06-05\", \"2020-06-06\", \"2020-06-07\", \"2020-06-08\", \"2020-06-09\", \"2020-06-10\", \"2020-06-11\", \"2020-06-12\", \"2020-06-13\", \"2020-06-14\", \"2020-06-15\", \"2020-06-16\", \"2020-06-17\", \"2020-06-18\", \"2020-06-19\", \"2020-06-20\", \"2020-06-21\", \"2020-06-22\", \"2020-06-23\", \"2020-06-24\", \"2020-06-25\", \"2020-06-26\", \"2020-06-27\", \"2020-06-28\", \"2020-06-29\", \"2020-06-30\", \"2020-07-01\", \"2020-07-02\", \"2020-07-03\", \"2020-07-04\", \"2020-07-05\", \"2020-07-06\", \"2020-07-07\", \"2020-07-08\", \"2020-07-09\", \"2020-07-10\", \"2020-07-11\", \"2020-07-12\", \"2020-07-13\", \"2020-07-14\", \"2020-07-15\", \"2020-07-16\", \"2020-07-17\", \"2020-07-18\", \"2020-07-19\", \"2020-07-20\", \"2020-07-21\", \"2020-07-22\", \"2020-07-23\", \"2020-07-24\", \"2020-07-25\", \"2020-07-26\", \"2020-07-27\", \"2020-07-28\", \"2020-07-29\", \"2020-07-30\", \"2020-07-31\", \"2020-08-01\", \"2020-08-02\", \"2020-08-03\", \"2020-08-04\", \"2020-08-05\", \"2020-08-06\", \"2020-08-07\", \"2020-08-08\", \"2020-08-09\", \"2020-08-10\", \"2020-08-11\", \"2020-08-12\", \"2020-08-13\", \"2020-08-14\", \"2020-08-15\", \"2020-08-16\", \"2020-08-17\", \"2020-08-18\", \"2020-08-19\", \"2020-08-20\", \"2020-08-21\", \"2020-08-22\", \"2020-08-23\", \"2020-08-24\", \"2020-08-25\", \"2020-08-26\", \"2020-08-27\", \"2020-08-28\", \"2020-08-29\", \"2020-08-30\", \"2020-08-31\", \"2020-09-01\", \"2020-09-02\", \"2020-09-03\", \"2020-09-04\", \"2020-09-05\", \"2020-09-06\", \"2020-09-07\", \"2020-09-08\", \"2020-09-09\", \"2020-09-10\", \"2020-09-11\", \"2020-09-12\", \"2020-09-13\", \"2020-09-14\", \"2020-09-15\", \"2020-09-16\", \"2020-09-17\", \"2020-09-18\", \"2020-09-19\", \"2020-09-20\", \"2020-09-21\", \"2020-09-22\", \"2020-09-23\", \"2020-09-24\", \"2020-09-25\", \"2020-09-26\", \"2020-09-27\", \"2020-09-28\", \"2020-09-29\", \"2020-09-30\", \"2020-10-01\", \"2020-10-02\", \"2020-10-03\", \"2020-10-04\", \"2020-10-05\", \"2020-10-06\", \"2020-10-07\", \"2020-10-08\", \"2020-10-09\", \"2020-10-10\", \"2020-10-11\", \"2020-10-12\", \"2020-10-13\", \"2020-10-14\", \"2020-10-15\", \"2020-10-16\", \"2020-10-17\", \"2020-10-18\", \"2020-10-19\", \"2020-10-20\", \"2020-10-21\", \"2020-10-22\", \"2020-10-23\", \"2020-10-24\", \"2020-10-25\", \"2020-10-26\", \"2020-10-27\", \"2020-10-28\", \"2020-10-29\", \"2020-10-30\", \"2020-10-31\", \"2020-11-01\", \"2020-11-02\", \"2020-11-03\", \"2020-11-04\", \"2020-11-05\", \"2020-11-06\", \"2020-11-07\", \"2020-11-08\", \"2020-11-09\", \"2020-11-10\", \"2020-11-11\", \"2020-11-12\", \"2020-11-13\", \"2020-11-14\"], \"y\": [1, 1, 1, 1, 1, 1, 1, 2, 3, 6, 6, 6, 10, 21, 27, 30, 40, 49, 52, 59, 63, 74, 95, 111, 122, 126, 140, 163, 175, 187, 209, 227, 249, 259, 286, 373, 381, 396, 410, 426, 448, 457, 472, 498, 562, 578, 592, 613, 655, 675, 688, 711, 737, 768, 790, 820, 851, 877, 968, 1041, 1175, 1195, 1205, 1235, 1272, 1290, 1330, 1359, 1372, 1402, 1427, 1459, 1541, 1602, 1625, 1636, 1666, 1709, 1754, 1834, 1851, 1869, 1900, 1957, 1979, 2028, 2062, 2121, 2122, 2155, 2182, 2205, 2218, 2236, 2342, 2356, 2379, 2391, 2407, 2450, 2470, 2475, 2490, 2613, 2640, 2665, 2683, 2710, 2723, 2735, 2739, 2745, 2754, 2752, 2762, 2783, 2791, 2844, 2850, 2860, 2869, 2886, 2899, 2906, 2916, 2922, 2940, 2959, 2983, 2993, 2998, 3024, 3042, 3049, 3134, 3150, 3160, 3163, 3163, 3166, 3193, 3197, 3211, 3217, 3222, 3225, 3228, 3238, 3250, 3254, 3256, 3263, 3278, 3278, 3318, 3328, 3334, 3342, 3346, 3351, 3364, 3405, 3408, 3420, 3427, 3427, 3429, 3434, 3442, 3455, 3462, 3482, 3504, 3517, 3529, 3548, 3580, 3588, 3606, 3606, 3631, 3636, 3657, 3667, 3672, 3672, 3709, 3720, 3736, 3753, 3767, 3781, 3795, 3797, 3804, 3806, 3814, 3815, 3818, 3819, 3826, 3831, 3837, 3843, 3855, 3869, 3880, 3880, 3898, 3903, 3908, 3915, 3933]}, {\"name\": \"Pirambu\", \"type\": \"scatter\", \"x\": [\"2020-05-19\", \"2020-05-20\", \"2020-05-21\", \"2020-05-22\", \"2020-05-23\", \"2020-05-24\", \"2020-05-25\", \"2020-05-26\", \"2020-05-27\", \"2020-05-28\", \"2020-05-29\", \"2020-05-30\", \"2020-05-31\", \"2020-06-01\", \"2020-06-02\", \"2020-06-03\", \"2020-06-04\", \"2020-06-05\", \"2020-06-06\", \"2020-06-07\", \"2020-06-08\", \"2020-06-09\", \"2020-06-10\", \"2020-06-11\", \"2020-06-12\", \"2020-06-13\", \"2020-06-14\", \"2020-06-15\", \"2020-06-16\", \"2020-06-17\", \"2020-06-18\", \"2020-06-19\", \"2020-06-20\", \"2020-06-21\", \"2020-06-22\", \"2020-06-23\", \"2020-06-24\", \"2020-06-25\", \"2020-06-26\", \"2020-06-27\", \"2020-06-28\", \"2020-06-29\", \"2020-06-30\", \"2020-07-01\", \"2020-07-02\", \"2020-07-03\", \"2020-07-04\", \"2020-07-05\", \"2020-07-06\", \"2020-07-07\", \"2020-07-08\", \"2020-07-09\", \"2020-07-10\", \"2020-07-11\", \"2020-07-12\", \"2020-07-13\", \"2020-07-14\", \"2020-07-15\", \"2020-07-16\", \"2020-07-17\", \"2020-07-18\", \"2020-07-19\", \"2020-07-20\", \"2020-07-21\", \"2020-07-22\", \"2020-07-23\", \"2020-07-24\", \"2020-07-25\", \"2020-07-26\", \"2020-07-27\", \"2020-07-28\", \"2020-07-29\", \"2020-07-30\", \"2020-07-31\", \"2020-08-01\", \"2020-08-02\", \"2020-08-03\", \"2020-08-04\", \"2020-08-05\", \"2020-08-06\", \"2020-08-07\", \"2020-08-08\", \"2020-08-09\", \"2020-08-10\", \"2020-08-11\", \"2020-08-12\", \"2020-08-13\", \"2020-08-14\", \"2020-08-15\", \"2020-08-16\", \"2020-08-17\", \"2020-08-18\", \"2020-08-19\", \"2020-08-20\", \"2020-08-21\", \"2020-08-22\", \"2020-08-23\", \"2020-08-24\", \"2020-08-25\", \"2020-08-26\", \"2020-08-27\", \"2020-08-28\", \"2020-08-29\", \"2020-08-30\", \"2020-08-31\", \"2020-09-01\", \"2020-09-02\", \"2020-09-03\", \"2020-09-04\", \"2020-09-05\", \"2020-09-06\", \"2020-09-07\", \"2020-09-08\", \"2020-09-09\", \"2020-09-10\", \"2020-09-11\", \"2020-09-12\", \"2020-09-13\", \"2020-09-14\", \"2020-09-15\", \"2020-09-16\", \"2020-09-17\", \"2020-09-18\", \"2020-09-19\", \"2020-09-20\", \"2020-09-21\", \"2020-09-22\", \"2020-09-23\", \"2020-09-24\", \"2020-09-25\", \"2020-09-26\", \"2020-09-27\", \"2020-09-28\", \"2020-09-29\", \"2020-09-30\", \"2020-10-01\", \"2020-10-02\", \"2020-10-03\", \"2020-10-04\", \"2020-10-05\", \"2020-10-06\", \"2020-10-07\", \"2020-10-08\", \"2020-10-09\", \"2020-10-10\", \"2020-10-11\", \"2020-10-12\", \"2020-10-13\", \"2020-10-14\", \"2020-10-15\", \"2020-10-16\", \"2020-10-17\", \"2020-10-18\", \"2020-10-19\", \"2020-10-20\", \"2020-10-21\", \"2020-10-22\", \"2020-10-23\", \"2020-10-24\", \"2020-10-25\", \"2020-10-26\", \"2020-10-27\", \"2020-10-28\", \"2020-10-29\", \"2020-10-30\", \"2020-10-31\", \"2020-11-01\", \"2020-11-02\", \"2020-11-03\", \"2020-11-04\", \"2020-11-05\", \"2020-11-06\", \"2020-11-07\", \"2020-11-08\", \"2020-11-09\", \"2020-11-10\", \"2020-11-11\", \"2020-11-12\", \"2020-11-13\", \"2020-11-14\"], \"y\": [1, 2, 2, 2, 2, 2, 2, 2, 2, 4, 4, 6, 6, 7, 7, 7, 7, 10, 11, 11, 11, 11, 11, 11, 12, 13, 13, 15, 19, 19, 19, 19, 22, 22, 23, 24, 24, 24, 24, 25, 25, 25, 25, 25, 27, 29, 30, 30, 30, 30, 30, 31, 35, 34, 34, 34, 43, 44, 48, 49, 48, 48, 48, 54, 57, 60, 62, 62, 62, 62, 62, 63, 64, 69, 72, 72, 72, 73, 75, 75, 76, 76, 76, 76, 77, 81, 81, 84, 85, 86, 86, 86, 86, 86, 86, 87, 87, 87, 87, 87, 87, 87, 89, 89, 89, 89, 89, 90, 90, 91, 91, 91, 91, 92, 92, 93, 93, 93, 93, 94, 94, 95, 95, 95, 95, 96, 97, 98, 97, 97, 97, 97, 97, 98, 98, 99, 99, 99, 99, 99, 99, 99, 99, 99, 99, 99, 99, 100, 102, 102, 102, 102, 103, 103, 103, 104, 104, 104, 104, 104, 104, 104, 104, 104, 104, 104, 105, 105, 105, 105, 105, 106, 106, 106, 106, 106, 107, 107, 107, 107]}, {\"name\": \"Barra dos Coqueiros\", \"type\": \"scatter\", \"x\": [\"2020-04-25\", \"2020-04-26\", \"2020-04-27\", \"2020-04-28\", \"2020-04-29\", \"2020-04-30\", \"2020-05-01\", \"2020-05-02\", \"2020-05-03\", \"2020-05-04\", \"2020-05-05\", \"2020-05-06\", \"2020-05-07\", \"2020-05-08\", \"2020-05-09\", \"2020-05-10\", \"2020-05-11\", \"2020-05-12\", \"2020-05-13\", \"2020-05-14\", \"2020-05-15\", \"2020-05-16\", \"2020-05-17\", \"2020-05-18\", \"2020-05-19\", \"2020-05-20\", \"2020-05-21\", \"2020-05-22\", \"2020-05-23\", \"2020-05-24\", \"2020-05-25\", \"2020-05-26\", \"2020-05-27\", \"2020-05-28\", \"2020-05-29\", \"2020-05-30\", \"2020-05-31\", \"2020-06-01\", \"2020-06-02\", \"2020-06-03\", \"2020-06-04\", \"2020-06-05\", \"2020-06-06\", \"2020-06-07\", \"2020-06-08\", \"2020-06-09\", \"2020-06-10\", \"2020-06-11\", \"2020-06-12\", \"2020-06-13\", \"2020-06-14\", \"2020-06-15\", \"2020-06-16\", \"2020-06-17\", \"2020-06-18\", \"2020-06-19\", \"2020-06-20\", \"2020-06-21\", \"2020-06-22\", \"2020-06-23\", \"2020-06-24\", \"2020-06-25\", \"2020-06-26\", \"2020-06-27\", \"2020-06-28\", \"2020-06-29\", \"2020-06-30\", \"2020-07-01\", \"2020-07-02\", \"2020-07-03\", \"2020-07-04\", \"2020-07-05\", \"2020-07-06\", \"2020-07-07\", \"2020-07-08\", \"2020-07-09\", \"2020-07-10\", \"2020-07-11\", \"2020-07-12\", \"2020-07-13\", \"2020-07-14\", \"2020-07-15\", \"2020-07-16\", \"2020-07-17\", \"2020-07-18\", \"2020-07-19\", \"2020-07-20\", \"2020-07-21\", \"2020-07-22\", \"2020-07-23\", \"2020-07-24\", \"2020-07-25\", \"2020-07-26\", \"2020-07-27\", \"2020-07-28\", \"2020-07-29\", \"2020-07-30\", \"2020-07-31\", \"2020-08-01\", \"2020-08-02\", \"2020-08-03\", \"2020-08-04\", \"2020-08-05\", \"2020-08-06\", \"2020-08-07\", \"2020-08-08\", \"2020-08-09\", \"2020-08-10\", \"2020-08-11\", \"2020-08-12\", \"2020-08-13\", \"2020-08-14\", \"2020-08-15\", \"2020-08-16\", \"2020-08-17\", \"2020-08-18\", \"2020-08-19\", \"2020-08-20\", \"2020-08-21\", \"2020-08-22\", \"2020-08-23\", \"2020-08-24\", \"2020-08-25\", \"2020-08-26\", \"2020-08-27\", \"2020-08-28\", \"2020-08-29\", \"2020-08-30\", \"2020-08-31\", \"2020-09-01\", \"2020-09-02\", \"2020-09-03\", \"2020-09-04\", \"2020-09-05\", \"2020-09-06\", \"2020-09-07\", \"2020-09-08\", \"2020-09-09\", \"2020-09-10\", \"2020-09-11\", \"2020-09-12\", \"2020-09-13\", \"2020-09-14\", \"2020-09-15\", \"2020-09-16\", \"2020-09-17\", \"2020-09-18\", \"2020-09-19\", \"2020-09-20\", \"2020-09-21\", \"2020-09-22\", \"2020-09-23\", \"2020-09-24\", \"2020-09-25\", \"2020-09-26\", \"2020-09-27\", \"2020-09-28\", \"2020-09-29\", \"2020-09-30\", \"2020-10-01\", \"2020-10-02\", \"2020-10-03\", \"2020-10-04\", \"2020-10-05\", \"2020-10-06\", \"2020-10-07\", \"2020-10-08\", \"2020-10-09\", \"2020-10-10\", \"2020-10-11\", \"2020-10-12\", \"2020-10-13\", \"2020-10-14\", \"2020-10-15\", \"2020-10-16\", \"2020-10-17\", \"2020-10-18\", \"2020-10-19\", \"2020-10-20\", \"2020-10-21\", \"2020-10-22\", \"2020-10-23\", \"2020-10-24\", \"2020-10-25\", \"2020-10-26\", \"2020-10-27\", \"2020-10-28\", \"2020-10-29\", \"2020-10-30\", \"2020-10-31\", \"2020-11-01\", \"2020-11-02\", \"2020-11-03\", \"2020-11-04\", \"2020-11-05\", \"2020-11-06\", \"2020-11-07\", \"2020-11-08\", \"2020-11-09\", \"2020-11-10\", \"2020-11-11\", \"2020-11-12\", \"2020-11-13\", \"2020-11-14\"], \"y\": [1, 1, 3, 5, 6, 8, 14, 15, 19, 21, 23, 25, 31, 32, 34, 38, 39, 48, 58, 59, 73, 81, 85, 99, 104, 109, 114, 116, 120, 123, 125, 126, 127, 135, 145, 155, 155, 160, 174, 186, 181, 189, 197, 201, 209, 215, 222, 228, 231, 279, 291, 327, 327, 328, 338, 340, 351, 366, 372, 374, 386, 398, 425, 445, 485, 489, 494, 496, 511, 533, 559, 576, 579, 623, 637, 643, 662, 670, 711, 738, 746, 754, 761, 773, 793, 805, 824, 834, 841, 846, 880, 884, 885, 906, 930, 953, 957, 965, 982, 982, 986, 986, 987, 993, 1001, 1004, 1016, 1021, 1021, 1022, 1029, 1029, 1034, 1036, 1045, 1045, 1069, 1076, 1079, 1081, 1084, 1083, 1084, 1084, 1090, 1093, 1096, 1100, 1101, 1101, 1101, 1106, 1107, 1113, 1115, 1118, 1120, 1118, 1121, 1127, 1127, 1127, 1140, 1140, 1140, 1149, 1149, 1149, 1150, 1150, 1151, 1151, 1153, 1157, 1166, 1170, 1172, 1172, 1172, 1185, 1186, 1198, 1201, 1202, 1203, 1207, 1225, 1239, 1244, 1259, 1259, 1264, 1265, 1267, 1282, 1287, 1304, 1305, 1306, 1312, 1327, 1349, 1363, 1369, 1369, 1375, 1374, 1381, 1386, 1386, 1389, 1400, 1401, 1404, 1404, 1407, 1408, 1413, 1413, 1415, 1415, 1417, 1421, 1428]}],                        {\"template\": {\"data\": {\"bar\": [{\"error_x\": {\"color\": \"#2a3f5f\"}, \"error_y\": {\"color\": \"#2a3f5f\"}, \"marker\": {\"line\": {\"color\": \"#E5ECF6\", \"width\": 0.5}}, \"type\": \"bar\"}], \"barpolar\": [{\"marker\": {\"line\": {\"color\": \"#E5ECF6\", \"width\": 0.5}}, \"type\": \"barpolar\"}], \"carpet\": [{\"aaxis\": {\"endlinecolor\": \"#2a3f5f\", \"gridcolor\": \"white\", \"linecolor\": \"white\", \"minorgridcolor\": \"white\", \"startlinecolor\": \"#2a3f5f\"}, \"baxis\": {\"endlinecolor\": \"#2a3f5f\", \"gridcolor\": \"white\", \"linecolor\": \"white\", \"minorgridcolor\": \"white\", \"startlinecolor\": \"#2a3f5f\"}, \"type\": \"carpet\"}], \"choropleth\": [{\"colorbar\": {\"outlinewidth\": 0, \"ticks\": \"\"}, \"type\": \"choropleth\"}], \"contour\": [{\"colorbar\": {\"outlinewidth\": 0, \"ticks\": \"\"}, \"colorscale\": [[0.0, \"#0d0887\"], [0.1111111111111111, \"#46039f\"], [0.2222222222222222, \"#7201a8\"], [0.3333333333333333, \"#9c179e\"], [0.4444444444444444, \"#bd3786\"], [0.5555555555555556, \"#d8576b\"], [0.6666666666666666, \"#ed7953\"], [0.7777777777777778, \"#fb9f3a\"], [0.8888888888888888, \"#fdca26\"], [1.0, \"#f0f921\"]], \"type\": \"contour\"}], \"contourcarpet\": [{\"colorbar\": {\"outlinewidth\": 0, \"ticks\": \"\"}, \"type\": \"contourcarpet\"}], \"heatmap\": [{\"colorbar\": {\"outlinewidth\": 0, \"ticks\": \"\"}, \"colorscale\": [[0.0, \"#0d0887\"], [0.1111111111111111, \"#46039f\"], [0.2222222222222222, \"#7201a8\"], [0.3333333333333333, \"#9c179e\"], [0.4444444444444444, \"#bd3786\"], [0.5555555555555556, \"#d8576b\"], [0.6666666666666666, \"#ed7953\"], [0.7777777777777778, \"#fb9f3a\"], [0.8888888888888888, \"#fdca26\"], [1.0, \"#f0f921\"]], \"type\": \"heatmap\"}], \"heatmapgl\": [{\"colorbar\": {\"outlinewidth\": 0, \"ticks\": \"\"}, \"colorscale\": [[0.0, \"#0d0887\"], [0.1111111111111111, \"#46039f\"], [0.2222222222222222, \"#7201a8\"], [0.3333333333333333, \"#9c179e\"], [0.4444444444444444, \"#bd3786\"], [0.5555555555555556, \"#d8576b\"], [0.6666666666666666, \"#ed7953\"], [0.7777777777777778, \"#fb9f3a\"], [0.8888888888888888, \"#fdca26\"], [1.0, \"#f0f921\"]], \"type\": \"heatmapgl\"}], \"histogram\": [{\"marker\": {\"colorbar\": {\"outlinewidth\": 0, \"ticks\": \"\"}}, \"type\": \"histogram\"}], \"histogram2d\": [{\"colorbar\": {\"outlinewidth\": 0, \"ticks\": \"\"}, \"colorscale\": [[0.0, \"#0d0887\"], [0.1111111111111111, \"#46039f\"], [0.2222222222222222, \"#7201a8\"], [0.3333333333333333, \"#9c179e\"], [0.4444444444444444, \"#bd3786\"], [0.5555555555555556, \"#d8576b\"], [0.6666666666666666, \"#ed7953\"], [0.7777777777777778, \"#fb9f3a\"], [0.8888888888888888, \"#fdca26\"], [1.0, \"#f0f921\"]], \"type\": \"histogram2d\"}], \"histogram2dcontour\": [{\"colorbar\": {\"outlinewidth\": 0, \"ticks\": \"\"}, \"colorscale\": [[0.0, \"#0d0887\"], [0.1111111111111111, \"#46039f\"], [0.2222222222222222, \"#7201a8\"], [0.3333333333333333, \"#9c179e\"], [0.4444444444444444, \"#bd3786\"], [0.5555555555555556, \"#d8576b\"], [0.6666666666666666, \"#ed7953\"], [0.7777777777777778, \"#fb9f3a\"], [0.8888888888888888, \"#fdca26\"], [1.0, \"#f0f921\"]], \"type\": \"histogram2dcontour\"}], \"mesh3d\": [{\"colorbar\": {\"outlinewidth\": 0, \"ticks\": \"\"}, \"type\": \"mesh3d\"}], \"parcoords\": [{\"line\": {\"colorbar\": {\"outlinewidth\": 0, \"ticks\": \"\"}}, \"type\": \"parcoords\"}], \"pie\": [{\"automargin\": true, \"type\": \"pie\"}], \"scatter\": [{\"marker\": {\"colorbar\": {\"outlinewidth\": 0, \"ticks\": \"\"}}, \"type\": \"scatter\"}], \"scatter3d\": [{\"line\": {\"colorbar\": {\"outlinewidth\": 0, \"ticks\": \"\"}}, \"marker\": {\"colorbar\": {\"outlinewidth\": 0, \"ticks\": \"\"}}, \"type\": \"scatter3d\"}], \"scattercarpet\": [{\"marker\": {\"colorbar\": {\"outlinewidth\": 0, \"ticks\": \"\"}}, \"type\": \"scattercarpet\"}], \"scattergeo\": [{\"marker\": {\"colorbar\": {\"outlinewidth\": 0, \"ticks\": \"\"}}, \"type\": \"scattergeo\"}], \"scattergl\": [{\"marker\": {\"colorbar\": {\"outlinewidth\": 0, \"ticks\": \"\"}}, \"type\": \"scattergl\"}], \"scattermapbox\": [{\"marker\": {\"colorbar\": {\"outlinewidth\": 0, \"ticks\": \"\"}}, \"type\": \"scattermapbox\"}], \"scatterpolar\": [{\"marker\": {\"colorbar\": {\"outlinewidth\": 0, \"ticks\": \"\"}}, \"type\": \"scatterpolar\"}], \"scatterpolargl\": [{\"marker\": {\"colorbar\": {\"outlinewidth\": 0, \"ticks\": \"\"}}, \"type\": \"scatterpolargl\"}], \"scatterternary\": [{\"marker\": {\"colorbar\": {\"outlinewidth\": 0, \"ticks\": \"\"}}, \"type\": \"scatterternary\"}], \"surface\": [{\"colorbar\": {\"outlinewidth\": 0, \"ticks\": \"\"}, \"colorscale\": [[0.0, \"#0d0887\"], [0.1111111111111111, \"#46039f\"], [0.2222222222222222, \"#7201a8\"], [0.3333333333333333, \"#9c179e\"], [0.4444444444444444, \"#bd3786\"], [0.5555555555555556, \"#d8576b\"], [0.6666666666666666, \"#ed7953\"], [0.7777777777777778, \"#fb9f3a\"], [0.8888888888888888, \"#fdca26\"], [1.0, \"#f0f921\"]], \"type\": \"surface\"}], \"table\": [{\"cells\": {\"fill\": {\"color\": \"#EBF0F8\"}, \"line\": {\"color\": \"white\"}}, \"header\": {\"fill\": {\"color\": \"#C8D4E3\"}, \"line\": {\"color\": \"white\"}}, \"type\": \"table\"}]}, \"layout\": {\"annotationdefaults\": {\"arrowcolor\": \"#2a3f5f\", \"arrowhead\": 0, \"arrowwidth\": 1}, \"coloraxis\": {\"colorbar\": {\"outlinewidth\": 0, \"ticks\": \"\"}}, \"colorscale\": {\"diverging\": [[0, \"#8e0152\"], [0.1, \"#c51b7d\"], [0.2, \"#de77ae\"], [0.3, \"#f1b6da\"], [0.4, \"#fde0ef\"], [0.5, \"#f7f7f7\"], [0.6, \"#e6f5d0\"], [0.7, \"#b8e186\"], [0.8, \"#7fbc41\"], [0.9, \"#4d9221\"], [1, \"#276419\"]], \"sequential\": [[0.0, \"#0d0887\"], [0.1111111111111111, \"#46039f\"], [0.2222222222222222, \"#7201a8\"], [0.3333333333333333, \"#9c179e\"], [0.4444444444444444, \"#bd3786\"], [0.5555555555555556, \"#d8576b\"], [0.6666666666666666, \"#ed7953\"], [0.7777777777777778, \"#fb9f3a\"], [0.8888888888888888, \"#fdca26\"], [1.0, \"#f0f921\"]], \"sequentialminus\": [[0.0, \"#0d0887\"], [0.1111111111111111, \"#46039f\"], [0.2222222222222222, \"#7201a8\"], [0.3333333333333333, \"#9c179e\"], [0.4444444444444444, \"#bd3786\"], [0.5555555555555556, \"#d8576b\"], [0.6666666666666666, \"#ed7953\"], [0.7777777777777778, \"#fb9f3a\"], [0.8888888888888888, \"#fdca26\"], [1.0, \"#f0f921\"]]}, \"colorway\": [\"#636efa\", \"#EF553B\", \"#00cc96\", \"#ab63fa\", \"#FFA15A\", \"#19d3f3\", \"#FF6692\", \"#B6E880\", \"#FF97FF\", \"#FECB52\"], \"font\": {\"color\": \"#2a3f5f\"}, \"geo\": {\"bgcolor\": \"white\", \"lakecolor\": \"white\", \"landcolor\": \"#E5ECF6\", \"showlakes\": true, \"showland\": true, \"subunitcolor\": \"white\"}, \"hoverlabel\": {\"align\": \"left\"}, \"hovermode\": \"closest\", \"mapbox\": {\"style\": \"light\"}, \"paper_bgcolor\": \"white\", \"plot_bgcolor\": \"#E5ECF6\", \"polar\": {\"angularaxis\": {\"gridcolor\": \"white\", \"linecolor\": \"white\", \"ticks\": \"\"}, \"bgcolor\": \"#E5ECF6\", \"radialaxis\": {\"gridcolor\": \"white\", \"linecolor\": \"white\", \"ticks\": \"\"}}, \"scene\": {\"xaxis\": {\"backgroundcolor\": \"#E5ECF6\", \"gridcolor\": \"white\", \"gridwidth\": 2, \"linecolor\": \"white\", \"showbackground\": true, \"ticks\": \"\", \"zerolinecolor\": \"white\"}, \"yaxis\": {\"backgroundcolor\": \"#E5ECF6\", \"gridcolor\": \"white\", \"gridwidth\": 2, \"linecolor\": \"white\", \"showbackground\": true, \"ticks\": \"\", \"zerolinecolor\": \"white\"}, \"zaxis\": {\"backgroundcolor\": \"#E5ECF6\", \"gridcolor\": \"white\", \"gridwidth\": 2, \"linecolor\": \"white\", \"showbackground\": true, \"ticks\": \"\", \"zerolinecolor\": \"white\"}}, \"shapedefaults\": {\"line\": {\"color\": \"#2a3f5f\"}}, \"ternary\": {\"aaxis\": {\"gridcolor\": \"white\", \"linecolor\": \"white\", \"ticks\": \"\"}, \"baxis\": {\"gridcolor\": \"white\", \"linecolor\": \"white\", \"ticks\": \"\"}, \"bgcolor\": \"#E5ECF6\", \"caxis\": {\"gridcolor\": \"white\", \"linecolor\": \"white\", \"ticks\": \"\"}}, \"title\": {\"x\": 0.05}, \"xaxis\": {\"automargin\": true, \"gridcolor\": \"white\", \"linecolor\": \"white\", \"ticks\": \"\", \"title\": {\"standoff\": 15}, \"zerolinecolor\": \"white\", \"zerolinewidth\": 2}, \"yaxis\": {\"automargin\": true, \"gridcolor\": \"white\", \"linecolor\": \"white\", \"ticks\": \"\", \"title\": {\"standoff\": 15}, \"zerolinecolor\": \"white\", \"zerolinewidth\": 2}}}, \"title\": {\"text\": \"Casos de Coronav\\u00edrus em algumas cidades de Sergipe\"}},                        {\"responsive\": true}                    ).then(function(){\n",
              "                            \n",
              "var gd = document.getElementById('0531e80c-3e77-42ad-affe-d497c94a48cf');\n",
              "var x = new MutationObserver(function (mutations, observer) {{\n",
              "        var display = window.getComputedStyle(gd).display;\n",
              "        if (!display || display === 'none') {{\n",
              "            console.log([gd, 'removed!']);\n",
              "            Plotly.purge(gd);\n",
              "            observer.disconnect();\n",
              "        }}\n",
              "}});\n",
              "\n",
              "// Listen for the removal of the full notebook cells\n",
              "var notebookContainer = gd.closest('#notebook-container');\n",
              "if (notebookContainer) {{\n",
              "    x.observe(notebookContainer, {childList: true});\n",
              "}}\n",
              "\n",
              "// Listen for the clearing of the current output cell\n",
              "var outputEl = gd.closest('.output');\n",
              "if (outputEl) {{\n",
              "    x.observe(outputEl, {childList: true});\n",
              "}}\n",
              "\n",
              "                        })                };                });            </script>        </div>"
            ]
          },
          "metadata": {},
          "output_type": "display_data"
        }
      ],
      "source": [
        "def plot_covid_cidade(cidades, df):\n",
        "    fig = go.Figure()\n",
        "    \n",
        "    for cidade in cidades:\n",
        "        temp = df.loc[(df['name'] == cidade) & (df['cases'] > 0)]\n",
        "        fig.add_trace(go.Scatter(x=temp['date'], y=temp['cases'], name=cidade))\n",
        "\n",
        "    fig.update_layout(title=f'Casos de Coronavírus em algumas cidades de Sergipe')\n",
        "\n",
        "    fig.show()\n",
        "    \n",
        "\n",
        "plot_covid_cidade(['Ribeirópolis', 'Lagarto', 'Propriá', 'Itabaiana', \n",
        "                   'Nossa Senhora da Glória', 'Nossa Senhora do Socorro', 'Pirambu', 'Barra dos Coqueiros'], df_sergipe)"
      ]
    },
    {
      "cell_type": "code",
      "execution_count": null,
      "metadata": {
        "id": "ai1wnBiGS0fg"
      },
      "outputs": [],
      "source": [
        ""
      ]
    }
  ],
  "metadata": {
    "kernelspec": {
      "display_name": "Python 3",
      "language": "python",
      "name": "python3"
    },
    "language_info": {
      "codemirror_mode": {
        "name": "ipython",
        "version": 3
      },
      "file_extension": ".py",
      "mimetype": "text/x-python",
      "name": "python",
      "nbconvert_exporter": "python",
      "pygments_lexer": "ipython3",
      "version": "3.7.4"
    },
    "toc": {
      "base_numbering": 1,
      "nav_menu": {},
      "number_sections": true,
      "sideBar": true,
      "skip_h1_title": false,
      "title_cell": "Table of Contents",
      "title_sidebar": "Contents",
      "toc_cell": false,
      "toc_position": {},
      "toc_section_display": true,
      "toc_window_display": false
    },
    "colab": {
      "name": "03_1_3_Dados_Plotando_Gráficos-Exercicio-Aula.ipynb",
      "provenance": []
    }
  },
  "nbformat": 4,
  "nbformat_minor": 0
}