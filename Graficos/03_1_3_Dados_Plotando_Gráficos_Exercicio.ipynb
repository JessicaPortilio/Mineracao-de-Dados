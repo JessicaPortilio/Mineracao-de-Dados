{
  "cells": [
    {
      "cell_type": "markdown",
      "metadata": {
        "id": "RhAewNbjSm2o"
      },
      "source": [
        "# Disciplina de Mineração de Dados\n",
        "\n",
        "## Plotando Gráficos\n",
        "\n",
        "Universidade Federal de Sergipe, Campus Prof. Alberto Carvalho - Itabaiana\n",
        "\n",
        "Professores:\n",
        "\n",
        "- Raphael Silva Fontes\n",
        "\n",
        "- Prof. Dr. Methanias Colaço Rodrigues Júnior"
      ]
    },
    {
      "cell_type": "code",
      "execution_count": null,
      "metadata": {
        "id": "5EaVM55ASm2t"
      },
      "outputs": [],
      "source": [
        ""
      ]
    },
    {
      "cell_type": "markdown",
      "metadata": {
        "id": "sV2AxA7tSm2u"
      },
      "source": [
        "Lendo o arquivo brazil_covid19_cities.csv e atribuimos-o a um DataFrame"
      ]
    },
    {
      "cell_type": "code",
      "execution_count": null,
      "metadata": {
        "id": "EYPfSgPbSm2v"
      },
      "outputs": [],
      "source": [
        ""
      ]
    },
    {
      "cell_type": "markdown",
      "metadata": {
        "id": "OS5izieLSm2v"
      },
      "source": [
        "Apresentamos o cabeçalho do nosso DataFrame"
      ]
    },
    {
      "cell_type": "code",
      "execution_count": null,
      "metadata": {
        "id": "lPYXcCs2Sm2w"
      },
      "outputs": [],
      "source": [
        ""
      ]
    },
    {
      "cell_type": "markdown",
      "metadata": {
        "id": "A1nLCfriSm2w"
      },
      "source": [
        "Verificamos quantidade de linhas, colunas, tipos dos dados nas colunas e se há algum dado falando"
      ]
    },
    {
      "cell_type": "code",
      "execution_count": null,
      "metadata": {
        "id": "ebXVISPSSm2x"
      },
      "outputs": [],
      "source": [
        ""
      ]
    },
    {
      "cell_type": "markdown",
      "metadata": {
        "id": "CK6hCXhbSm2y"
      },
      "source": [
        "Selecionamos um estado para explorarmos os seus dados"
      ]
    },
    {
      "cell_type": "code",
      "execution_count": null,
      "metadata": {
        "id": "1NyOEjCjSm2z"
      },
      "outputs": [],
      "source": [
        ""
      ]
    },
    {
      "cell_type": "markdown",
      "metadata": {
        "id": "n-amZ2OASm2z"
      },
      "source": [
        "Vamos observar como foi o crescimento de casos no estado por mês."
      ]
    },
    {
      "cell_type": "code",
      "execution_count": null,
      "metadata": {
        "id": "cEZD02hISm20"
      },
      "outputs": [],
      "source": [
        ""
      ]
    },
    {
      "cell_type": "markdown",
      "metadata": {
        "id": "OhQ1Ia1dSm20"
      },
      "source": [
        "### Plotando Gráficos - Linha e pontos (_Scatter_)\n",
        "\n",
        "Link para documentação do [Plotly Scatter](https://plotly.com/python/line-charts/).\n",
        "\n",
        "mode='markers'\n",
        "\n",
        "mode='lines'\n",
        "\n",
        "mode='markers+lines'\n"
      ]
    },
    {
      "cell_type": "code",
      "execution_count": null,
      "metadata": {
        "id": "Yl-yMVqtSm21"
      },
      "outputs": [],
      "source": [
        ""
      ]
    },
    {
      "cell_type": "markdown",
      "metadata": {
        "id": "VqN6IkBLSm21"
      },
      "source": [
        "### Plotando Gráficos - Barras (_Bar_)\n",
        "\n",
        "Link para documentação do [Plotly Bar](https://plotly.com/python/bar-charts/)."
      ]
    },
    {
      "cell_type": "code",
      "execution_count": null,
      "metadata": {
        "id": "LQUg7c-RSm22"
      },
      "outputs": [],
      "source": [
        ""
      ]
    },
    {
      "cell_type": "markdown",
      "metadata": {
        "id": "x_pjrH0JSm22"
      },
      "source": [
        "Vamos dar uma olhada nos casos na cidade de Itabaiana"
      ]
    },
    {
      "cell_type": "code",
      "execution_count": null,
      "metadata": {
        "id": "WczzQjWASm23"
      },
      "outputs": [],
      "source": [
        ""
      ]
    },
    {
      "cell_type": "markdown",
      "metadata": {
        "id": "DppuY6e6Sm23"
      },
      "source": [
        "### Plotando Gráficos - Pizza (_Pie_)\n",
        "\n",
        "Link para documentação do [Plotly Pie](https://plotly.com/python/pie-charts/)."
      ]
    },
    {
      "cell_type": "code",
      "execution_count": null,
      "metadata": {
        "id": "Yyy41R5wSm23"
      },
      "outputs": [],
      "source": [
        ""
      ]
    }
  ],
  "metadata": {
    "kernelspec": {
      "display_name": "Python 3",
      "language": "python",
      "name": "python3"
    },
    "language_info": {
      "codemirror_mode": {
        "name": "ipython",
        "version": 3
      },
      "file_extension": ".py",
      "mimetype": "text/x-python",
      "name": "python",
      "nbconvert_exporter": "python",
      "pygments_lexer": "ipython3",
      "version": "3.7.4"
    },
    "toc": {
      "base_numbering": 1,
      "nav_menu": {},
      "number_sections": true,
      "sideBar": true,
      "skip_h1_title": false,
      "title_cell": "Table of Contents",
      "title_sidebar": "Contents",
      "toc_cell": false,
      "toc_position": {},
      "toc_section_display": true,
      "toc_window_display": false
    },
    "colab": {
      "name": "03_1_3_Dados_Plotando_Gráficos-Exercicio.ipynb",
      "provenance": []
    }
  },
  "nbformat": 4,
  "nbformat_minor": 0
}