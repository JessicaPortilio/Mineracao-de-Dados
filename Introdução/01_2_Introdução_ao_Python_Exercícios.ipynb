{
  "cells": [
    {
      "cell_type": "markdown",
      "metadata": {
        "id": "CuE13en53GmW"
      },
      "source": [
        "# Disciplina de Mineração de Dados\n",
        "\n",
        "## Introdução ao Python - Exercícios\n",
        "\n",
        "\n",
        "Universidade Federal de Sergipe, Campus Prof. Alberto Carvalho - Itabaiana\n",
        "\n",
        "Professores:\n",
        "\n",
        "- Raphael Silva Fontes\n",
        "\n",
        "- Prof. Dr. Methanias Colaço Rodrigues Júnior"
      ]
    },
    {
      "cell_type": "markdown",
      "metadata": {
        "id": "K4zcbyAE3Gmc"
      },
      "source": [
        "## Exercícios\n",
        "\n",
        "Responda as perguntas ou complete as tarefas descritas em negrito abaixo, use o método específico, se aplicável."
      ]
    },
    {
      "cell_type": "markdown",
      "metadata": {
        "id": "9fvgtH-T3Gmd"
      },
      "source": [
        "Quanto é 7 elevado na potência 4?\n",
        "\n",
        "Resposta: **2401**"
      ]
    },
    {
      "cell_type": "code",
      "execution_count": null,
      "metadata": {
        "id": "K40v4BIP3Gmd"
      },
      "outputs": [],
      "source": [
        ""
      ]
    },
    {
      "cell_type": "markdown",
      "metadata": {
        "id": "iykY339I3Gme"
      },
      "source": [
        "Quebre a seguinte string em uma lista:\n",
        "\n",
        "    s = \"Olá, Pai!\"\n",
        "    \n",
        "Resposta: **['Olá,', 'Pai!']**"
      ]
    },
    {
      "cell_type": "code",
      "execution_count": null,
      "metadata": {
        "id": "bWLM-6cE3Gme"
      },
      "outputs": [],
      "source": [
        ""
      ]
    },
    {
      "cell_type": "markdown",
      "metadata": {
        "id": "xm_hcOvT3Gmf"
      },
      "source": [
        "Dada as variáveis:\n",
        "\n",
        "    Planeta = \"Terra\"\n",
        "    Diametro = 12742\n",
        "\n",
        "Use .format() para printar a seguinte frase:\n",
        "\n",
        "    O diâmetro da terra é de 12742 kilômetros."
      ]
    },
    {
      "cell_type": "code",
      "execution_count": null,
      "metadata": {
        "id": "Vh2B_s0-3Gmf"
      },
      "outputs": [],
      "source": [
        ""
      ]
    },
    {
      "cell_type": "markdown",
      "metadata": {
        "id": "73QOJDP93Gmg"
      },
      "source": [
        "Dada a lista abaixo, use indexação para obter apenas a string \"olá\".\n",
        "lst = [1,2,[3,4],[5,[100,200,['olá']],23,11],1,7]"
      ]
    },
    {
      "cell_type": "code",
      "execution_count": null,
      "metadata": {
        "id": "IntMC3k23Gmg"
      },
      "outputs": [],
      "source": [
        ""
      ]
    },
    {
      "cell_type": "markdown",
      "metadata": {
        "id": "iNwGlApj3Gmh"
      },
      "source": [
        "Dado o seguinte dicionário aninhado, extraia a palavra \"olá\"\n",
        "\n",
        "d = {'k1':[1,2,3,{'café':['banana','mulher','colher',{'alvo':[1,2,3,'olá']}]}]}"
      ]
    },
    {
      "cell_type": "code",
      "execution_count": null,
      "metadata": {
        "id": "U3waY9C_3Gmh"
      },
      "outputs": [],
      "source": [
        ""
      ]
    },
    {
      "cell_type": "markdown",
      "metadata": {
        "id": "Ax15VuHo3Gmi"
      },
      "source": [
        "Qual a principal diferença entre um dicionário e uma tupla?"
      ]
    },
    {
      "cell_type": "code",
      "execution_count": null,
      "metadata": {
        "id": "NFSYoizH3Gmi"
      },
      "outputs": [],
      "source": [
        ""
      ]
    },
    {
      "cell_type": "markdown",
      "metadata": {
        "id": "tyrwPMqr3Gmj"
      },
      "source": [
        "Construa uma função que retire o domínio dado um e-mail no seguinte formato:\n",
        "\n",
        "    user@domain.com\n",
        "    \n",
        "Por exemplo, passando como parâmetro \"user@domain.com\" retornaria: domain.com"
      ]
    },
    {
      "cell_type": "code",
      "execution_count": null,
      "metadata": {
        "id": "7_LACDn_3Gmj"
      },
      "outputs": [],
      "source": [
        ""
      ]
    },
    {
      "cell_type": "markdown",
      "metadata": {
        "id": "xWjN4JRP3Gmj"
      },
      "source": [
        "Crie uma função básica que retorna True se a palavra **vida** estiver contida na *string* de entrada. Não se preocupe com os casos de extremos, como uma pontuação que está sendo anexada à palavra vida, mas que seja case sensitive."
      ]
    },
    {
      "cell_type": "code",
      "execution_count": null,
      "metadata": {
        "id": "_0NrWFVw3Gmk"
      },
      "outputs": [],
      "source": [
        ""
      ]
    },
    {
      "cell_type": "markdown",
      "metadata": {
        "id": "QGUXRrJM3Gmk"
      },
      "source": [
        "Crie uma função que conta o número de vezes que a palavra **vida** ocorre em uma string. Novamente ignore os casos extremos."
      ]
    },
    {
      "cell_type": "code",
      "execution_count": null,
      "metadata": {
        "id": "qYZyhqyd3Gmk"
      },
      "outputs": [],
      "source": [
        ""
      ]
    },
    {
      "cell_type": "markdown",
      "metadata": {
        "id": "6Fy8z1tI3Gmk"
      },
      "source": [
        "Use expressões lambda e a função *filter()* para filtrar as palavras de uma lista que não começa com a letra 's'. Por exemplo:\n",
        "\n",
        "    seq = ['sopa','cachorro','salada','gato','ótimo']\n",
        "\n",
        "Deveria ser filtrado para:\n",
        "\n",
        "    ['sopa','salada']"
      ]
    },
    {
      "cell_type": "code",
      "execution_count": null,
      "metadata": {
        "id": "OPkyAQ4w3Gml"
      },
      "outputs": [],
      "source": [
        "seq = ['sopa','cachorro', 'salada', 'gato', 'ótimo']"
      ]
    },
    {
      "cell_type": "code",
      "execution_count": null,
      "metadata": {
        "id": "H-NIUYlh3Gml"
      },
      "outputs": [],
      "source": [
        ""
      ]
    },
    {
      "cell_type": "markdown",
      "metadata": {
        "id": "ttIobjRZ3Gmm"
      },
      "source": [
        "### Problema final\n",
        "\n",
        "Você está dirigindo um pouco rápido demais, e um policial para você. Escreva uma função para retornar um dos 3 resultados possíveis: \"Sem multa\", \"Pequena multa\" ou \"Multa Grande\".\n",
        "   \n",
        "   Se a sua velocidade for igual ou inferior a 60, o resultado é \"Sem multa\". Se a velocidade for entre 61 e 80 inclusive, o resultado é \"Multa Pequena\". Se a velocidade é de 81 ou mais, o resultado é \"Multa Grande\". A menos que seja seu aniversário (codificado como um valor booleano nos parâmetros da função) - em seu aniversário, sua velocidade pode ser 5 maior em todos os casos."
      ]
    },
    {
      "cell_type": "code",
      "execution_count": null,
      "metadata": {
        "id": "nIqEE4IQ3Gmm"
      },
      "outputs": [],
      "source": [
        "def capturar_velocidade(speed, is_birthday):\n",
        "    pass"
      ]
    },
    {
      "cell_type": "code",
      "execution_count": null,
      "metadata": {
        "id": "31ONeSWs3Gmm"
      },
      "outputs": [],
      "source": [
        "capturar_velocidade(65,False)"
      ]
    },
    {
      "cell_type": "code",
      "execution_count": null,
      "metadata": {
        "id": "ZtawqfvK3Gmm"
      },
      "outputs": [],
      "source": [
        "capturar_velocidade(81,False)"
      ]
    }
  ],
  "metadata": {
    "kernelspec": {
      "display_name": "Python 3",
      "language": "python",
      "name": "python3"
    },
    "language_info": {
      "codemirror_mode": {
        "name": "ipython",
        "version": 3
      },
      "file_extension": ".py",
      "mimetype": "text/x-python",
      "name": "python",
      "nbconvert_exporter": "python",
      "pygments_lexer": "ipython3",
      "version": "3.7.4"
    },
    "colab": {
      "name": "01.2 - Introdução ao Python - Exercícios.ipynb",
      "provenance": []
    }
  },
  "nbformat": 4,
  "nbformat_minor": 0
}