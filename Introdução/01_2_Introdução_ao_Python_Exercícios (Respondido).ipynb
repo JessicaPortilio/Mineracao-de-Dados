{
  "cells": [
    {
      "cell_type": "markdown",
      "metadata": {
        "id": "CuE13en53GmW"
      },
      "source": [
        "# Disciplina de Mineração de Dados\n",
        "\n",
        "## Introdução ao Python - Exercícios\n",
        "\n",
        "\n",
        "Universidade Federal de Sergipe, Campus Prof. Alberto Carvalho - Itabaiana\n",
        "\n",
        "Professores:\n",
        "\n",
        "- Raphael Silva Fontes\n",
        "\n",
        "- Prof. Dr. Methanias Colaço Rodrigues Júnior"
      ]
    },
    {
      "cell_type": "markdown",
      "metadata": {
        "id": "K4zcbyAE3Gmc"
      },
      "source": [
        "## Exercícios\n",
        "\n",
        "Responda as perguntas ou complete as tarefas descritas em negrito abaixo, use o método específico, se aplicável."
      ]
    },
    {
      "cell_type": "markdown",
      "metadata": {
        "id": "9fvgtH-T3Gmd"
      },
      "source": [
        "Quanto é 7 elevado na potência 4?\n",
        "\n",
        "Resposta: **2401**"
      ]
    },
    {
      "cell_type": "code",
      "execution_count": 1,
      "metadata": {
        "id": "K40v4BIP3Gmd",
        "colab": {
          "base_uri": "https://localhost:8080/"
        },
        "outputId": "5ee4271f-ec5e-4d5a-f43e-e949ccd02a0c"
      },
      "outputs": [
        {
          "output_type": "execute_result",
          "data": {
            "text/plain": [
              "2401"
            ]
          },
          "metadata": {},
          "execution_count": 1
        }
      ],
      "source": [
        "7**4"
      ]
    },
    {
      "cell_type": "markdown",
      "metadata": {
        "id": "iykY339I3Gme"
      },
      "source": [
        "Quebre a seguinte string em uma lista:\n",
        "\n",
        "    s = \"Olá, Pai!\"\n",
        "    \n",
        "Resposta: **['Olá,', 'Pai!']**"
      ]
    },
    {
      "cell_type": "code",
      "execution_count": 5,
      "metadata": {
        "id": "bWLM-6cE3Gme",
        "colab": {
          "base_uri": "https://localhost:8080/"
        },
        "outputId": "f618966b-ea94-4738-ae13-0b6bf135483e"
      },
      "outputs": [
        {
          "output_type": "execute_result",
          "data": {
            "text/plain": [
              "['Olá, Pai!']"
            ]
          },
          "metadata": {},
          "execution_count": 5
        }
      ],
      "source": [
        "s = \"Olá, Pai!\"\n",
        "lista = []\n",
        "lista.append(s)\n",
        "lista"
      ]
    },
    {
      "cell_type": "markdown",
      "metadata": {
        "id": "xm_hcOvT3Gmf"
      },
      "source": [
        "Dada as variáveis:\n",
        "\n",
        "    Planeta = \"Terra\"\n",
        "    Diametro = 12742\n",
        "\n",
        "Use .format() para printar a seguinte frase:\n",
        "\n",
        "    O diâmetro da terra é de 12742 kilômetros."
      ]
    },
    {
      "cell_type": "code",
      "execution_count": 8,
      "metadata": {
        "id": "Vh2B_s0-3Gmf",
        "colab": {
          "base_uri": "https://localhost:8080/"
        },
        "outputId": "f086c9fe-7c34-493f-ffb2-0a2260659199"
      },
      "outputs": [
        {
          "output_type": "stream",
          "name": "stdout",
          "text": [
            "O diâmetro da Terra é de 12742 kilômetros\n"
          ]
        }
      ],
      "source": [
        "Planeta = \"Terra\"\n",
        "Diametro = 12742\n",
        "print(f'O diâmetro da {Planeta} é de {Diametro} kilômetros'.format())"
      ]
    },
    {
      "cell_type": "markdown",
      "metadata": {
        "id": "73QOJDP93Gmg"
      },
      "source": [
        "Dada a lista abaixo, use indexação para obter apenas a string \"olá\".\n",
        "lst = [1,2,[3,4],[5,[100,200,['olá']],23,11],1,7]"
      ]
    },
    {
      "cell_type": "code",
      "execution_count": 28,
      "metadata": {
        "id": "IntMC3k23Gmg",
        "colab": {
          "base_uri": "https://localhost:8080/"
        },
        "outputId": "14f52e41-71cc-4852-eeb8-8229f4610d24"
      },
      "outputs": [
        {
          "output_type": "execute_result",
          "data": {
            "text/plain": [
              "['olá']"
            ]
          },
          "metadata": {},
          "execution_count": 28
        }
      ],
      "source": [
        "lst = [1,2,[3,4],[5,[100,200,['olá']],23,11],1,7]\n",
        "lst[3][1][2]"
      ]
    },
    {
      "cell_type": "code",
      "source": [
        ""
      ],
      "metadata": {
        "id": "4JitHQ4bsPYO"
      },
      "execution_count": null,
      "outputs": []
    },
    {
      "cell_type": "markdown",
      "metadata": {
        "id": "iNwGlApj3Gmh"
      },
      "source": [
        "Dado o seguinte dicionário aninhado, extraia a palavra \"olá\"\n",
        "\n",
        "d = {'k1':[1,2,3,{'café':['banana','mulher','colher',{'alvo':[1,2,3,'olá']}]}]}"
      ]
    },
    {
      "cell_type": "code",
      "execution_count": 50,
      "metadata": {
        "id": "U3waY9C_3Gmh"
      },
      "outputs": [],
      "source": [
        "d = {'k1':[1,2,3,{'café':['banana','mulher','colher',{'alvo':[1,2,3,'olá']}]}]}\n"
      ]
    },
    {
      "cell_type": "markdown",
      "metadata": {
        "id": "Ax15VuHo3Gmi"
      },
      "source": [
        "Qual a principal diferença entre um dicionário e uma tupla?"
      ]
    },
    {
      "cell_type": "code",
      "execution_count": null,
      "metadata": {
        "id": "NFSYoizH3Gmi"
      },
      "outputs": [],
      "source": [
        "# A tupla é imutável"
      ]
    },
    {
      "cell_type": "markdown",
      "metadata": {
        "id": "tyrwPMqr3Gmj"
      },
      "source": [
        "Construa uma função que retire o domínio dado um e-mail no seguinte formato:\n",
        "\n",
        "    user@domain.com\n",
        "    \n",
        "Por exemplo, passando como parâmetro \"user@domain.com\" retornaria: domain.com"
      ]
    },
    {
      "cell_type": "code",
      "execution_count": 60,
      "metadata": {
        "id": "7_LACDn_3Gmj"
      },
      "outputs": [],
      "source": [
        "def dominio(email):\n",
        "  return email.split('@')[-1]"
      ]
    },
    {
      "cell_type": "code",
      "source": [
        "dominio('user@domain.com')"
      ],
      "metadata": {
        "colab": {
          "base_uri": "https://localhost:8080/",
          "height": 35
        },
        "id": "vpyI44zkyL3l",
        "outputId": "19b079c5-3413-4138-f649-450a4f1fd40e"
      },
      "execution_count": 61,
      "outputs": [
        {
          "output_type": "execute_result",
          "data": {
            "application/vnd.google.colaboratory.intrinsic+json": {
              "type": "string"
            },
            "text/plain": [
              "'domain.com'"
            ]
          },
          "metadata": {},
          "execution_count": 61
        }
      ]
    },
    {
      "cell_type": "markdown",
      "metadata": {
        "id": "xWjN4JRP3Gmj"
      },
      "source": [
        "Crie uma função básica que retorna True se a palavra **vida** estiver contida na *string* de entrada. Não se preocupe com os casos de extremos, como uma pontuação que está sendo anexada à palavra vida, mas que seja case sensitive."
      ]
    },
    {
      "cell_type": "code",
      "execution_count": 62,
      "metadata": {
        "id": "_0NrWFVw3Gmk"
      },
      "outputs": [],
      "source": [
        "def encontraPalavraVida(palavra):\n",
        "  return 'vida' in palavra.lower().split()"
      ]
    },
    {
      "cell_type": "code",
      "source": [
        "encontraPalavraVida('Estou esperando a vida ficar colorida')"
      ],
      "metadata": {
        "colab": {
          "base_uri": "https://localhost:8080/"
        },
        "id": "7dhTadvAzb4Y",
        "outputId": "e31644fb-a94c-4f84-eab7-58cdcd27dfdf"
      },
      "execution_count": 63,
      "outputs": [
        {
          "output_type": "execute_result",
          "data": {
            "text/plain": [
              "True"
            ]
          },
          "metadata": {},
          "execution_count": 63
        }
      ]
    },
    {
      "cell_type": "markdown",
      "metadata": {
        "id": "QGUXRrJM3Gmk"
      },
      "source": [
        "Crie uma função que conta o número de vezes que a palavra **vida** ocorre em uma string. Novamente ignore os casos extremos."
      ]
    },
    {
      "cell_type": "code",
      "execution_count": 66,
      "metadata": {
        "id": "qYZyhqyd3Gmk"
      },
      "outputs": [],
      "source": [
        "def encontraPalavraVida(frase):\n",
        "  contador = 0\n",
        "  for palavra in frase.lower().split():\n",
        "    if palavra == 'vida':\n",
        "      contador += 1\n",
        "  return contador"
      ]
    },
    {
      "cell_type": "code",
      "source": [
        "encontraPalavraVida('Na vida encontraremos vida triste, como também vida alegre ')"
      ],
      "metadata": {
        "colab": {
          "base_uri": "https://localhost:8080/"
        },
        "id": "R9hHehhI0BlA",
        "outputId": "f3e36aa3-9219-4d46-c151-c510eaf405b2"
      },
      "execution_count": 67,
      "outputs": [
        {
          "output_type": "execute_result",
          "data": {
            "text/plain": [
              "3"
            ]
          },
          "metadata": {},
          "execution_count": 67
        }
      ]
    },
    {
      "cell_type": "markdown",
      "metadata": {
        "id": "6Fy8z1tI3Gmk"
      },
      "source": [
        "Use expressões lambda e a função *filter()* para filtrar as palavras de uma lista que não começa com a letra 's'. Por exemplo:\n",
        "\n",
        "    seq = ['sopa','cachorro','salada','gato','ótimo']\n",
        "\n",
        "Deveria ser filtrado para:\n",
        "\n",
        "    ['sopa','salada']"
      ]
    },
    {
      "cell_type": "code",
      "execution_count": 68,
      "metadata": {
        "id": "OPkyAQ4w3Gml"
      },
      "outputs": [],
      "source": [
        "seq = ['sopa','cachorro', 'salada', 'gato', 'ótimo']"
      ]
    },
    {
      "cell_type": "code",
      "execution_count": 69,
      "metadata": {
        "id": "H-NIUYlh3Gml",
        "colab": {
          "base_uri": "https://localhost:8080/"
        },
        "outputId": "d6cce979-606c-4a01-ecd3-c72f5465d7b6"
      },
      "outputs": [
        {
          "output_type": "execute_result",
          "data": {
            "text/plain": [
              "['sopa', 'salada']"
            ]
          },
          "metadata": {},
          "execution_count": 69
        }
      ],
      "source": [
        "list(filter(lambda palavra: palavra[0]=='s', seq))"
      ]
    },
    {
      "cell_type": "markdown",
      "metadata": {
        "id": "ttIobjRZ3Gmm"
      },
      "source": [
        "### Problema final\n",
        "\n",
        "Você está dirigindo um pouco rápido demais, e um policial para você. Escreva uma função para retornar um dos 3 resultados possíveis: \"Sem multa\", \"Pequena multa\" ou \"Multa Grande\".\n",
        "   \n",
        "   Se a sua velocidade for igual ou inferior a 60, o resultado é \"Sem multa\". Se a velocidade for entre 61 e 80 inclusive, o resultado é \"Multa Pequena\". Se a velocidade é de 81 ou mais, o resultado é \"Multa Grande\". A menos que seja seu aniversário (codificado como um valor booleano nos parâmetros da função) - em seu aniversário, sua velocidade pode ser 5 maior em todos os casos."
      ]
    },
    {
      "cell_type": "code",
      "execution_count": 73,
      "metadata": {
        "id": "nIqEE4IQ3Gmm"
      },
      "outputs": [],
      "source": [
        "def capturar_velocidade(speed, is_birthday):\n",
        "    if is_birthday:\n",
        "      speed += speed \n",
        "    else:\n",
        "       speed = speed\n",
        "    if speed > 80:\n",
        "      return 'Multa Grande'\n",
        "    elif speed >60:\n",
        "      return 'Multa Pequena'\n",
        "    else:\n",
        "      return 'Sem multa'"
      ]
    },
    {
      "cell_type": "code",
      "execution_count": 74,
      "metadata": {
        "id": "31ONeSWs3Gmm",
        "colab": {
          "base_uri": "https://localhost:8080/",
          "height": 35
        },
        "outputId": "abfb6546-7999-47a5-bd96-057afa77966d"
      },
      "outputs": [
        {
          "output_type": "execute_result",
          "data": {
            "application/vnd.google.colaboratory.intrinsic+json": {
              "type": "string"
            },
            "text/plain": [
              "'Multa Pequena'"
            ]
          },
          "metadata": {},
          "execution_count": 74
        }
      ],
      "source": [
        "capturar_velocidade(65,False)"
      ]
    },
    {
      "cell_type": "code",
      "execution_count": 75,
      "metadata": {
        "id": "ZtawqfvK3Gmm",
        "colab": {
          "base_uri": "https://localhost:8080/",
          "height": 35
        },
        "outputId": "106e3e27-a75c-498a-bbbc-ae6a53194b63"
      },
      "outputs": [
        {
          "output_type": "execute_result",
          "data": {
            "application/vnd.google.colaboratory.intrinsic+json": {
              "type": "string"
            },
            "text/plain": [
              "'Multa Grande'"
            ]
          },
          "metadata": {},
          "execution_count": 75
        }
      ],
      "source": [
        "capturar_velocidade(81,False)"
      ]
    }
  ],
  "metadata": {
    "kernelspec": {
      "display_name": "Python 3",
      "language": "python",
      "name": "python3"
    },
    "language_info": {
      "codemirror_mode": {
        "name": "ipython",
        "version": 3
      },
      "file_extension": ".py",
      "mimetype": "text/x-python",
      "name": "python",
      "nbconvert_exporter": "python",
      "pygments_lexer": "ipython3",
      "version": "3.7.4"
    },
    "colab": {
      "name": "01_2_Introdução_ao_Python_Exercícios.ipynb",
      "provenance": [],
      "collapsed_sections": []
    }
  },
  "nbformat": 4,
  "nbformat_minor": 0
}