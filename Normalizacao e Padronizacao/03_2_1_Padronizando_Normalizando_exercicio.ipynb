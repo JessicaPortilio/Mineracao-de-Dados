{
  "cells": [
    {
      "cell_type": "markdown",
      "metadata": {
        "id": "wD0q8rPgbcRW"
      },
      "source": [
        "# Disciplina de Mineração de Dados\n",
        "\n",
        "## Normalizando Dados\n",
        "\n",
        "Universidade Federal de Sergipe, Campus Prof. Alberto Carvalho - Itabaiana\n",
        "\n",
        "Professores:\n",
        "\n",
        "- Raphael Silva Fontes\n",
        "\n",
        "- Prof. Dr. Methanias Colaço Rodrigues Júnior"
      ]
    },
    {
      "cell_type": "markdown",
      "metadata": {
        "id": "QJwWdVN6bcRb"
      },
      "source": [
        "## Normalizando Dados\n",
        "### O que é Normalização?\n",
        "\n",
        "Normalização significa tornar normal, ou seja, tornar a distribuição de frequências dos valores parecido com a distribuição normal ou, pelo menos, torná-la simétrica, minimizando os problemas oriundos do uso de unidades e dispersões distintas entre as variáveis.\n",
        "\n",
        "Por exemplo, o conjunto de dados possui informações em Dolar e Real, a normalização deve ser feita para que os valores \"conversem\", podendo ser convertido para o Dolar ou para o Real.\n",
        "Outro exemplo prático: medidas de tamanho, o dataset contem informações em quilometro e metro, normalizar os dados para metro.\n",
        "\n",
        "### Mas se não normalizar, o que pode acontecer?\n",
        "\n",
        "Suponto que temos duas variáveis, númericas, idade e renda. A faixa etária varia de 1 a 110 anos, enquanto a renda varia de R100,000 a R40.000,00 ou mais. A renda é cerca de 1.000 vezes maior que a idade, ou seja, os intervalos são muito diferentes. A renda influenciará no modelo devido aos valores maiores e não necessariamente porque a renda é uma importante caracteristica para o modelo.\n",
        "\n",
        "### Primeira Forma Normal (1FN)\n",
        "\n",
        "Na primeira forma normal, os atributos precisam ser únicos, dessa forma as tabelas não podem conter valores repetidos e nem atributos possuindo mais de um valor. Por exemplo:\n",
        "\n",
        "| cliente_id | cliente_endereco | cliente_telefones |\n",
        "| --- | --- | --- |\n",
        "| 1 | Rua das Flores, 101 | 79 9 9999-9999 |\n",
        "| 1 | Rua das Flores, 101 | 79 9 8888-8888 |\n",
        "\n",
        "Uma pessoa poderá ter mais de um número de telefone, ou seja o atributo \"telefone\" é multivalorado. Para normalizar nesse caso é necessário:\n",
        "1. Identificar a chave primária e única;\n",
        "1. Identificar a coluna que possui dados repetidos, neste cenário é \"telefone\";\n",
        "1. Construir uma tabela para armazenar os valores do atributo \"telefone, efetuando a relação entre as tabelas.\n",
        "\n",
        "| cliente_id | cliente_endereco |\n",
        "| --- | --- |\n",
        "| 1 | Rua das Flores, 101 |\n",
        "\n",
        "| telefone_id | cliente_id | cliente_endereco |\n",
        "| --- | --- | --- |\n",
        "| 1 | 1 | 79 9 8888-8888 |\n",
        "| 2 | 1 | 79 9 8888-8888 |\n",
        "\n",
        "\n",
        "### Segunda Forma Normal (2FN)\n",
        "\n",
        "Obrigatoriamente para prosseguir na forma normal, os dados precisam ter passado pela normalização anterior (1FN).\n",
        "\n",
        "A 2FN define que os atributos normais, ou seja, os atributos que não são chaves, devem depender unicamente da chave primária da tabela. Como as colunas da tabela não são dependentes dessa chavem, os atributos devem ser removidos da tabela principal, criando uma tabela para esses atributos.\n",
        "\n",
        "| professor_id | curso_id | descricao_curso | valor_hora_aula |\n",
        "| --- | --- | --- | --- |\n",
        "| 1 | 1 | mineração de dados | 15.00 |\n",
        "| 1 | 2 | engenharia de software | 7.50 |\n",
        "\n",
        "Como é possível observar, o atributo \"descricao_curso\" não depende da chave primária \"professor_id\", mas somente da chave \"curso_id\". Para tratar:\n",
        "\n",
        "1. O atributo descrição curso não depente da chave primária, nesse caso é possível removê-los;\n",
        "1. Construir uma nova tabela para os dados removidos anteriormente.\n",
        "\n",
        "| id_professor | id_curso | valor_hora_aula |\n",
        "| --- | --- | --- |\n",
        "| 1 | 1 | 15.00 |\n",
        "| 1 | 2 | 7.50 |\n",
        "\n",
        "| id_curso | descricao_curso |\n",
        "| --- | --- |\n",
        "| 1 | mineração de dados |\n",
        "| 2 | engenharia de software |\n",
        "\n",
        "### Terceira Forma Normal (3FN)\n",
        "\n",
        "Obrigatoriamente para prosseguir na forma normal, os dados precisam ter passado pela normalização anterior (2FN e 1FN).\n",
        "\n",
        "Na 3FN todos os atributos dessa tabela devem ser funcionalmente independentes uns dos outros, ao mesmo tempo que devem ser dependentes exclusivamente da chave primária. \n",
        "\n",
        "Essa Forma Normal foi projetada para melhorar o desempenho de processamento dos bancos de dados e minimizar os custos de armazenamento.\n",
        "\n",
        "Seguindo ao exemplo: \n",
        "\n",
        "| funcionario_id | nome | salario | fgts |\n",
        "| --- | --- | --- | --- |\n",
        "\n",
        "O valor do FGTS, é proporcional ao valor do salário, logo o atributo normal \"fgts\" é dependente do atributo \"salario\". Para normalizar este caso, é necessário:\n",
        "\n",
        "1. Identificar os dados dependentes de outros;\n",
        "1. Removê-los da tabela, pois esses atribuos podem ser deixados para a camada de negócio a responsabilidade pelo seu cálculo. Esse valor de FGTs pode ser adicionado em uma nova tabela e referenciar o funcionário."
      ]
    },
    {
      "cell_type": "markdown",
      "metadata": {
        "id": "rLYVAwY4bcRd"
      },
      "source": [
        "### Mas, como normalizar os dados?\n",
        "\n",
        "Duas técnicas que podem ser utilizadas: normalização e a padronização.\n",
        "\n",
        "A normalização transformará os dados das variáveis dentro de um intervalo de 0 e 1, ou -1 e 1 (negativo). Já a padronização irá resultar em uma média igual a 0 e um desvio padrão igual a 1.\n",
        "\n",
        "Padronizar os dados normalmente é feito utilizando a fórmula do _z-score_:\n",
        "\n",
        "![](https://miro.medium.com/max/279/1*bxVffEJZKnlJ5WfPMgefVg@2x.png)\n",
        "\n",
        "Nornalização utiliza a fóruma de min-max: \n",
        "\n",
        "![](https://miro.medium.com/max/202/1*9N7QdpE_CfvkTyirk7_oWw.png)\n",
        "\n",
        "\n",
        "Se uma distruição não é gaussiano, ou o desvio padrão é muito pequeno, normalizar os dados é uma **obrigação**."
      ]
    },
    {
      "cell_type": "markdown",
      "metadata": {
        "id": "ymDaftQ6bcRe"
      },
      "source": [
        "## Exemplo prático de normalização"
      ]
    },
    {
      "cell_type": "code",
      "execution_count": null,
      "metadata": {
        "id": "8Aj9RxOybcRe"
      },
      "outputs": [],
      "source": [
        ""
      ]
    }
  ],
  "metadata": {
    "kernelspec": {
      "display_name": "Python 3",
      "language": "python",
      "name": "python3"
    },
    "language_info": {
      "codemirror_mode": {
        "name": "ipython",
        "version": 3
      },
      "file_extension": ".py",
      "mimetype": "text/x-python",
      "name": "python",
      "nbconvert_exporter": "python",
      "pygments_lexer": "ipython3",
      "version": "3.7.4"
    },
    "toc": {
      "base_numbering": 1,
      "nav_menu": {},
      "number_sections": true,
      "sideBar": true,
      "skip_h1_title": false,
      "title_cell": "Table of Contents",
      "title_sidebar": "Contents",
      "toc_cell": false,
      "toc_position": {},
      "toc_section_display": true,
      "toc_window_display": false
    },
    "colab": {
      "name": "03_2_1_Padronizando_Normalizando_exercicio.ipynb",
      "provenance": []
    }
  },
  "nbformat": 4,
  "nbformat_minor": 0
}