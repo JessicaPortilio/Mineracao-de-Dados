{
  "cells": [
    {
      "cell_type": "markdown",
      "metadata": {
        "id": "F3y5agCsNec8"
      },
      "source": [
        "# Disciplina de Mineração de Dados\n",
        "\n",
        "## Introdução aos Pandas\n",
        "\n",
        "Universidade Federal de Sergipe, Campus Prof. Alberto Carvalho - Itabaiana\n",
        "\n",
        "Professores:\n",
        "\n",
        "- Raphael Silva Fontes\n",
        "\n",
        "- Prof. Dr. Methanias Colaço Rodrigues Júnior\n",
        "\n",
        "---\n",
        "\n",
        "### Valores ausentes - Forma geral"
      ]
    },
    {
      "cell_type": "code",
      "execution_count": null,
      "metadata": {
        "id": "WZ1NWSnXNedA"
      },
      "outputs": [],
      "source": [
        "import numpy as np\n",
        "import pandas as pd"
      ]
    },
    {
      "cell_type": "code",
      "execution_count": null,
      "metadata": {
        "id": "Q568_KkpNedC"
      },
      "outputs": [],
      "source": [
        "df = pd.DataFrame({'A':[1,2,np.nan],\n",
        "                  'B':[5,np.nan,np.nan],\n",
        "                  'C':[1,2,3]})"
      ]
    },
    {
      "cell_type": "code",
      "execution_count": null,
      "metadata": {
        "id": "cg8O9dOJNedD"
      },
      "outputs": [],
      "source": [
        "df"
      ]
    },
    {
      "cell_type": "code",
      "execution_count": null,
      "metadata": {
        "id": "3ND0tttFNedE"
      },
      "outputs": [],
      "source": [
        "df.dropna()"
      ]
    },
    {
      "cell_type": "code",
      "execution_count": null,
      "metadata": {
        "id": "TttcN4N9NedF"
      },
      "outputs": [],
      "source": [
        "df.dropna(axis=1)"
      ]
    },
    {
      "cell_type": "code",
      "execution_count": null,
      "metadata": {
        "id": "MADmMEsmNedF"
      },
      "outputs": [],
      "source": [
        "df.dropna(thresh=2)"
      ]
    },
    {
      "cell_type": "code",
      "execution_count": null,
      "metadata": {
        "id": "o-9wcKBINedG"
      },
      "outputs": [],
      "source": [
        "df.fillna(value='Conteúdo')"
      ]
    },
    {
      "cell_type": "code",
      "execution_count": null,
      "metadata": {
        "id": "uRb-ujFkNedH"
      },
      "outputs": [],
      "source": [
        "df['A'].fillna(value=df['A'].mean())"
      ]
    },
    {
      "cell_type": "markdown",
      "metadata": {
        "id": "999mgq0xNedI"
      },
      "source": [
        "### Valores ausentes - Ambiente controlado\n",
        "\n",
        "A primeira coisa que devemos saber quando lidaremos com um conjunto de dados novos é: qual a quantidade e a proporção dos _missing values_ (dados ausentes)?\n",
        "\n",
        "Para identificar valores ausentes, por colunas, podemos:\n",
        "\n",
        "- Utilizar a função: **df.describe()** para retornar um resumo estatístico das variáveis numéricas;\n",
        "- Utilizar a função: **df.info()** para dar um resumo de valores não-nulos encontrados;\n",
        "- Utilizar a função: **df.isnull().sum()** para retornar a soma dos valores nulos encontrados.\n",
        "\n",
        "Usando essa última opção, veremos as 10 colunas com mais valores ausentes para esse dataset."
      ]
    },
    {
      "cell_type": "markdown",
      "metadata": {
        "id": "_jy-rCVxNedJ"
      },
      "source": [
        "Usaremos o dataset disponível em [Brasilian houses to rent](https://www.kaggle.com/rubenssjr/brasilian-houses-to-rent), que possui dados com imóveis para alugar no Brasil."
      ]
    },
    {
      "cell_type": "code",
      "execution_count": null,
      "metadata": {
        "id": "X9nbdgYBNedJ"
      },
      "outputs": [],
      "source": [
        "df = pd.read_csv('houses_to_rent_v2.csv')"
      ]
    },
    {
      "cell_type": "code",
      "execution_count": null,
      "metadata": {
        "id": "UQidP50hNedK"
      },
      "outputs": [],
      "source": [
        "df.describe()"
      ]
    },
    {
      "cell_type": "code",
      "execution_count": null,
      "metadata": {
        "id": "cHfEewWjNedK"
      },
      "outputs": [],
      "source": [
        "df.info()"
      ]
    },
    {
      "cell_type": "code",
      "execution_count": null,
      "metadata": {
        "id": "4L5WOBNnNedL"
      },
      "outputs": [],
      "source": [
        "df.isnull().sum()"
      ]
    },
    {
      "cell_type": "markdown",
      "metadata": {
        "id": "0y8BWkyiNedL"
      },
      "source": [
        "### Valores ausentes - Exluindo valores ausentes\n",
        "\n",
        "Esta é uma decisão mais radical, e deve ser feita apenas em casos os quais não haverão impactos significativos ao modelo. Ao eliminar uma linha inteira, você joga fora um monte de informação que poderia ser extremamente importante.\n",
        "\n",
        "Para fazer isso, utilize a função **df.dropna()**. Esse método é direto e remove os valores **NaN** encontrados no DataFrame.\n",
        "\n",
        "Por padrão, se o eixo não for informado, serão eliminadas todas as linhas relativas à celula contendo o valor ausente (df.dropna(axis=0)).\n",
        "\n",
        "Caso deseje eliminar uma coluna inteira onde existam **NaN**, deve-se informar explicitamente com **df.dropna(axis=1)**."
      ]
    },
    {
      "cell_type": "code",
      "execution_count": null,
      "metadata": {
        "id": "nv-Z9NSsNedM"
      },
      "outputs": [],
      "source": [
        "df.loc[df['rent amount (R$)'].isna()]"
      ]
    },
    {
      "cell_type": "code",
      "execution_count": null,
      "metadata": {
        "id": "bENTHCdUNedM"
      },
      "outputs": [],
      "source": [
        "shape_anterior = df.shape\n",
        "print(f'Shape anterior: {shape_anterior}')\n",
        "\n",
        "df.dropna(subset=['city'], inplace=True)\n",
        "print(f'Shape atual: {df.shape}')"
      ]
    },
    {
      "cell_type": "code",
      "execution_count": null,
      "metadata": {
        "id": "vImyPuloNedM"
      },
      "outputs": [],
      "source": [
        "df.columns"
      ]
    },
    {
      "cell_type": "markdown",
      "metadata": {
        "id": "qIekhvDlNedN"
      },
      "source": [
        "### Valores ausentes - Preenchendo com valores\n",
        "\n",
        "Esta abordagem é a mais utilizada, pois as informações úteis não seram removidas do _dataset_. Uma dúvida que pode surgir é: **qual valor utilizar para prencher os dados ausentes?**\n",
        "\n",
        "Existem técnicas avançadas que são combinadas com o preenchimento de valores como, por exemplo, analisar as correlações ou mesmo construir um modelo preditivo para informar os valores ausentes.\n",
        "\n",
        "Entretanto, uma abordagem direta e simples consiste em substituir os **NaN** pela mediana da coluna. Isso é feito mediante o método **df.fillna()**, informando o valor desejado como argumento."
      ]
    },
    {
      "cell_type": "code",
      "execution_count": null,
      "metadata": {
        "id": "e2Z7dpbGNedO"
      },
      "outputs": [],
      "source": [
        "df = pd.read_csv('houses_to_rent_v2.csv')\n",
        "\n",
        "median = df['rent amount (R$)'].median()\n",
        "df.fillna(median, inplace=True)\n",
        "\n",
        "df.isnull().sum()"
      ]
    },
    {
      "cell_type": "code",
      "execution_count": null,
      "metadata": {
        "id": "DFzw3J2CNedO"
      },
      "outputs": [],
      "source": [
        "df = pd.read_csv('houses_to_rent_v2.csv')\n",
        "\n",
        "median = df['rent amount (R$)'].median()\n",
        "print(f'A mediana é de R$: {median}')\n",
        "df['rent amount (R$)'].fillna(median, inplace=True)\n",
        "\n",
        "df.isnull().sum()"
      ]
    },
    {
      "cell_type": "code",
      "execution_count": null,
      "metadata": {
        "id": "TFNT931GNedP"
      },
      "outputs": [],
      "source": [
        "df.loc[df['rent amount (R$)'].isna()]"
      ]
    },
    {
      "cell_type": "code",
      "execution_count": null,
      "metadata": {
        "id": "6uj3NakANedP"
      },
      "outputs": [],
      "source": [
        "df.iloc[4]"
      ]
    },
    {
      "cell_type": "markdown",
      "metadata": {
        "id": "S8m89TxFNedP"
      },
      "source": [
        "### Valores ausentes - Preenchendo com o valor mais frequente\n",
        "\n",
        "Anteriormente, para preencher os valores ausentes usamos a mediana da coluna. Entretanto, caso a variável fosse categórica (e não numérica), poderíamos verificar qual o valor mais frequente e usar ele no preenchimento.\n",
        "\n",
        "Para identificar o valor mais frequente, basta usar o método **value_counts()**, extrair o maior valor e informar ele como argumento de **fillna()**."
      ]
    },
    {
      "cell_type": "code",
      "execution_count": null,
      "metadata": {
        "id": "NolVm3ldNedQ"
      },
      "outputs": [],
      "source": [
        "df = pd.read_csv('houses_to_rent_v2.csv')"
      ]
    },
    {
      "cell_type": "code",
      "execution_count": null,
      "metadata": {
        "id": "wbozMyrMNedQ"
      },
      "outputs": [],
      "source": [
        "df['rent amount (R$)'].value_counts().index[0]"
      ]
    },
    {
      "cell_type": "code",
      "execution_count": null,
      "metadata": {
        "id": "I4y7AAYWNedQ"
      },
      "outputs": [],
      "source": [
        "valor_frequente = df['rent amount (R$)'].value_counts().index[0]\n",
        "print(f'O valor mais frequente é: R$ {valor_frequente}')\n",
        "\n",
        "df['rent amount (R$)'].fillna(valor_frequente, inplace=True)"
      ]
    },
    {
      "cell_type": "code",
      "execution_count": null,
      "metadata": {
        "id": "djsE5sYjNedR"
      },
      "outputs": [],
      "source": [
        "df.iloc[4]"
      ]
    },
    {
      "cell_type": "code",
      "execution_count": null,
      "metadata": {
        "id": "C1HuyllSNedR"
      },
      "outputs": [],
      "source": [
        ""
      ]
    }
  ],
  "metadata": {
    "kernelspec": {
      "display_name": "Python 3",
      "language": "python",
      "name": "python3"
    },
    "language_info": {
      "codemirror_mode": {
        "name": "ipython",
        "version": 3
      },
      "file_extension": ".py",
      "mimetype": "text/x-python",
      "name": "python",
      "nbconvert_exporter": "python",
      "pygments_lexer": "ipython3",
      "version": "3.7.4"
    },
    "toc": {
      "base_numbering": 1,
      "nav_menu": {},
      "number_sections": true,
      "sideBar": true,
      "skip_h1_title": false,
      "title_cell": "Table of Contents",
      "title_sidebar": "Contents",
      "toc_cell": false,
      "toc_position": {},
      "toc_section_display": true,
      "toc_window_display": false
    },
    "colab": {
      "name": "03_1_2_Dados_Valores_Ausentes - Aula.ipynb",
      "provenance": []
    }
  },
  "nbformat": 4,
  "nbformat_minor": 0
}