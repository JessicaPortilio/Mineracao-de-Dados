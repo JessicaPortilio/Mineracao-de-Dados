{
  "cells": [
    {
      "cell_type": "markdown",
      "metadata": {
        "id": "sSoP8vr3k6c4"
      },
      "source": [
        "# Disciplina de Mineração de Dados\n",
        "\n",
        "## Introdução aos Pandas\n",
        "\n",
        "Universidade Federal de Sergipe, Campus Prof. Alberto Carvalho - Itabaiana\n",
        "\n",
        "Professores:\n",
        "\n",
        "- Raphael Silva Fontes\n",
        "\n",
        "- Prof. Dr. Methanias Colaço Rodrigues Júnior\n",
        "\n",
        "---\n",
        "\n",
        "### Lendo e escrevendo dados em formato texto\n",
        "\n",
        "| Função | Descrição |\n",
        "| --- | --- |\n",
        "| read_csv | Carrega dados delimitados de um arquivo, uma URl ou um objeto do tipo arquivo; utiliza vírgula como delimitador padrão.\n",
        "| read_table | Carrega dados delimitados de um arquivo, uma URl ou um objeto do tipo arquivo; utiliza a tabulação ('\\t') como delimitador padrão. | \n",
        "| read_fwf | Lê dados em formato de coluna com tamanho fixo; sem delimitadores |\n",
        "| read_clipboard | versão da função read_table que lê dados da área de transferência (clipboard, ctrl c); é bastante útil para converter tabelas de página web |\n",
        "| read_excel | Lê ddos tabulares de um arquivo Excel XLS ou XLSX |\n",
        "| read_hdf | Lê arquivos HDF5 escritos pelo pandas |\n",
        "| read_html | Lê todas as tabelas que se encontram no documento HTML especificado |\n",
        "| read_json | Lê dados de uma representação em string JSON |\n",
        "| read_msgpack | Lê dados codificados pelo pandas no formato binário MessagePack |\n",
        "| read_pickle | Lê um objeto arbitrário armazenado no formato pickle do Python |\n",
        "| read_sas | Lê um conjunto de dados SAS armazenados em um dos formatos personalizados do sistema SAS |\n",
        "| read_sql | Lê o resultado de uma consulta SQL na forma de DataFrame do Pandas; Utiliza o SQLAlchemy |\n",
        "| read_stata | Lê um conjunto de dados no formato de arquivo Stata |\n",
        "| read_feather | Lê o formato de arquivo binário Feather |"
      ]
    },
    {
      "cell_type": "markdown",
      "metadata": {
        "id": "_ymtFjXstBs7"
      },
      "source": [
        "Importamos o pacote pandas"
      ]
    },
    {
      "cell_type": "code",
      "execution_count": null,
      "metadata": {
        "id": "toPnrZvyLXbu"
      },
      "outputs": [],
      "source": [
        "import pandas as pd"
      ]
    },
    {
      "cell_type": "markdown",
      "metadata": {
        "id": "Km9KjxYLtIaf"
      },
      "source": [
        "Lembro o arquivo brazil_covid19_cities.csv e atribuimos-o a um DataFrame"
      ]
    },
    {
      "cell_type": "code",
      "execution_count": null,
      "metadata": {
        "id": "0dLuHS84k2En"
      },
      "outputs": [],
      "source": [
        "df = pd.read_csv('brazil_covid19_cities.csv')"
      ]
    },
    {
      "cell_type": "markdown",
      "metadata": {
        "id": "qXiTM9dItQF7"
      },
      "source": [
        "Apresentamos o cabeçalho do nosso DataFrame"
      ]
    },
    {
      "cell_type": "code",
      "execution_count": null,
      "metadata": {
        "colab": {
          "base_uri": "https://localhost:8080/",
          "height": 204
        },
        "id": "HS9lUWSFpP6R",
        "outputId": "c876d90a-78bc-4a5b-aeb7-02f44793e834"
      },
      "outputs": [
        {
          "data": {
            "text/html": [
              "<div>\n",
              "<style scoped>\n",
              "    .dataframe tbody tr th:only-of-type {\n",
              "        vertical-align: middle;\n",
              "    }\n",
              "\n",
              "    .dataframe tbody tr th {\n",
              "        vertical-align: top;\n",
              "    }\n",
              "\n",
              "    .dataframe thead th {\n",
              "        text-align: right;\n",
              "    }\n",
              "</style>\n",
              "<table border=\"1\" class=\"dataframe\">\n",
              "  <thead>\n",
              "    <tr style=\"text-align: right;\">\n",
              "      <th></th>\n",
              "      <th>date</th>\n",
              "      <th>state</th>\n",
              "      <th>name</th>\n",
              "      <th>code</th>\n",
              "      <th>cases</th>\n",
              "      <th>deaths</th>\n",
              "    </tr>\n",
              "  </thead>\n",
              "  <tbody>\n",
              "    <tr>\n",
              "      <th>0</th>\n",
              "      <td>2020-03-27</td>\n",
              "      <td>AC</td>\n",
              "      <td>Acrelândia</td>\n",
              "      <td>120001.0</td>\n",
              "      <td>0</td>\n",
              "      <td>0</td>\n",
              "    </tr>\n",
              "    <tr>\n",
              "      <th>1</th>\n",
              "      <td>2020-03-27</td>\n",
              "      <td>AC</td>\n",
              "      <td>Assis Brasil</td>\n",
              "      <td>120005.0</td>\n",
              "      <td>0</td>\n",
              "      <td>0</td>\n",
              "    </tr>\n",
              "    <tr>\n",
              "      <th>2</th>\n",
              "      <td>2020-03-27</td>\n",
              "      <td>AC</td>\n",
              "      <td>Brasiléia</td>\n",
              "      <td>120010.0</td>\n",
              "      <td>0</td>\n",
              "      <td>0</td>\n",
              "    </tr>\n",
              "    <tr>\n",
              "      <th>3</th>\n",
              "      <td>2020-03-27</td>\n",
              "      <td>AC</td>\n",
              "      <td>Bujari</td>\n",
              "      <td>120013.0</td>\n",
              "      <td>0</td>\n",
              "      <td>0</td>\n",
              "    </tr>\n",
              "    <tr>\n",
              "      <th>4</th>\n",
              "      <td>2020-03-27</td>\n",
              "      <td>AC</td>\n",
              "      <td>Capixaba</td>\n",
              "      <td>120017.0</td>\n",
              "      <td>0</td>\n",
              "      <td>0</td>\n",
              "    </tr>\n",
              "  </tbody>\n",
              "</table>\n",
              "</div>"
            ],
            "text/plain": [
              "         date state          name      code  cases  deaths\n",
              "0  2020-03-27    AC    Acrelândia  120001.0      0       0\n",
              "1  2020-03-27    AC  Assis Brasil  120005.0      0       0\n",
              "2  2020-03-27    AC     Brasiléia  120010.0      0       0\n",
              "3  2020-03-27    AC        Bujari  120013.0      0       0\n",
              "4  2020-03-27    AC      Capixaba  120017.0      0       0"
            ]
          },
          "execution_count": 3,
          "metadata": {
            "tags": []
          },
          "output_type": "execute_result"
        }
      ],
      "source": [
        "df.head()"
      ]
    },
    {
      "cell_type": "markdown",
      "metadata": {
        "id": "vsObIlzktrYc"
      },
      "source": [
        "Verificamos quantidade de linhas, colunas, tipos dos dados nas colunas e se há algum dado falando"
      ]
    },
    {
      "cell_type": "code",
      "execution_count": null,
      "metadata": {
        "colab": {
          "base_uri": "https://localhost:8080/"
        },
        "id": "1IFCkamhto62",
        "outputId": "9d623e62-1deb-41fc-d407-b6e435553eb3"
      },
      "outputs": [
        {
          "name": "stdout",
          "output_type": "stream",
          "text": [
            "<class 'pandas.core.frame.DataFrame'>\n",
            "RangeIndex: 1297810 entries, 0 to 1297809\n",
            "Data columns (total 6 columns):\n",
            " #   Column  Non-Null Count    Dtype  \n",
            "---  ------  --------------    -----  \n",
            " 0   date    1297810 non-null  object \n",
            " 1   state   1297810 non-null  object \n",
            " 2   name    1297810 non-null  object \n",
            " 3   code    1297810 non-null  float64\n",
            " 4   cases   1297810 non-null  int64  \n",
            " 5   deaths  1297810 non-null  int64  \n",
            "dtypes: float64(1), int64(2), object(3)\n",
            "memory usage: 59.4+ MB\n"
          ]
        }
      ],
      "source": [
        "df.info()"
      ]
    },
    {
      "cell_type": "markdown",
      "metadata": {
        "id": "l5wibtSOt0as"
      },
      "source": [
        "Verificamos como estão distribuidos os dados do nosso DataFrame"
      ]
    },
    {
      "cell_type": "code",
      "execution_count": null,
      "metadata": {
        "colab": {
          "base_uri": "https://localhost:8080/",
          "height": 297
        },
        "id": "mSdOdo2Nt0Dn",
        "outputId": "f2c70695-ecfe-490c-aab9-9e1c9c9699e5"
      },
      "outputs": [
        {
          "data": {
            "text/html": [
              "<div>\n",
              "<style scoped>\n",
              "    .dataframe tbody tr th:only-of-type {\n",
              "        vertical-align: middle;\n",
              "    }\n",
              "\n",
              "    .dataframe tbody tr th {\n",
              "        vertical-align: top;\n",
              "    }\n",
              "\n",
              "    .dataframe thead th {\n",
              "        text-align: right;\n",
              "    }\n",
              "</style>\n",
              "<table border=\"1\" class=\"dataframe\">\n",
              "  <thead>\n",
              "    <tr style=\"text-align: right;\">\n",
              "      <th></th>\n",
              "      <th>code</th>\n",
              "      <th>cases</th>\n",
              "      <th>deaths</th>\n",
              "    </tr>\n",
              "  </thead>\n",
              "  <tbody>\n",
              "    <tr>\n",
              "      <th>count</th>\n",
              "      <td>1.297810e+06</td>\n",
              "      <td>1.297810e+06</td>\n",
              "      <td>1.297810e+06</td>\n",
              "    </tr>\n",
              "    <tr>\n",
              "      <th>mean</th>\n",
              "      <td>3.253586e+05</td>\n",
              "      <td>4.414245e+02</td>\n",
              "      <td>1.435516e+01</td>\n",
              "    </tr>\n",
              "    <tr>\n",
              "      <th>std</th>\n",
              "      <td>9.848223e+04</td>\n",
              "      <td>3.885948e+03</td>\n",
              "      <td>1.842846e+02</td>\n",
              "    </tr>\n",
              "    <tr>\n",
              "      <th>min</th>\n",
              "      <td>1.100010e+05</td>\n",
              "      <td>0.000000e+00</td>\n",
              "      <td>0.000000e+00</td>\n",
              "    </tr>\n",
              "    <tr>\n",
              "      <th>25%</th>\n",
              "      <td>2.512100e+05</td>\n",
              "      <td>1.000000e+00</td>\n",
              "      <td>0.000000e+00</td>\n",
              "    </tr>\n",
              "    <tr>\n",
              "      <th>50%</th>\n",
              "      <td>3.146275e+05</td>\n",
              "      <td>3.300000e+01</td>\n",
              "      <td>1.000000e+00</td>\n",
              "    </tr>\n",
              "    <tr>\n",
              "      <th>75%</th>\n",
              "      <td>4.119200e+05</td>\n",
              "      <td>1.870000e+02</td>\n",
              "      <td>4.000000e+00</td>\n",
              "    </tr>\n",
              "    <tr>\n",
              "      <th>max</th>\n",
              "      <td>5.300100e+05</td>\n",
              "      <td>3.302660e+05</td>\n",
              "      <td>1.394900e+04</td>\n",
              "    </tr>\n",
              "  </tbody>\n",
              "</table>\n",
              "</div>"
            ],
            "text/plain": [
              "               code         cases        deaths\n",
              "count  1.297810e+06  1.297810e+06  1.297810e+06\n",
              "mean   3.253586e+05  4.414245e+02  1.435516e+01\n",
              "std    9.848223e+04  3.885948e+03  1.842846e+02\n",
              "min    1.100010e+05  0.000000e+00  0.000000e+00\n",
              "25%    2.512100e+05  1.000000e+00  0.000000e+00\n",
              "50%    3.146275e+05  3.300000e+01  1.000000e+00\n",
              "75%    4.119200e+05  1.870000e+02  4.000000e+00\n",
              "max    5.300100e+05  3.302660e+05  1.394900e+04"
            ]
          },
          "execution_count": 5,
          "metadata": {
            "tags": []
          },
          "output_type": "execute_result"
        }
      ],
      "source": [
        "df.describe()"
      ]
    },
    {
      "cell_type": "markdown",
      "metadata": {
        "id": "E_ONaRdwuCpR"
      },
      "source": [
        "Buscamos os estados que estão presentes"
      ]
    },
    {
      "cell_type": "code",
      "execution_count": null,
      "metadata": {
        "colab": {
          "base_uri": "https://localhost:8080/"
        },
        "id": "ofq7LcSMpRK3",
        "outputId": "bb177814-8103-430b-8d88-187f8c44dad4"
      },
      "outputs": [
        {
          "data": {
            "text/plain": [
              "array(['AC', 'AL', 'AM', 'AP', 'BA', 'CE', 'DF', 'ES', 'GO', 'MA', 'MG',\n",
              "       'MS', 'MT', 'PA', 'PB', 'PE', 'PI', 'PR', 'RJ', 'RN', 'RO', 'RR',\n",
              "       'RS', 'SC', 'SE', 'SP', 'TO'], dtype=object)"
            ]
          },
          "execution_count": 6,
          "metadata": {
            "tags": []
          },
          "output_type": "execute_result"
        }
      ],
      "source": [
        "df['state'].unique()"
      ]
    },
    {
      "cell_type": "markdown",
      "metadata": {
        "id": "Wakeo2-buXLw"
      },
      "source": [
        "Selecionamos um estado para explorarmos os seus dados"
      ]
    },
    {
      "cell_type": "code",
      "execution_count": null,
      "metadata": {
        "id": "5i-tM_usuNVt"
      },
      "outputs": [],
      "source": [
        "df_sergipe = df.loc[df['state'] == 'SE']"
      ]
    },
    {
      "cell_type": "markdown",
      "metadata": {
        "id": "pRpHxfEUugMm"
      },
      "source": [
        "Verificamos quantos e quais municípios estão presentes"
      ]
    },
    {
      "cell_type": "code",
      "execution_count": null,
      "metadata": {
        "colab": {
          "base_uri": "https://localhost:8080/"
        },
        "id": "9_xTcXCLufJD",
        "outputId": "44c49e3d-5414-4359-f8fb-3c8eabe34182"
      },
      "outputs": [
        {
          "data": {
            "text/plain": [
              "(array(['Amparo de São Francisco', 'Aquidabã', 'Aracaju', 'Arauá',\n",
              "        'Areia Branca', 'Barra dos Coqueiros', 'Boquim', 'Brejo Grande',\n",
              "        'Campo do Brito', 'Canhoba', 'Canindé de São Francisco', 'Capela',\n",
              "        'Carira', 'Carmópolis', 'Cedro de São João', 'Cristinápolis',\n",
              "        'Cumbe', 'Divina Pastora', 'Estância', 'Feira Nova', 'Frei Paulo',\n",
              "        'Gararu', 'General Maynard', 'Gracho Cardoso', 'Ilha das Flores',\n",
              "        'Indiaroba', 'Itabaiana', 'Itabaianinha', 'Itabi',\n",
              "        \"Itaporanga d'Ajuda\", 'Japaratuba', 'Japoatã', 'Lagarto',\n",
              "        'Laranjeiras', 'Macambira', 'Malhada dos Bois', 'Malhador',\n",
              "        'Maruim', 'Moita Bonita', 'Monte Alegre de Sergipe', 'Muribeca',\n",
              "        'Neópolis', 'Nossa Senhora Aparecida', 'Nossa Senhora da Glória',\n",
              "        'Nossa Senhora das Dores', 'Nossa Senhora de Lourdes',\n",
              "        'Nossa Senhora do Socorro', 'Pacatuba', 'Pedra Mole', 'Pedrinhas',\n",
              "        'Pinhão', 'Pirambu', 'Poço Redondo', 'Poço Verde',\n",
              "        'Porto da Folha', 'Propriá', 'Riachão do Dantas', 'Riachuelo',\n",
              "        'Ribeirópolis', 'Rosário do Catete', 'Salgado',\n",
              "        'Santa Luzia do Itanhy', 'Santana do São Francisco',\n",
              "        'Santa Rosa de Lima', 'Santo Amaro das Brotas', 'São Cristóvão',\n",
              "        'São Domingos', 'São Francisco', 'São Miguel do Aleixo',\n",
              "        'Simão Dias', 'Siriri', 'Telha', 'Tobias Barreto', 'Tomar do Geru',\n",
              "        'Umbaúba'], dtype=object), 75)"
            ]
          },
          "execution_count": 21,
          "metadata": {
            "tags": []
          },
          "output_type": "execute_result"
        }
      ],
      "source": [
        "df_sergipe['name'].unique(), len(df_sergipe['name'].unique())"
      ]
    },
    {
      "cell_type": "markdown",
      "metadata": {
        "id": "5TmPC7x6fiMk"
      },
      "source": [
        "Vamos observar como foi o crescimento de casos no estado por dia."
      ]
    },
    {
      "cell_type": "code",
      "execution_count": null,
      "metadata": {
        "colab": {
          "base_uri": "https://localhost:8080/",
          "height": 419
        },
        "id": "1fVAZWURfi15",
        "outputId": "16e247e0-c211-457d-bae0-6bc995f62957"
      },
      "outputs": [
        {
          "data": {
            "text/html": [
              "<div>\n",
              "<style scoped>\n",
              "    .dataframe tbody tr th:only-of-type {\n",
              "        vertical-align: middle;\n",
              "    }\n",
              "\n",
              "    .dataframe tbody tr th {\n",
              "        vertical-align: top;\n",
              "    }\n",
              "\n",
              "    .dataframe thead th {\n",
              "        text-align: right;\n",
              "    }\n",
              "</style>\n",
              "<table border=\"1\" class=\"dataframe\">\n",
              "  <thead>\n",
              "    <tr style=\"text-align: right;\">\n",
              "      <th></th>\n",
              "      <th>date</th>\n",
              "      <th>code</th>\n",
              "      <th>cases</th>\n",
              "      <th>deaths</th>\n",
              "      <th>mes</th>\n",
              "      <th>new_cases</th>\n",
              "      <th>new_deaths</th>\n",
              "    </tr>\n",
              "  </thead>\n",
              "  <tbody>\n",
              "    <tr>\n",
              "      <th>0</th>\n",
              "      <td>2020-03-27</td>\n",
              "      <td>21029422.0</td>\n",
              "      <td>0</td>\n",
              "      <td>0</td>\n",
              "      <td>225</td>\n",
              "      <td>0.0</td>\n",
              "      <td>0.0</td>\n",
              "    </tr>\n",
              "    <tr>\n",
              "      <th>1</th>\n",
              "      <td>2020-03-28</td>\n",
              "      <td>21029422.0</td>\n",
              "      <td>16</td>\n",
              "      <td>0</td>\n",
              "      <td>225</td>\n",
              "      <td>0.0</td>\n",
              "      <td>0.0</td>\n",
              "    </tr>\n",
              "    <tr>\n",
              "      <th>2</th>\n",
              "      <td>2020-03-29</td>\n",
              "      <td>21029422.0</td>\n",
              "      <td>16</td>\n",
              "      <td>0</td>\n",
              "      <td>225</td>\n",
              "      <td>0.0</td>\n",
              "      <td>0.0</td>\n",
              "    </tr>\n",
              "    <tr>\n",
              "      <th>3</th>\n",
              "      <td>2020-03-30</td>\n",
              "      <td>21029422.0</td>\n",
              "      <td>16</td>\n",
              "      <td>0</td>\n",
              "      <td>225</td>\n",
              "      <td>0.0</td>\n",
              "      <td>0.0</td>\n",
              "    </tr>\n",
              "    <tr>\n",
              "      <th>4</th>\n",
              "      <td>2020-03-31</td>\n",
              "      <td>21029422.0</td>\n",
              "      <td>19</td>\n",
              "      <td>0</td>\n",
              "      <td>225</td>\n",
              "      <td>0.0</td>\n",
              "      <td>0.0</td>\n",
              "    </tr>\n",
              "    <tr>\n",
              "      <th>...</th>\n",
              "      <td>...</td>\n",
              "      <td>...</td>\n",
              "      <td>...</td>\n",
              "      <td>...</td>\n",
              "      <td>...</td>\n",
              "      <td>...</td>\n",
              "      <td>...</td>\n",
              "    </tr>\n",
              "    <tr>\n",
              "      <th>228</th>\n",
              "      <td>2020-11-10</td>\n",
              "      <td>21029422.0</td>\n",
              "      <td>85574</td>\n",
              "      <td>2246</td>\n",
              "      <td>825</td>\n",
              "      <td>0.0</td>\n",
              "      <td>0.0</td>\n",
              "    </tr>\n",
              "    <tr>\n",
              "      <th>229</th>\n",
              "      <td>2020-11-11</td>\n",
              "      <td>21029422.0</td>\n",
              "      <td>85643</td>\n",
              "      <td>2247</td>\n",
              "      <td>825</td>\n",
              "      <td>0.0</td>\n",
              "      <td>0.0</td>\n",
              "    </tr>\n",
              "    <tr>\n",
              "      <th>230</th>\n",
              "      <td>2020-11-12</td>\n",
              "      <td>21029422.0</td>\n",
              "      <td>85804</td>\n",
              "      <td>2250</td>\n",
              "      <td>825</td>\n",
              "      <td>0.0</td>\n",
              "      <td>0.0</td>\n",
              "    </tr>\n",
              "    <tr>\n",
              "      <th>231</th>\n",
              "      <td>2020-11-13</td>\n",
              "      <td>21029422.0</td>\n",
              "      <td>85893</td>\n",
              "      <td>2254</td>\n",
              "      <td>825</td>\n",
              "      <td>0.0</td>\n",
              "      <td>0.0</td>\n",
              "    </tr>\n",
              "    <tr>\n",
              "      <th>232</th>\n",
              "      <td>2020-11-14</td>\n",
              "      <td>21029422.0</td>\n",
              "      <td>85980</td>\n",
              "      <td>2257</td>\n",
              "      <td>825</td>\n",
              "      <td>1.0</td>\n",
              "      <td>0.0</td>\n",
              "    </tr>\n",
              "  </tbody>\n",
              "</table>\n",
              "<p>233 rows × 7 columns</p>\n",
              "</div>"
            ],
            "text/plain": [
              "           date        code  cases  deaths  mes  new_cases  new_deaths\n",
              "0    2020-03-27  21029422.0      0       0  225        0.0         0.0\n",
              "1    2020-03-28  21029422.0     16       0  225        0.0         0.0\n",
              "2    2020-03-29  21029422.0     16       0  225        0.0         0.0\n",
              "3    2020-03-30  21029422.0     16       0  225        0.0         0.0\n",
              "4    2020-03-31  21029422.0     19       0  225        0.0         0.0\n",
              "..          ...         ...    ...     ...  ...        ...         ...\n",
              "228  2020-11-10  21029422.0  85574    2246  825        0.0         0.0\n",
              "229  2020-11-11  21029422.0  85643    2247  825        0.0         0.0\n",
              "230  2020-11-12  21029422.0  85804    2250  825        0.0         0.0\n",
              "231  2020-11-13  21029422.0  85893    2254  825        0.0         0.0\n",
              "232  2020-11-14  21029422.0  85980    2257  825        1.0         0.0\n",
              "\n",
              "[233 rows x 7 columns]"
            ]
          },
          "execution_count": 42,
          "metadata": {
            "tags": []
          },
          "output_type": "execute_result"
        }
      ],
      "source": [
        "df_sergipe.groupby('date', as_index=False).sum()"
      ]
    },
    {
      "cell_type": "markdown",
      "metadata": {
        "id": "SSef44OavAdC"
      },
      "source": [
        "Vamos observar como foi o crescimento de casos no estado por mês.\n",
        "\n",
        "Para atender a esse objetivo, devemos:\n",
        "- Criar uma nova coluna para selecionar o mês do registro;\n",
        "- Converter essa coluna para inteiro, com o intuíto de evitar ordenação por ordem alfabetica ao invés de númerica;\n",
        "- Coletar o último dia do mês que teve relatório;\n",
        "- Ordenar o agrupamento por ordem cronológica."
      ]
    },
    {
      "cell_type": "markdown",
      "metadata": {
        "id": "mu15bRauvlx3"
      },
      "source": [
        "Criar uma nova coluna para selecionar o mês do registro"
      ]
    },
    {
      "cell_type": "code",
      "execution_count": null,
      "metadata": {
        "colab": {
          "base_uri": "https://localhost:8080/"
        },
        "id": "B7ykiVqluw3R",
        "outputId": "a27debfc-511d-499a-c328-ec3a5b1435ed"
      },
      "outputs": [
        {
          "name": "stderr",
          "output_type": "stream",
          "text": [
            "/usr/local/lib/python3.6/dist-packages/ipykernel_launcher.py:1: SettingWithCopyWarning: \n",
            "A value is trying to be set on a copy of a slice from a DataFrame.\n",
            "Try using .loc[row_indexer,col_indexer] = value instead\n",
            "\n",
            "See the caveats in the documentation: https://pandas.pydata.org/pandas-docs/stable/user_guide/indexing.html#returning-a-view-versus-a-copy\n",
            "  \"\"\"Entry point for launching an IPython kernel.\n"
          ]
        }
      ],
      "source": [
        "df_sergipe['mes'] = df_sergipe['date'].apply(lambda row: int(row.split('-')[1]))"
      ]
    },
    {
      "cell_type": "markdown",
      "metadata": {
        "id": "wIZX3hiewFBM"
      },
      "source": [
        "Vamos conferir se o mês foi extraído corretamente"
      ]
    },
    {
      "cell_type": "code",
      "execution_count": null,
      "metadata": {
        "colab": {
          "base_uri": "https://localhost:8080/",
          "height": 204
        },
        "id": "b0FI6PXuwBvi",
        "outputId": "93584636-5aeb-45b2-b407-6488316fb716"
      },
      "outputs": [
        {
          "data": {
            "text/html": [
              "<div>\n",
              "<style scoped>\n",
              "    .dataframe tbody tr th:only-of-type {\n",
              "        vertical-align: middle;\n",
              "    }\n",
              "\n",
              "    .dataframe tbody tr th {\n",
              "        vertical-align: top;\n",
              "    }\n",
              "\n",
              "    .dataframe thead th {\n",
              "        text-align: right;\n",
              "    }\n",
              "</style>\n",
              "<table border=\"1\" class=\"dataframe\">\n",
              "  <thead>\n",
              "    <tr style=\"text-align: right;\">\n",
              "      <th></th>\n",
              "      <th>date</th>\n",
              "      <th>state</th>\n",
              "      <th>name</th>\n",
              "      <th>code</th>\n",
              "      <th>cases</th>\n",
              "      <th>deaths</th>\n",
              "      <th>mes</th>\n",
              "    </tr>\n",
              "  </thead>\n",
              "  <tbody>\n",
              "    <tr>\n",
              "      <th>4711</th>\n",
              "      <td>2020-03-27</td>\n",
              "      <td>SE</td>\n",
              "      <td>Amparo de São Francisco</td>\n",
              "      <td>280010.0</td>\n",
              "      <td>0</td>\n",
              "      <td>0</td>\n",
              "      <td>3</td>\n",
              "    </tr>\n",
              "    <tr>\n",
              "      <th>4712</th>\n",
              "      <td>2020-03-27</td>\n",
              "      <td>SE</td>\n",
              "      <td>Aquidabã</td>\n",
              "      <td>280020.0</td>\n",
              "      <td>0</td>\n",
              "      <td>0</td>\n",
              "      <td>3</td>\n",
              "    </tr>\n",
              "    <tr>\n",
              "      <th>4713</th>\n",
              "      <td>2020-03-27</td>\n",
              "      <td>SE</td>\n",
              "      <td>Aracaju</td>\n",
              "      <td>280030.0</td>\n",
              "      <td>0</td>\n",
              "      <td>0</td>\n",
              "      <td>3</td>\n",
              "    </tr>\n",
              "    <tr>\n",
              "      <th>4714</th>\n",
              "      <td>2020-03-27</td>\n",
              "      <td>SE</td>\n",
              "      <td>Arauá</td>\n",
              "      <td>280040.0</td>\n",
              "      <td>0</td>\n",
              "      <td>0</td>\n",
              "      <td>3</td>\n",
              "    </tr>\n",
              "    <tr>\n",
              "      <th>4715</th>\n",
              "      <td>2020-03-27</td>\n",
              "      <td>SE</td>\n",
              "      <td>Areia Branca</td>\n",
              "      <td>280050.0</td>\n",
              "      <td>0</td>\n",
              "      <td>0</td>\n",
              "      <td>3</td>\n",
              "    </tr>\n",
              "  </tbody>\n",
              "</table>\n",
              "</div>"
            ],
            "text/plain": [
              "            date state                     name      code  cases  deaths  mes\n",
              "4711  2020-03-27    SE  Amparo de São Francisco  280010.0      0       0    3\n",
              "4712  2020-03-27    SE                 Aquidabã  280020.0      0       0    3\n",
              "4713  2020-03-27    SE                  Aracaju  280030.0      0       0    3\n",
              "4714  2020-03-27    SE                    Arauá  280040.0      0       0    3\n",
              "4715  2020-03-27    SE             Areia Branca  280050.0      0       0    3"
            ]
          },
          "execution_count": 23,
          "metadata": {
            "tags": []
          },
          "output_type": "execute_result"
        }
      ],
      "source": [
        "df_sergipe.head()"
      ]
    },
    {
      "cell_type": "markdown",
      "metadata": {
        "id": "tB_D-1lASvON"
      },
      "source": [
        "Criaremos um método para coletar o valor correspondente de casos no mês por município.\n",
        "Como os dados são diários e incrementais, se somarmos os dados teremos um valor que não corresponde com a realidade.\n",
        "Existem algumas formas de fazer isso:\n",
        "\n",
        "1. Agrupar os dados por mês, retornando a data do valor máximo. Dessa forma, teremos a última data do mês;\n",
        "2. Realizar a diferença dos dias (para contabilizar o crescimento). Desse método, será possível saber a diferença de casos entre os dias e apontar um crescimento ou declinio no quantitativo de casos."
      ]
    },
    {
      "cell_type": "markdown",
      "metadata": {
        "id": "timKV1l5UQu5"
      },
      "source": [
        "**Método 1**"
      ]
    },
    {
      "cell_type": "code",
      "execution_count": null,
      "metadata": {
        "id": "AYFPTj_mwDvU"
      },
      "outputs": [],
      "source": [
        "ultimos_relatorios = df_sergipe.groupby('mes', as_index=False).max()['date']\n",
        "casos_cidades = []\n",
        "\n",
        "for relatorio in ultimos_relatorios:\n",
        "    cidades = df_sergipe.loc[df_sergipe['date'] == relatorio]\n",
        "    for i, cidade in cidades.iterrows():\n",
        "        casos_cidades.append([cidade['name'], cidade['code'], cidade['cases'], \n",
        "                            cidade['deaths'], cidade['mes']])\n",
        "\n",
        "df_sergipe_1 = pd.DataFrame(casos_cidades, columns=['cidade', 'codigo', 'casos', 'obitos', 'mes'])"
      ]
    },
    {
      "cell_type": "markdown",
      "metadata": {
        "id": "RQtJ9elhUUZi"
      },
      "source": [
        "**Método 2**\n",
        "\n",
        "Utilize a função diff()"
      ]
    },
    {
      "cell_type": "markdown",
      "metadata": {
        "id": "NfQ7e0feT5ll"
      },
      "source": [
        "Conferimos como ficaram os dados"
      ]
    },
    {
      "cell_type": "code",
      "execution_count": null,
      "metadata": {
        "colab": {
          "base_uri": "https://localhost:8080/",
          "height": 204
        },
        "id": "uAUFi4LIW0bV",
        "outputId": "3a067944-3579-4477-9cf1-02c44cdd99fb"
      },
      "outputs": [
        {
          "data": {
            "text/html": [
              "<div>\n",
              "<style scoped>\n",
              "    .dataframe tbody tr th:only-of-type {\n",
              "        vertical-align: middle;\n",
              "    }\n",
              "\n",
              "    .dataframe tbody tr th {\n",
              "        vertical-align: top;\n",
              "    }\n",
              "\n",
              "    .dataframe thead th {\n",
              "        text-align: right;\n",
              "    }\n",
              "</style>\n",
              "<table border=\"1\" class=\"dataframe\">\n",
              "  <thead>\n",
              "    <tr style=\"text-align: right;\">\n",
              "      <th></th>\n",
              "      <th>cidade</th>\n",
              "      <th>codigo</th>\n",
              "      <th>casos</th>\n",
              "      <th>obitos</th>\n",
              "      <th>mes</th>\n",
              "    </tr>\n",
              "  </thead>\n",
              "  <tbody>\n",
              "    <tr>\n",
              "      <th>0</th>\n",
              "      <td>Amparo de São Francisco</td>\n",
              "      <td>280010.0</td>\n",
              "      <td>0</td>\n",
              "      <td>0</td>\n",
              "      <td>3</td>\n",
              "    </tr>\n",
              "    <tr>\n",
              "      <th>1</th>\n",
              "      <td>Aquidabã</td>\n",
              "      <td>280020.0</td>\n",
              "      <td>0</td>\n",
              "      <td>0</td>\n",
              "      <td>3</td>\n",
              "    </tr>\n",
              "    <tr>\n",
              "      <th>2</th>\n",
              "      <td>Aracaju</td>\n",
              "      <td>280030.0</td>\n",
              "      <td>16</td>\n",
              "      <td>0</td>\n",
              "      <td>3</td>\n",
              "    </tr>\n",
              "    <tr>\n",
              "      <th>3</th>\n",
              "      <td>Arauá</td>\n",
              "      <td>280040.0</td>\n",
              "      <td>0</td>\n",
              "      <td>0</td>\n",
              "      <td>3</td>\n",
              "    </tr>\n",
              "    <tr>\n",
              "      <th>4</th>\n",
              "      <td>Areia Branca</td>\n",
              "      <td>280050.0</td>\n",
              "      <td>0</td>\n",
              "      <td>0</td>\n",
              "      <td>3</td>\n",
              "    </tr>\n",
              "  </tbody>\n",
              "</table>\n",
              "</div>"
            ],
            "text/plain": [
              "                    cidade    codigo  casos  obitos  mes\n",
              "0  Amparo de São Francisco  280010.0      0       0    3\n",
              "1                 Aquidabã  280020.0      0       0    3\n",
              "2                  Aracaju  280030.0     16       0    3\n",
              "3                    Arauá  280040.0      0       0    3\n",
              "4             Areia Branca  280050.0      0       0    3"
            ]
          },
          "execution_count": 32,
          "metadata": {
            "tags": []
          },
          "output_type": "execute_result"
        }
      ],
      "source": [
        "df_sergipe_1.head()"
      ]
    },
    {
      "cell_type": "markdown",
      "metadata": {
        "id": "yj7kxGryUAnq"
      },
      "source": [
        "Agora podemos fazer um agrupamento por mês dos casos de todos os municípios, efetuando a soma dos valores."
      ]
    },
    {
      "cell_type": "code",
      "execution_count": null,
      "metadata": {
        "colab": {
          "base_uri": "https://localhost:8080/",
          "height": 328
        },
        "id": "eFvIILAnzMqm",
        "outputId": "d6ade907-36f1-44f5-f0c9-d061233038bd"
      },
      "outputs": [
        {
          "data": {
            "text/html": [
              "<div>\n",
              "<style scoped>\n",
              "    .dataframe tbody tr th:only-of-type {\n",
              "        vertical-align: middle;\n",
              "    }\n",
              "\n",
              "    .dataframe tbody tr th {\n",
              "        vertical-align: top;\n",
              "    }\n",
              "\n",
              "    .dataframe thead th {\n",
              "        text-align: right;\n",
              "    }\n",
              "</style>\n",
              "<table border=\"1\" class=\"dataframe\">\n",
              "  <thead>\n",
              "    <tr style=\"text-align: right;\">\n",
              "      <th></th>\n",
              "      <th>mes</th>\n",
              "      <th>casos</th>\n",
              "      <th>obitos</th>\n",
              "    </tr>\n",
              "  </thead>\n",
              "  <tbody>\n",
              "    <tr>\n",
              "      <th>0</th>\n",
              "      <td>3</td>\n",
              "      <td>19</td>\n",
              "      <td>0</td>\n",
              "    </tr>\n",
              "    <tr>\n",
              "      <th>1</th>\n",
              "      <td>4</td>\n",
              "      <td>447</td>\n",
              "      <td>12</td>\n",
              "    </tr>\n",
              "    <tr>\n",
              "      <th>2</th>\n",
              "      <td>5</td>\n",
              "      <td>6999</td>\n",
              "      <td>158</td>\n",
              "    </tr>\n",
              "    <tr>\n",
              "      <th>3</th>\n",
              "      <td>6</td>\n",
              "      <td>25411</td>\n",
              "      <td>676</td>\n",
              "    </tr>\n",
              "    <tr>\n",
              "      <th>4</th>\n",
              "      <td>7</td>\n",
              "      <td>58713</td>\n",
              "      <td>1434</td>\n",
              "    </tr>\n",
              "    <tr>\n",
              "      <th>5</th>\n",
              "      <td>8</td>\n",
              "      <td>72528</td>\n",
              "      <td>1857</td>\n",
              "    </tr>\n",
              "    <tr>\n",
              "      <th>6</th>\n",
              "      <td>9</td>\n",
              "      <td>77440</td>\n",
              "      <td>2036</td>\n",
              "    </tr>\n",
              "    <tr>\n",
              "      <th>7</th>\n",
              "      <td>10</td>\n",
              "      <td>84326</td>\n",
              "      <td>2206</td>\n",
              "    </tr>\n",
              "    <tr>\n",
              "      <th>8</th>\n",
              "      <td>11</td>\n",
              "      <td>85980</td>\n",
              "      <td>2257</td>\n",
              "    </tr>\n",
              "  </tbody>\n",
              "</table>\n",
              "</div>"
            ],
            "text/plain": [
              "   mes  casos  obitos\n",
              "0    3     19       0\n",
              "1    4    447      12\n",
              "2    5   6999     158\n",
              "3    6  25411     676\n",
              "4    7  58713    1434\n",
              "5    8  72528    1857\n",
              "6    9  77440    2036\n",
              "7   10  84326    2206\n",
              "8   11  85980    2257"
            ]
          },
          "execution_count": 33,
          "metadata": {
            "tags": []
          },
          "output_type": "execute_result"
        }
      ],
      "source": [
        "df_sergipe_1[['mes', 'casos', 'obitos']].groupby('mes', as_index=False).sum()"
      ]
    },
    {
      "cell_type": "markdown",
      "metadata": {
        "id": "iypnJ7OyXAVL"
      },
      "source": [
        "Assim como também é possível ver o crescimento por cidade:"
      ]
    },
    {
      "cell_type": "code",
      "execution_count": null,
      "metadata": {
        "colab": {
          "base_uri": "https://localhost:8080/",
          "height": 328
        },
        "id": "A4KeTk7DzTPH",
        "outputId": "cdc8256e-3d1f-4622-802b-6b4c4f68afe6"
      },
      "outputs": [
        {
          "data": {
            "text/html": [
              "<div>\n",
              "<style scoped>\n",
              "    .dataframe tbody tr th:only-of-type {\n",
              "        vertical-align: middle;\n",
              "    }\n",
              "\n",
              "    .dataframe tbody tr th {\n",
              "        vertical-align: top;\n",
              "    }\n",
              "\n",
              "    .dataframe thead th {\n",
              "        text-align: right;\n",
              "    }\n",
              "</style>\n",
              "<table border=\"1\" class=\"dataframe\">\n",
              "  <thead>\n",
              "    <tr style=\"text-align: right;\">\n",
              "      <th></th>\n",
              "      <th>mes</th>\n",
              "      <th>casos</th>\n",
              "      <th>obitos</th>\n",
              "    </tr>\n",
              "  </thead>\n",
              "  <tbody>\n",
              "    <tr>\n",
              "      <th>0</th>\n",
              "      <td>3</td>\n",
              "      <td>0</td>\n",
              "      <td>0</td>\n",
              "    </tr>\n",
              "    <tr>\n",
              "      <th>1</th>\n",
              "      <td>4</td>\n",
              "      <td>14</td>\n",
              "      <td>0</td>\n",
              "    </tr>\n",
              "    <tr>\n",
              "      <th>2</th>\n",
              "      <td>5</td>\n",
              "      <td>288</td>\n",
              "      <td>4</td>\n",
              "    </tr>\n",
              "    <tr>\n",
              "      <th>3</th>\n",
              "      <td>6</td>\n",
              "      <td>1112</td>\n",
              "      <td>21</td>\n",
              "    </tr>\n",
              "    <tr>\n",
              "      <th>4</th>\n",
              "      <td>7</td>\n",
              "      <td>3207</td>\n",
              "      <td>67</td>\n",
              "    </tr>\n",
              "    <tr>\n",
              "      <th>5</th>\n",
              "      <td>8</td>\n",
              "      <td>4311</td>\n",
              "      <td>83</td>\n",
              "    </tr>\n",
              "    <tr>\n",
              "      <th>6</th>\n",
              "      <td>9</td>\n",
              "      <td>4615</td>\n",
              "      <td>90</td>\n",
              "    </tr>\n",
              "    <tr>\n",
              "      <th>7</th>\n",
              "      <td>10</td>\n",
              "      <td>4797</td>\n",
              "      <td>94</td>\n",
              "    </tr>\n",
              "    <tr>\n",
              "      <th>8</th>\n",
              "      <td>11</td>\n",
              "      <td>4835</td>\n",
              "      <td>97</td>\n",
              "    </tr>\n",
              "  </tbody>\n",
              "</table>\n",
              "</div>"
            ],
            "text/plain": [
              "   mes  casos  obitos\n",
              "0    3      0       0\n",
              "1    4     14       0\n",
              "2    5    288       4\n",
              "3    6   1112      21\n",
              "4    7   3207      67\n",
              "5    8   4311      83\n",
              "6    9   4615      90\n",
              "7   10   4797      94\n",
              "8   11   4835      97"
            ]
          },
          "execution_count": 39,
          "metadata": {
            "tags": []
          },
          "output_type": "execute_result"
        }
      ],
      "source": [
        "df_sergipe_1[['cidade', 'mes', 'casos', 'obitos']].loc[df_sergipe_1['cidade'] == 'Itabaiana'].groupby('mes', as_index=False).sum()"
      ]
    },
    {
      "cell_type": "code",
      "execution_count": null,
      "metadata": {
        "id": "4GFTdTl0XDfN"
      },
      "outputs": [],
      "source": [
        ""
      ]
    }
  ],
  "metadata": {
    "colab": {
      "name": "03_1_1_Dados_Coletando_e_Explorando - Exercício.ipynb",
      "provenance": [],
      "toc_visible": true
    },
    "kernelspec": {
      "display_name": "Python 3",
      "language": "python",
      "name": "python3"
    },
    "toc": {
      "base_numbering": 1,
      "nav_menu": {},
      "number_sections": true,
      "sideBar": true,
      "skip_h1_title": false,
      "title_cell": "Table of Contents",
      "title_sidebar": "Contents",
      "toc_cell": false,
      "toc_position": {},
      "toc_section_display": true,
      "toc_window_display": false
    }
  },
  "nbformat": 4,
  "nbformat_minor": 0
}